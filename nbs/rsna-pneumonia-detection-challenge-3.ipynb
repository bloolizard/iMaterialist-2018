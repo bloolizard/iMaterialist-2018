{
 "cells": [
  {
   "cell_type": "code",
   "execution_count": 1,
   "metadata": {},
   "outputs": [],
   "source": [
    "import pandas as pd\n",
    "import numpy as np\n",
    "import pydicom\n",
    "import os\n",
    "import matplotlib.pyplot as plt\n",
    "from matplotlib.patches import Rectangle\n",
    "from multiprocessing import Pool, cpu_count\n",
    "from matplotlib import patches, patheffects\n",
    "import math\n",
    "from pathlib import Path\n",
    "\n",
    "from fastai.dataset import *\n",
    "from fastai.conv_learner import *\n",
    "from fastai.imports import *\n",
    "from fastai.structured import *\n",
    "\n",
    "import pdb\n",
    "\n",
    "import pickle\n",
    "from sklearn.model_selection import train_test_split\n",
    "\n",
    "from IPython.display import FileLink\n",
    "% load_ext autoreload\n",
    "% autoreload 2\n",
    "% matplotlib inline"
   ]
  },
  {
   "cell_type": "code",
   "execution_count": 2,
   "metadata": {},
   "outputs": [],
   "source": [
    "ddir = \"/home/edwin/Datasets/competitions/rsna-pneumonia-detection-challenge\"\n",
    "rsna_path = Path(ddir)\n",
    "\n",
    "detailed_class_info_csv = pd.read_csv(rsna_path/'stage_1_detailed_class_info.csv')\n",
    "stage_1_sample_submission_csv = pd.read_csv(rsna_path/'stage_1_sample_submission.csv')\n",
    "stage_1_train_labels_csv = pd.read_csv(rsna_path/'stage_1_train_labels.csv')"
   ]
  },
  {
   "cell_type": "code",
   "execution_count": 3,
   "metadata": {},
   "outputs": [],
   "source": [
    "BBOX_CSV = '../tmp/rsna_bbox.csv'\n",
    "TRN = 'train'\n",
    "TEST = 'test2'"
   ]
  },
  {
   "cell_type": "code",
   "execution_count": 4,
   "metadata": {},
   "outputs": [],
   "source": [
    "f_model=resnet34\n",
    "sz=224\n",
    "bs=64\n",
    "\n",
    "tfms = tfms_from_model(f_model, sz, crop_type=CropType.NO, tfm_y=TfmType.COORD)"
   ]
  },
  {
   "cell_type": "code",
   "execution_count": 5,
   "metadata": {},
   "outputs": [],
   "source": [
    "md = ImageClassifierData.from_csv(rsna_path, TRN, BBOX_CSV, tfms=tfms, bs=64, test_name=TEST, continuous=True, suffix='.dcm')"
   ]
  },
  {
   "cell_type": "code",
   "execution_count": null,
   "metadata": {},
   "outputs": [],
   "source": [
    "# n_sample"
   ]
  },
  {
   "cell_type": "code",
   "execution_count": 6,
   "metadata": {},
   "outputs": [],
   "source": [
    "TRN_FILES = list((rsna_path/TRN).glob('*.dcm'))"
   ]
  },
  {
   "cell_type": "code",
   "execution_count": 7,
   "metadata": {},
   "outputs": [],
   "source": [
    "RANDOM_TRN_FILES = np.random.shuffle(TRN_FILES)"
   ]
  },
  {
   "cell_type": "code",
   "execution_count": 8,
   "metadata": {},
   "outputs": [],
   "source": [
    "n_sample = int(0.10 * len(TRN_FILES))"
   ]
  },
  {
   "cell_type": "code",
   "execution_count": null,
   "metadata": {},
   "outputs": [],
   "source": [
    "(rsna_path/'sample').mkdir(exist_ok=True)\n",
    "(rsna_path/'sample/train').mkdir(exist_ok=True)\n",
    "(rsna_path/'sample/test').mkdir(exist_ok=True)"
   ]
  },
  {
   "cell_type": "code",
   "execution_count": null,
   "metadata": {},
   "outputs": [],
   "source": [
    "! ls {rsna_path/'sample'}"
   ]
  },
  {
   "cell_type": "code",
   "execution_count": null,
   "metadata": {},
   "outputs": [],
   "source": [
    "len(stage_1_train_labels_csv)"
   ]
  },
  {
   "cell_type": "code",
   "execution_count": null,
   "metadata": {},
   "outputs": [],
   "source": [
    "df_sample = stage_1_train_labels_csv.sample(n=n_sample).reset_index(); len(df_sample)"
   ]
  },
  {
   "cell_type": "code",
   "execution_count": null,
   "metadata": {},
   "outputs": [],
   "source": [
    "SAMPLE_TRN_LABELS = '../tmp/rsna_train_sample.feather'"
   ]
  },
  {
   "cell_type": "code",
   "execution_count": null,
   "metadata": {},
   "outputs": [],
   "source": [
    "df_sample.to_feather(SAMPLE_TRN_LABELS)"
   ]
  },
  {
   "cell_type": "code",
   "execution_count": null,
   "metadata": {},
   "outputs": [],
   "source": [
    "df_sample = pd.read_feather(SAMPLE_TRN_LABELS)"
   ]
  },
  {
   "cell_type": "code",
   "execution_count": null,
   "metadata": {},
   "outputs": [],
   "source": [
    "def bbox_corners(row):\n",
    "    x = row['x']\n",
    "    y = row['y']\n",
    "    width = row['width']\n",
    "    height = row['height'] \n",
    "    if math.isnan(x):\n",
    "        return \"0 0 0 0\"\n",
    "    \n",
    "    x2 = x + width\n",
    "    y2 = y + height\n",
    "    return f\"{x} {y} {x2} {y2}\" "
   ]
  },
  {
   "cell_type": "code",
   "execution_count": null,
   "metadata": {
    "scrolled": true
   },
   "outputs": [],
   "source": [
    "# of rows where Target = 1\n",
    "n_rows_target_1 = len(df_sample[df_sample['Target'] != 0])\n",
    "n_rows_target_1 / n_sample"
   ]
  },
  {
   "cell_type": "code",
   "execution_count": null,
   "metadata": {
    "scrolled": true
   },
   "outputs": [],
   "source": [
    "df_sample['bbox_corners'] = df_sample.apply(bbox_corners, axis=1)"
   ]
  },
  {
   "cell_type": "code",
   "execution_count": null,
   "metadata": {},
   "outputs": [],
   "source": [
    "df_sample_bbox_corners = df_sample[['patientId', 'bbox_corners']]"
   ]
  },
  {
   "cell_type": "code",
   "execution_count": 9,
   "metadata": {},
   "outputs": [],
   "source": [
    "BBOX_CSV_CORNERS = '../tmp/df_sample_bbox_corners.csv'"
   ]
  },
  {
   "cell_type": "code",
   "execution_count": null,
   "metadata": {},
   "outputs": [],
   "source": [
    "df_sample_bbox_corners.to_csv(BBOX_CSV_CORNERS, index=False)"
   ]
  },
  {
   "cell_type": "code",
   "execution_count": 10,
   "metadata": {},
   "outputs": [],
   "source": [
    "df_sample_bbox_corners = pd.read_csv(BBOX_CSV_CORNERS)"
   ]
  },
  {
   "cell_type": "code",
   "execution_count": null,
   "metadata": {},
   "outputs": [],
   "source": [
    "df_sample_bbox_corners[:10]"
   ]
  },
  {
   "cell_type": "code",
   "execution_count": 12,
   "metadata": {},
   "outputs": [],
   "source": [
    "cv_idxs = get_cv_idxs(len(df_sample_bbox_corners), val_pct=0.2)"
   ]
  },
  {
   "cell_type": "code",
   "execution_count": null,
   "metadata": {},
   "outputs": [],
   "source": [
    "len(cv_idxs)"
   ]
  },
  {
   "cell_type": "code",
   "execution_count": 13,
   "metadata": {},
   "outputs": [],
   "source": [
    "md = ImageClassifierData.from_csv(rsna_path, TRN, BBOX_CSV_CORNERS, \n",
    "                                  bs=64, tfms=tfms, val_idxs=cv_idxs, continuous=True, suffix='.dcm')"
   ]
  },
  {
   "cell_type": "code",
   "execution_count": null,
   "metadata": {},
   "outputs": [],
   "source": [
    "ds = pydicom.dcmread(str(rsna_path/md.trn_ds.fnames[0]))\n",
    "size = ds.pixel_array.shape\n",
    "X_scaling = size[0] / 224. \n",
    "Y_scaling = size[1] / 224."
   ]
  },
  {
   "cell_type": "code",
   "execution_count": 14,
   "metadata": {},
   "outputs": [],
   "source": [
    "x, y = next(iter(md.trn_dl))"
   ]
  },
  {
   "cell_type": "code",
   "execution_count": null,
   "metadata": {},
   "outputs": [],
   "source": [
    "image_data = to_np(md.trn_ds.denorm(x))[1]\n",
    "bbox = to_np(y[1]).tolist()\n",
    "x_img, y_img, x2_img, y2_img = bbox"
   ]
  },
  {
   "cell_type": "code",
   "execution_count": null,
   "metadata": {},
   "outputs": [],
   "source": [
    "fi, ax = plt.subplots()\n",
    "ax.imshow(image_data)\n",
    "rect = Rectangle((x_img,y_img), (x2_img-x_img), (y2_img-y_img), linewidth=1, edgecolor='red', facecolor='none')\n",
    "ax.add_patch(rect)"
   ]
  },
  {
   "cell_type": "code",
   "execution_count": 15,
   "metadata": {},
   "outputs": [],
   "source": [
    "head_reg4 = nn.Sequential(Flatten(), nn.Linear(25088,4))\n",
    "learn = ConvLearner.pretrained(f_model, md, custom_head=head_reg4)\n",
    "learn.opt_fn = optim.Adam\n",
    "learn.crit = nn.L1Loss()"
   ]
  },
  {
   "cell_type": "code",
   "execution_count": null,
   "metadata": {},
   "outputs": [],
   "source": [
    "learn.lr_find()"
   ]
  },
  {
   "cell_type": "code",
   "execution_count": null,
   "metadata": {},
   "outputs": [],
   "source": [
    "learn.sched.plot()"
   ]
  },
  {
   "cell_type": "code",
   "execution_count": null,
   "metadata": {},
   "outputs": [],
   "source": [
    "lr = 1.5e-3"
   ]
  },
  {
   "cell_type": "code",
   "execution_count": null,
   "metadata": {
    "scrolled": true
   },
   "outputs": [],
   "source": [
    "learn.fit(lr, 2, cycle_len=1, cycle_mult=2)"
   ]
  },
  {
   "cell_type": "code",
   "execution_count": 65,
   "metadata": {},
   "outputs": [],
   "source": [
    "learn.save('../tmp/bbox.pth')"
   ]
  },
  {
   "cell_type": "code",
   "execution_count": 16,
   "metadata": {},
   "outputs": [],
   "source": [
    "learn.load('../tmp/bbox.pth')"
   ]
  },
  {
   "cell_type": "code",
   "execution_count": 66,
   "metadata": {},
   "outputs": [],
   "source": [
    "x, y = next(iter(md.trn_dl))"
   ]
  },
  {
   "cell_type": "code",
   "execution_count": 67,
   "metadata": {},
   "outputs": [
    {
     "data": {
      "text/plain": [
       "tensor([[  0.,   0.,   0.,   0.],\n",
       "        [  0.,   0.,   0.,   0.],\n",
       "        [  0.,   0.,   0.,   0.],\n",
       "        [  0.,   0.,   0.,   0.],\n",
       "        [  0.,   0.,   0.,   0.],\n",
       "        [ 33.,  40.,  79.,  75.],\n",
       "        [  0.,   0.,   0.,   0.],\n",
       "        [  0.,   0.,   0.,   0.],\n",
       "        [  0.,   0.,   0.,   0.],\n",
       "        [  0.,   0.,   0.,   0.]], device='cuda:0')"
      ]
     },
     "execution_count": 67,
     "metadata": {},
     "output_type": "execute_result"
    }
   ],
   "source": [
    "y[:10]"
   ]
  },
  {
   "cell_type": "code",
   "execution_count": 68,
   "metadata": {},
   "outputs": [
    {
     "data": {
      "text/plain": [
       "array([[ 23.2045 ,  22.46175,  35.05435,  30.80185],\n",
       "       [  3.30284, -18.79561,  -9.79368,   2.39806],\n",
       "       [ -5.40884,  12.23434,   2.88613,   0.88604],\n",
       "       [  1.9606 ,   3.91816,   9.73489,  19.83698],\n",
       "       [-10.38313,   4.87275,   4.96105,  -5.57345],\n",
       "       [ 31.64552,  16.5351 ,  48.68837,  39.69324],\n",
       "       [ -9.30796,  -7.58573,  10.35597,  24.31953],\n",
       "       [-17.68835,   5.76331,  -7.12819,   9.66144],\n",
       "       [-16.04656,  -9.73336, -10.7971 , -10.32385],\n",
       "       [ 23.73164,  23.64269,  28.6518 ,  30.34227]], dtype=float32)"
      ]
     },
     "execution_count": 68,
     "metadata": {},
     "output_type": "execute_result"
    }
   ],
   "source": [
    "preds = to_np(predict_batch(learn.model, x)); preds[:10]"
   ]
  },
  {
   "cell_type": "code",
   "execution_count": 69,
   "metadata": {},
   "outputs": [
    {
     "data": {
      "text/plain": [
       "<matplotlib.patches.Rectangle at 0x7f5490959ba8>"
      ]
     },
     "execution_count": 69,
     "metadata": {},
     "output_type": "execute_result"
    },
    {
     "data": {
      "image/png": "[encoded data removed]",
      "text/plain": [
       "<matplotlib.figure.Figure at 0x7f5490fc1518>"
      ]
     },
     "metadata": {},
     "output_type": "display_data"
    }
   ],
   "source": [
    "index = 5\n",
    "image_data = to_np(md.trn_ds.denorm(x))[index]\n",
    "bbox = to_np(y[index]).tolist()\n",
    "x_img, y_img, x2_img, y2_img = bbox\n",
    "\n",
    "fi, ax = plt.subplots()\n",
    "ax.imshow(image_data)\n",
    "rect = Rectangle((x_img,y_img), (x2_img-x_img), (y2_img-y_img), linewidth=1, edgecolor='red', facecolor='none')\n",
    "ax.add_patch(rect)\n",
    "\n",
    "bbox = to_np(learn.model(VV(x)))[index].tolist()\n",
    "x_img, y_img, x2_img, y2_img = bbox\n",
    "rect2 = Rectangle((x_img,y_img), (x2_img-x_img), (y2_img-y_img), linewidth=1, edgecolor='yellow', facecolor='none')\n",
    "\n",
    "ax.add_patch(rect2)"
   ]
  },
  {
   "cell_type": "code",
   "execution_count": 70,
   "metadata": {},
   "outputs": [],
   "source": [
    "test_preds = learn.predict(is_test=True)"
   ]
  },
  {
   "cell_type": "code",
   "execution_count": 21,
   "metadata": {},
   "outputs": [
    {
     "name": "stdout",
     "output_type": "stream",
     "text": [
      "                                             \r"
     ]
    }
   ],
   "source": [
    "preds, y = learn.TTA()"
   ]
  },
  {
   "cell_type": "code",
   "execution_count": 26,
   "metadata": {},
   "outputs": [],
   "source": [
    "md2 = ImageClassifierData.from_csv(rsna_path, TRN, BBOX_CSV_CORNERS, \n",
    "                                  bs=64, tfms=tfms, val_idxs=cv_idxs, continuous=True, suffix='.dcm', test_name='test2')"
   ]
  },
  {
   "cell_type": "code",
   "execution_count": 27,
   "metadata": {},
   "outputs": [],
   "source": [
    "learn.set_data(md2)"
   ]
  },
  {
   "cell_type": "code",
   "execution_count": null,
   "metadata": {},
   "outputs": [],
   "source": [
    "dir(md.trn_y)"
   ]
  },
  {
   "cell_type": "code",
   "execution_count": null,
   "metadata": {},
   "outputs": [],
   "source": [
    "idx = 2\n",
    "SCALING_FACTOR = (1024/224.)\n",
    "md.trn_y"
   ]
  },
  {
   "cell_type": "code",
   "execution_count": null,
   "metadata": {},
   "outputs": [],
   "source": [
    "x_, y_ = next(iter(md.trn_dl))"
   ]
  },
  {
   "cell_type": "code",
   "execution_count": 28,
   "metadata": {},
   "outputs": [],
   "source": [
    "test_preds = learn.predict(is_test=True)"
   ]
  },
  {
   "cell_type": "code",
   "execution_count": 46,
   "metadata": {},
   "outputs": [
    {
     "data": {
      "text/plain": [
       "array([ 614.,  176.,  777.,  356.], dtype=float32)"
      ]
     },
     "execution_count": 46,
     "metadata": {},
     "output_type": "execute_result"
    }
   ],
   "source": [
    "md2.trn_ds.y[3]"
   ]
  },
  {
   "cell_type": "code",
   "execution_count": 49,
   "metadata": {},
   "outputs": [
    {
     "data": {
      "text/plain": [
       "224"
      ]
     },
     "execution_count": 49,
     "metadata": {},
     "output_type": "execute_result"
    }
   ],
   "source": [
    "md2.trn_ds.sz"
   ]
  },
  {
   "cell_type": "code",
   "execution_count": 50,
   "metadata": {},
   "outputs": [
    {
     "data": {
      "text/plain": [
       "4.571428571428571"
      ]
     },
     "execution_count": 50,
     "metadata": {},
     "output_type": "execute_result"
    }
   ],
   "source": [
    "(1024 / 224)"
   ]
  },
  {
   "cell_type": "code",
   "execution_count": 71,
   "metadata": {},
   "outputs": [],
   "source": [
    "test_preds_resized = test_preds*(1024 / 224)"
   ]
  },
  {
   "cell_type": "code",
   "execution_count": 53,
   "metadata": {},
   "outputs": [
    {
     "data": {
      "application/vnd.jupyter.widget-view+json": {
       "model_id": "77e9679902674f809af4e174dbb14047",
       "version_major": 2,
       "version_minor": 0
      },
      "text/html": [
       "<p>Failed to display Jupyter Widget of type <code>HBox</code>.</p>\n",
       "<p>\n",
       "  If you're reading this message in the Jupyter Notebook or JupyterLab Notebook, it may mean\n",
       "  that the widgets JavaScript is still loading. If this message persists, it\n",
       "  likely means that the widgets JavaScript library is either not installed or\n",
       "  not enabled. See the <a href=\"https://ipywidgets.readthedocs.io/en/stable/user_install.html\">Jupyter\n",
       "  Widgets Documentation</a> for setup instructions.\n",
       "</p>\n",
       "<p>\n",
       "  If you're reading this message in another frontend (for example, a static\n",
       "  rendering on GitHub or <a href=\"https://nbviewer.jupyter.org/\">NBViewer</a>),\n",
       "  it may mean that your frontend doesn't currently support widgets.\n",
       "</p>\n"
      ],
      "text/plain": [
       "HBox(children=(IntProgress(value=0, description='Epoch', max=1), HTML(value='')))"
      ]
     },
     "metadata": {},
     "output_type": "display_data"
    },
    {
     "name": "stdout",
     "output_type": "stream",
     "text": [
      " 79%|███████▉  | 26/33 [00:21<00:05,  1.22it/s, loss=103] "
     ]
    }
   ],
   "source": [
    "learn.lr_find()"
   ]
  },
  {
   "cell_type": "code",
   "execution_count": 55,
   "metadata": {},
   "outputs": [
    {
     "data": {
      "image/png": "[encoded data removed]",
      "text/plain": [
       "<matplotlib.figure.Figure at 0x7f5490959668>"
      ]
     },
     "metadata": {},
     "output_type": "display_data"
    }
   ],
   "source": [
    "learn.sched.plot()"
   ]
  },
  {
   "cell_type": "code",
   "execution_count": 56,
   "metadata": {},
   "outputs": [],
   "source": [
    "lr = 1.5e-2"
   ]
  },
  {
   "cell_type": "code",
   "execution_count": 57,
   "metadata": {},
   "outputs": [
    {
     "data": {
      "application/vnd.jupyter.widget-view+json": {
       "model_id": "440ff18d3b0d459b8991dba6595ccb71",
       "version_major": 2,
       "version_minor": 0
      },
      "text/html": [
       "<p>Failed to display Jupyter Widget of type <code>HBox</code>.</p>\n",
       "<p>\n",
       "  If you're reading this message in the Jupyter Notebook or JupyterLab Notebook, it may mean\n",
       "  that the widgets JavaScript is still loading. If this message persists, it\n",
       "  likely means that the widgets JavaScript library is either not installed or\n",
       "  not enabled. See the <a href=\"https://ipywidgets.readthedocs.io/en/stable/user_install.html\">Jupyter\n",
       "  Widgets Documentation</a> for setup instructions.\n",
       "</p>\n",
       "<p>\n",
       "  If you're reading this message in another frontend (for example, a static\n",
       "  rendering on GitHub or <a href=\"https://nbviewer.jupyter.org/\">NBViewer</a>),\n",
       "  it may mean that your frontend doesn't currently support widgets.\n",
       "</p>\n"
      ],
      "text/plain": [
       "HBox(children=(IntProgress(value=0, description='Epoch', max=4), HTML(value='')))"
      ]
     },
     "metadata": {},
     "output_type": "display_data"
    },
    {
     "name": "stdout",
     "output_type": "stream",
     "text": [
      " 18%|█▊        | 6/33 [00:07<00:34,  1.29s/it, loss=31.1]\n",
      " 21%|██        | 7/33 [00:08<00:30,  1.17s/it, loss=42]  "
     ]
    },
    {
     "name": "stderr",
     "output_type": "stream",
     "text": [
      "Exception in thread Thread-5:\n",
      "Traceback (most recent call last):\n",
      "  File \"/home/edwin/anaconda3/lib/python3.6/threading.py\", line 916, in _bootstrap_inner\n",
      "    self.run()\n",
      "  File \"/home/edwin/anaconda3/lib/python3.6/site-packages/tqdm/_tqdm.py\", line 144, in run\n",
      "    for instance in self.tqdm_cls._instances:\n",
      "  File \"/home/edwin/anaconda3/lib/python3.6/_weakrefset.py\", line 60, in __iter__\n",
      "    for itemref in self.data:\n",
      "RuntimeError: Set changed size during iteration\n",
      "\n"
     ]
    },
    {
     "name": "stdout",
     "output_type": "stream",
     "text": [
      "epoch      trn_loss   val_loss                            \n",
      "    0      45.04282   39.793583 \n",
      "    1      35.56278   33.33376                            \n",
      "    2      36.721676  37.3174                             \n",
      "    3      32.213792  33.748808                           \n",
      "\n"
     ]
    },
    {
     "data": {
      "text/plain": [
       "[33.748808438782568]"
      ]
     },
     "execution_count": 57,
     "metadata": {},
     "output_type": "execute_result"
    }
   ],
   "source": [
    "learn.fit(lr, 2, cycle_len=2)"
   ]
  },
  {
   "cell_type": "code",
   "execution_count": 58,
   "metadata": {},
   "outputs": [],
   "source": [
    "lrs = np.array([lr/1000,lr/100,lr])"
   ]
  },
  {
   "cell_type": "code",
   "execution_count": 59,
   "metadata": {},
   "outputs": [],
   "source": [
    "learn.freeze_to(-2)"
   ]
  },
  {
   "cell_type": "code",
   "execution_count": 60,
   "metadata": {},
   "outputs": [
    {
     "data": {
      "application/vnd.jupyter.widget-view+json": {
       "model_id": "89474fde421042049eabd0cbf6a168aa",
       "version_major": 2,
       "version_minor": 0
      },
      "text/html": [
       "<p>Failed to display Jupyter Widget of type <code>HBox</code>.</p>\n",
       "<p>\n",
       "  If you're reading this message in the Jupyter Notebook or JupyterLab Notebook, it may mean\n",
       "  that the widgets JavaScript is still loading. If this message persists, it\n",
       "  likely means that the widgets JavaScript library is either not installed or\n",
       "  not enabled. See the <a href=\"https://ipywidgets.readthedocs.io/en/stable/user_install.html\">Jupyter\n",
       "  Widgets Documentation</a> for setup instructions.\n",
       "</p>\n",
       "<p>\n",
       "  If you're reading this message in another frontend (for example, a static\n",
       "  rendering on GitHub or <a href=\"https://nbviewer.jupyter.org/\">NBViewer</a>),\n",
       "  it may mean that your frontend doesn't currently support widgets.\n",
       "</p>\n"
      ],
      "text/plain": [
       "HBox(children=(IntProgress(value=0, description='Epoch', max=1), HTML(value='')))"
      ]
     },
     "metadata": {},
     "output_type": "display_data"
    },
    {
     "name": "stdout",
     "output_type": "stream",
     "text": [
      "epoch      trn_loss   val_loss                            \n",
      "    0      44.840538  40.104607 \n",
      "\n"
     ]
    },
    {
     "data": {
      "text/plain": [
       "[40.104606814319396]"
      ]
     },
     "execution_count": 60,
     "metadata": {},
     "output_type": "execute_result"
    }
   ],
   "source": [
    "learn.fit(lrs/5, 1, cycle_len=1)"
   ]
  },
  {
   "cell_type": "code",
   "execution_count": 62,
   "metadata": {},
   "outputs": [],
   "source": [
    "learn.unfreeze()"
   ]
  },
  {
   "cell_type": "code",
   "execution_count": 64,
   "metadata": {},
   "outputs": [
    {
     "data": {
      "application/vnd.jupyter.widget-view+json": {
       "model_id": "cc339c9ec1724c02a536d211771120d3",
       "version_major": 2,
       "version_minor": 0
      },
      "text/html": [
       "<p>Failed to display Jupyter Widget of type <code>HBox</code>.</p>\n",
       "<p>\n",
       "  If you're reading this message in the Jupyter Notebook or JupyterLab Notebook, it may mean\n",
       "  that the widgets JavaScript is still loading. If this message persists, it\n",
       "  likely means that the widgets JavaScript library is either not installed or\n",
       "  not enabled. See the <a href=\"https://ipywidgets.readthedocs.io/en/stable/user_install.html\">Jupyter\n",
       "  Widgets Documentation</a> for setup instructions.\n",
       "</p>\n",
       "<p>\n",
       "  If you're reading this message in another frontend (for example, a static\n",
       "  rendering on GitHub or <a href=\"https://nbviewer.jupyter.org/\">NBViewer</a>),\n",
       "  it may mean that your frontend doesn't currently support widgets.\n",
       "</p>\n"
      ],
      "text/plain": [
       "HBox(children=(IntProgress(value=0, description='Epoch', max=2), HTML(value='')))"
      ]
     },
     "metadata": {},
     "output_type": "display_data"
    },
    {
     "name": "stdout",
     "output_type": "stream",
     "text": [
      "epoch      trn_loss   val_loss                            \n",
      "    0      43.333283  38.394896 \n",
      "    1      32.77035   36.591612                           \n",
      "\n"
     ]
    },
    {
     "data": {
      "text/plain": [
       "[36.591611539643644]"
      ]
     },
     "execution_count": 64,
     "metadata": {},
     "output_type": "execute_result"
    }
   ],
   "source": [
    "learn.fit(lrs/5, 1, cycle_len=2)"
   ]
  },
  {
   "cell_type": "code",
   "execution_count": 76,
   "metadata": {},
   "outputs": [],
   "source": [
    "test_preds_clipped = np.clip(np.array(test_preds_resized), 0, 1024).tolist()"
   ]
  },
  {
   "cell_type": "code",
   "execution_count": 99,
   "metadata": {},
   "outputs": [
    {
     "data": {
      "text/plain": [
       "[412.5340270996094, 303.5760192871094, 556.9641723632812, 727.836669921875]"
      ]
     },
     "execution_count": 99,
     "metadata": {},
     "output_type": "execute_result"
    }
   ],
   "source": [
    "test_preds_clipped[0][0:4]"
   ]
  },
  {
   "cell_type": "code",
   "execution_count": 114,
   "metadata": {},
   "outputs": [],
   "source": [
    "def convert_bb_width_height(row):\n",
    "    x1 = float(row[0])\n",
    "    y1 = float(row[1])\n",
    "    x2 = float(row[2])\n",
    "    y2 = float(row[3])\n",
    "    \n",
    "    \n",
    "    width = x2 - x1\n",
    "    height = y2 - y1\n",
    "    \n",
    "    return f\"1.0 {x1} {y1} {width} {height}\""
   ]
  },
  {
   "cell_type": "code",
   "execution_count": 117,
   "metadata": {},
   "outputs": [
    {
     "data": {
      "text/html": [
       "<a href='../tmp/submission_0930.csv' target='_blank'>../tmp/submission_0930.csv</a><br>"
      ],
      "text/plain": [
       "/home/edwin/Developer/kaggle-comps/tmp/submission_0930.csv"
      ]
     },
     "execution_count": 117,
     "metadata": {},
     "output_type": "execute_result"
    }
   ],
   "source": [
    "results = list(zip(md2.test_ds.fnames, test_preds_clipped))\n",
    "df_test = pd.DataFrame(results, columns=['patientId', 'PredictionString'])\n",
    "df_test['PredictionString'] = df_test['PredictionString'].map( convert_bb_width_height )\n",
    "df_test['patientId'] = df_test['patientId'].map( lambda x: x.split('/')[1].split('.dcm')[0])\n",
    "\n",
    "submit_file = '../tmp/submission_0930.csv'\n",
    "df_test.to_csv(submit_file, index=False)\n",
    "FileLink(submit_file)"
   ]
  },
  {
   "cell_type": "code",
   "execution_count": 116,
   "metadata": {},
   "outputs": [
    {
     "data": {
      "text/html": [
       "<div>\n",
       "<style scoped>\n",
       "    .dataframe tbody tr th:only-of-type {\n",
       "        vertical-align: middle;\n",
       "    }\n",
       "\n",
       "    .dataframe tbody tr th {\n",
       "        vertical-align: top;\n",
       "    }\n",
       "\n",
       "    .dataframe thead th {\n",
       "        text-align: right;\n",
       "    }\n",
       "</style>\n",
       "<table border=\"1\" class=\"dataframe\">\n",
       "  <thead>\n",
       "    <tr style=\"text-align: right;\">\n",
       "      <th></th>\n",
       "      <th>patientId</th>\n",
       "      <th>PredictionString</th>\n",
       "    </tr>\n",
       "  </thead>\n",
       "  <tbody>\n",
       "    <tr>\n",
       "      <th>0</th>\n",
       "      <td>21afc084-1c98-42f5-b767-edb5cb8f2884</td>\n",
       "      <td>1.0 412.5340270996094 303.5760192871094 144.43...</td>\n",
       "    </tr>\n",
       "    <tr>\n",
       "      <th>1</th>\n",
       "      <td>0ed09fd0-a4f5-4440-9fe7-6272d7987f33</td>\n",
       "      <td>1.0 30.875993728637695 14.78087043762207 49.48...</td>\n",
       "    </tr>\n",
       "    <tr>\n",
       "      <th>2</th>\n",
       "      <td>0e266ced-46fe-4868-8a5a-ef1be71d8f9a</td>\n",
       "      <td>1.0 0.0 17.809661865234375 0.0 -17.80966186523...</td>\n",
       "    </tr>\n",
       "    <tr>\n",
       "      <th>3</th>\n",
       "      <td>005f5517-ab76-4b0d-8a26-f808d97171c4</td>\n",
       "      <td>1.0 0.0 0.0 0.0 0.0</td>\n",
       "    </tr>\n",
       "    <tr>\n",
       "      <th>4</th>\n",
       "      <td>2f50a1ca-ebd8-4688-863b-fe85ce09c526</td>\n",
       "      <td>1.0 123.64108276367188 150.22459411621094 106....</td>\n",
       "    </tr>\n",
       "    <tr>\n",
       "      <th>5</th>\n",
       "      <td>2db71952-47f3-455b-aed2-675ec9113cf3</td>\n",
       "      <td>1.0 160.21963500976562 15.165703773498535 -10....</td>\n",
       "    </tr>\n",
       "    <tr>\n",
       "      <th>6</th>\n",
       "      <td>2d370cb1-791e-407e-9408-9156664de6b6</td>\n",
       "      <td>1.0 104.54363250732422 116.96226501464844 74.6...</td>\n",
       "    </tr>\n",
       "    <tr>\n",
       "      <th>7</th>\n",
       "      <td>28775c77-80e8-4f8c-be85-7a44162b5c28</td>\n",
       "      <td>1.0 34.409358978271484 0.0 73.32372665405273 5...</td>\n",
       "    </tr>\n",
       "    <tr>\n",
       "      <th>8</th>\n",
       "      <td>2d9bfa9e-b4c9-4ab2-98d6-f821d61435e2</td>\n",
       "      <td>1.0 44.01919174194336 0.0 122.15298843383789 1...</td>\n",
       "    </tr>\n",
       "    <tr>\n",
       "      <th>9</th>\n",
       "      <td>02e68787-7eae-4b26-9d01-c5782b825fdc</td>\n",
       "      <td>1.0 0.0 111.58338928222656 22.85423469543457 -...</td>\n",
       "    </tr>\n",
       "  </tbody>\n",
       "</table>\n",
       "</div>"
      ],
      "text/plain": [
       "                              patientId  \\\n",
       "0  21afc084-1c98-42f5-b767-edb5cb8f2884   \n",
       "1  0ed09fd0-a4f5-4440-9fe7-6272d7987f33   \n",
       "2  0e266ced-46fe-4868-8a5a-ef1be71d8f9a   \n",
       "3  005f5517-ab76-4b0d-8a26-f808d97171c4   \n",
       "4  2f50a1ca-ebd8-4688-863b-fe85ce09c526   \n",
       "5  2db71952-47f3-455b-aed2-675ec9113cf3   \n",
       "6  2d370cb1-791e-407e-9408-9156664de6b6   \n",
       "7  28775c77-80e8-4f8c-be85-7a44162b5c28   \n",
       "8  2d9bfa9e-b4c9-4ab2-98d6-f821d61435e2   \n",
       "9  02e68787-7eae-4b26-9d01-c5782b825fdc   \n",
       "\n",
       "                                    PredictionString  \n",
       "0  1.0 412.5340270996094 303.5760192871094 144.43...  \n",
       "1  1.0 30.875993728637695 14.78087043762207 49.48...  \n",
       "2  1.0 0.0 17.809661865234375 0.0 -17.80966186523...  \n",
       "3                                1.0 0.0 0.0 0.0 0.0  \n",
       "4  1.0 123.64108276367188 150.22459411621094 106....  \n",
       "5  1.0 160.21963500976562 15.165703773498535 -10....  \n",
       "6  1.0 104.54363250732422 116.96226501464844 74.6...  \n",
       "7  1.0 34.409358978271484 0.0 73.32372665405273 5...  \n",
       "8  1.0 44.01919174194336 0.0 122.15298843383789 1...  \n",
       "9  1.0 0.0 111.58338928222656 22.85423469543457 -...  "
      ]
     },
     "execution_count": 116,
     "metadata": {},
     "output_type": "execute_result"
    }
   ],
   "source": [
    "df_test[:10]"
   ]
  },
  {
   "cell_type": "code",
   "execution_count": 113,
   "metadata": {},
   "outputs": [
    {
     "data": {
      "text/html": [
       "<div>\n",
       "<style scoped>\n",
       "    .dataframe tbody tr th:only-of-type {\n",
       "        vertical-align: middle;\n",
       "    }\n",
       "\n",
       "    .dataframe tbody tr th {\n",
       "        vertical-align: top;\n",
       "    }\n",
       "\n",
       "    .dataframe thead th {\n",
       "        text-align: right;\n",
       "    }\n",
       "</style>\n",
       "<table border=\"1\" class=\"dataframe\">\n",
       "  <thead>\n",
       "    <tr style=\"text-align: right;\">\n",
       "      <th></th>\n",
       "      <th>patientId</th>\n",
       "      <th>PredictionString</th>\n",
       "    </tr>\n",
       "  </thead>\n",
       "  <tbody>\n",
       "    <tr>\n",
       "      <th>0</th>\n",
       "      <td>21afc084-1c98-42f5-b767-edb5cb8f2884</td>\n",
       "      <td>1.0 412.5340270996094 303.5760192871094 556.96...</td>\n",
       "    </tr>\n",
       "    <tr>\n",
       "      <th>1</th>\n",
       "      <td>0ed09fd0-a4f5-4440-9fe7-6272d7987f33</td>\n",
       "      <td>1.0 30.875993728637695 14.78087043762207 80.35...</td>\n",
       "    </tr>\n",
       "    <tr>\n",
       "      <th>2</th>\n",
       "      <td>0e266ced-46fe-4868-8a5a-ef1be71d8f9a</td>\n",
       "      <td>1.0 0.0 17.809661865234375 0.0 0.0</td>\n",
       "    </tr>\n",
       "    <tr>\n",
       "      <th>3</th>\n",
       "      <td>005f5517-ab76-4b0d-8a26-f808d97171c4</td>\n",
       "      <td>1.0 0.0 0.0 0.0 0.0</td>\n",
       "    </tr>\n",
       "    <tr>\n",
       "      <th>4</th>\n",
       "      <td>2f50a1ca-ebd8-4688-863b-fe85ce09c526</td>\n",
       "      <td>1.0 123.64108276367188 150.22459411621094 230....</td>\n",
       "    </tr>\n",
       "    <tr>\n",
       "      <th>5</th>\n",
       "      <td>2db71952-47f3-455b-aed2-675ec9113cf3</td>\n",
       "      <td>1.0 160.21963500976562 15.165703773498535 149....</td>\n",
       "    </tr>\n",
       "    <tr>\n",
       "      <th>6</th>\n",
       "      <td>2d370cb1-791e-407e-9408-9156664de6b6</td>\n",
       "      <td>1.0 104.54363250732422 116.96226501464844 179....</td>\n",
       "    </tr>\n",
       "    <tr>\n",
       "      <th>7</th>\n",
       "      <td>28775c77-80e8-4f8c-be85-7a44162b5c28</td>\n",
       "      <td>1.0 34.409358978271484 0.0 107.73308563232422 ...</td>\n",
       "    </tr>\n",
       "    <tr>\n",
       "      <th>8</th>\n",
       "      <td>2d9bfa9e-b4c9-4ab2-98d6-f821d61435e2</td>\n",
       "      <td>1.0 44.01919174194336 0.0 166.17218017578125 1...</td>\n",
       "    </tr>\n",
       "    <tr>\n",
       "      <th>9</th>\n",
       "      <td>02e68787-7eae-4b26-9d01-c5782b825fdc</td>\n",
       "      <td>1.0 0.0 111.58338928222656 22.85423469543457 4...</td>\n",
       "    </tr>\n",
       "  </tbody>\n",
       "</table>\n",
       "</div>"
      ],
      "text/plain": [
       "                              patientId  \\\n",
       "0  21afc084-1c98-42f5-b767-edb5cb8f2884   \n",
       "1  0ed09fd0-a4f5-4440-9fe7-6272d7987f33   \n",
       "2  0e266ced-46fe-4868-8a5a-ef1be71d8f9a   \n",
       "3  005f5517-ab76-4b0d-8a26-f808d97171c4   \n",
       "4  2f50a1ca-ebd8-4688-863b-fe85ce09c526   \n",
       "5  2db71952-47f3-455b-aed2-675ec9113cf3   \n",
       "6  2d370cb1-791e-407e-9408-9156664de6b6   \n",
       "7  28775c77-80e8-4f8c-be85-7a44162b5c28   \n",
       "8  2d9bfa9e-b4c9-4ab2-98d6-f821d61435e2   \n",
       "9  02e68787-7eae-4b26-9d01-c5782b825fdc   \n",
       "\n",
       "                                    PredictionString  \n",
       "0  1.0 412.5340270996094 303.5760192871094 556.96...  \n",
       "1  1.0 30.875993728637695 14.78087043762207 80.35...  \n",
       "2                 1.0 0.0 17.809661865234375 0.0 0.0  \n",
       "3                                1.0 0.0 0.0 0.0 0.0  \n",
       "4  1.0 123.64108276367188 150.22459411621094 230....  \n",
       "5  1.0 160.21963500976562 15.165703773498535 149....  \n",
       "6  1.0 104.54363250732422 116.96226501464844 179....  \n",
       "7  1.0 34.409358978271484 0.0 107.73308563232422 ...  \n",
       "8  1.0 44.01919174194336 0.0 166.17218017578125 1...  \n",
       "9  1.0 0.0 111.58338928222656 22.85423469543457 4...  "
      ]
     },
     "execution_count": 113,
     "metadata": {},
     "output_type": "execute_result"
    }
   ],
   "source": [
    "df_test[:10]"
   ]
  },
  {
   "cell_type": "code",
   "execution_count": 86,
   "metadata": {},
   "outputs": [
    {
     "data": {
      "text/html": [
       "<div>\n",
       "<style scoped>\n",
       "    .dataframe tbody tr th:only-of-type {\n",
       "        vertical-align: middle;\n",
       "    }\n",
       "\n",
       "    .dataframe tbody tr th {\n",
       "        vertical-align: top;\n",
       "    }\n",
       "\n",
       "    .dataframe thead th {\n",
       "        text-align: right;\n",
       "    }\n",
       "</style>\n",
       "<table border=\"1\" class=\"dataframe\">\n",
       "  <thead>\n",
       "    <tr style=\"text-align: right;\">\n",
       "      <th></th>\n",
       "      <th>patientId</th>\n",
       "      <th>PredictionString</th>\n",
       "    </tr>\n",
       "  </thead>\n",
       "  <tbody>\n",
       "    <tr>\n",
       "      <th>0</th>\n",
       "      <td>000924cf-0f8d-42bd-9158-1af53881a557</td>\n",
       "      <td>0.5 0 0 100 100</td>\n",
       "    </tr>\n",
       "    <tr>\n",
       "      <th>1</th>\n",
       "      <td>000db696-cf54-4385-b10b-6b16fbb3f985</td>\n",
       "      <td>0.5 0 0 100 100</td>\n",
       "    </tr>\n",
       "    <tr>\n",
       "      <th>2</th>\n",
       "      <td>000fe35a-2649-43d4-b027-e67796d412e0</td>\n",
       "      <td>0.5 0 0 100 100</td>\n",
       "    </tr>\n",
       "    <tr>\n",
       "      <th>3</th>\n",
       "      <td>001031d9-f904-4a23-b3e5-2c088acd19c6</td>\n",
       "      <td>0.5 0 0 100 100</td>\n",
       "    </tr>\n",
       "    <tr>\n",
       "      <th>4</th>\n",
       "      <td>0010f549-b242-4e94-87a8-57d79de215fc</td>\n",
       "      <td>0.5 0 0 100 100</td>\n",
       "    </tr>\n",
       "    <tr>\n",
       "      <th>5</th>\n",
       "      <td>001916b8-3d30-4935-a5d1-8eaddb1646cd</td>\n",
       "      <td>0.5 0 0 100 100</td>\n",
       "    </tr>\n",
       "    <tr>\n",
       "      <th>6</th>\n",
       "      <td>0022073f-cec8-42ec-ab5f-bc2314649235</td>\n",
       "      <td>0.5 0 0 100 100</td>\n",
       "    </tr>\n",
       "    <tr>\n",
       "      <th>7</th>\n",
       "      <td>0022995a-45eb-4cfa-9a59-cd15f5196c64</td>\n",
       "      <td>0.5 0 0 100 100</td>\n",
       "    </tr>\n",
       "    <tr>\n",
       "      <th>8</th>\n",
       "      <td>0025d2de-bd78-4d36-9f72-e15a5e22ca82</td>\n",
       "      <td>0.5 0 0 100 100</td>\n",
       "    </tr>\n",
       "    <tr>\n",
       "      <th>9</th>\n",
       "      <td>00293de0-a530-41dc-9621-0b3def01d06d</td>\n",
       "      <td>0.5 0 0 100 100</td>\n",
       "    </tr>\n",
       "  </tbody>\n",
       "</table>\n",
       "</div>"
      ],
      "text/plain": [
       "                              patientId PredictionString\n",
       "0  000924cf-0f8d-42bd-9158-1af53881a557  0.5 0 0 100 100\n",
       "1  000db696-cf54-4385-b10b-6b16fbb3f985  0.5 0 0 100 100\n",
       "2  000fe35a-2649-43d4-b027-e67796d412e0  0.5 0 0 100 100\n",
       "3  001031d9-f904-4a23-b3e5-2c088acd19c6  0.5 0 0 100 100\n",
       "4  0010f549-b242-4e94-87a8-57d79de215fc  0.5 0 0 100 100\n",
       "5  001916b8-3d30-4935-a5d1-8eaddb1646cd  0.5 0 0 100 100\n",
       "6  0022073f-cec8-42ec-ab5f-bc2314649235  0.5 0 0 100 100\n",
       "7  0022995a-45eb-4cfa-9a59-cd15f5196c64  0.5 0 0 100 100\n",
       "8  0025d2de-bd78-4d36-9f72-e15a5e22ca82  0.5 0 0 100 100\n",
       "9  00293de0-a530-41dc-9621-0b3def01d06d  0.5 0 0 100 100"
      ]
     },
     "execution_count": 86,
     "metadata": {},
     "output_type": "execute_result"
    }
   ],
   "source": [
    "stage_1_sample_submission_csv[:10]"
   ]
  },
  {
   "cell_type": "code",
   "execution_count": 104,
   "metadata": {},
   "outputs": [
    {
     "data": {
      "text/html": [
       "<div>\n",
       "<style scoped>\n",
       "    .dataframe tbody tr th:only-of-type {\n",
       "        vertical-align: middle;\n",
       "    }\n",
       "\n",
       "    .dataframe tbody tr th {\n",
       "        vertical-align: top;\n",
       "    }\n",
       "\n",
       "    .dataframe thead th {\n",
       "        text-align: right;\n",
       "    }\n",
       "</style>\n",
       "<table border=\"1\" class=\"dataframe\">\n",
       "  <thead>\n",
       "    <tr style=\"text-align: right;\">\n",
       "      <th></th>\n",
       "      <th>patientId</th>\n",
       "      <th>PredictionString</th>\n",
       "    </tr>\n",
       "  </thead>\n",
       "  <tbody>\n",
       "    <tr>\n",
       "      <th>0</th>\n",
       "      <td>test2/21afc084-1c98-42f5-b767-edb5cb8f2884.dcm</td>\n",
       "      <td>[412.5340270996094, 303.5760192871094, 556.964...</td>\n",
       "    </tr>\n",
       "    <tr>\n",
       "      <th>1</th>\n",
       "      <td>test2/0ed09fd0-a4f5-4440-9fe7-6272d7987f33.dcm</td>\n",
       "      <td>[30.875993728637695, 14.78087043762207, 80.356...</td>\n",
       "    </tr>\n",
       "    <tr>\n",
       "      <th>2</th>\n",
       "      <td>test2/0e266ced-46fe-4868-8a5a-ef1be71d8f9a.dcm</td>\n",
       "      <td>[0.0, 17.809661865234375, 0.0, 0.0]</td>\n",
       "    </tr>\n",
       "    <tr>\n",
       "      <th>3</th>\n",
       "      <td>test2/005f5517-ab76-4b0d-8a26-f808d97171c4.dcm</td>\n",
       "      <td>[0.0, 0.0, 0.0, 0.0]</td>\n",
       "    </tr>\n",
       "    <tr>\n",
       "      <th>4</th>\n",
       "      <td>test2/2f50a1ca-ebd8-4688-863b-fe85ce09c526.dcm</td>\n",
       "      <td>[123.64108276367188, 150.22459411621094, 230.2...</td>\n",
       "    </tr>\n",
       "    <tr>\n",
       "      <th>5</th>\n",
       "      <td>test2/2db71952-47f3-455b-aed2-675ec9113cf3.dcm</td>\n",
       "      <td>[160.21963500976562, 15.165703773498535, 149.7...</td>\n",
       "    </tr>\n",
       "    <tr>\n",
       "      <th>6</th>\n",
       "      <td>test2/2d370cb1-791e-407e-9408-9156664de6b6.dcm</td>\n",
       "      <td>[104.54363250732422, 116.96226501464844, 179.2...</td>\n",
       "    </tr>\n",
       "    <tr>\n",
       "      <th>7</th>\n",
       "      <td>test2/28775c77-80e8-4f8c-be85-7a44162b5c28.dcm</td>\n",
       "      <td>[34.409358978271484, 0.0, 107.73308563232422, ...</td>\n",
       "    </tr>\n",
       "    <tr>\n",
       "      <th>8</th>\n",
       "      <td>test2/2d9bfa9e-b4c9-4ab2-98d6-f821d61435e2.dcm</td>\n",
       "      <td>[44.01919174194336, 0.0, 166.17218017578125, 1...</td>\n",
       "    </tr>\n",
       "    <tr>\n",
       "      <th>9</th>\n",
       "      <td>test2/02e68787-7eae-4b26-9d01-c5782b825fdc.dcm</td>\n",
       "      <td>[0.0, 111.58338928222656, 22.85423469543457, 4...</td>\n",
       "    </tr>\n",
       "  </tbody>\n",
       "</table>\n",
       "</div>"
      ],
      "text/plain": [
       "                                        patientId  \\\n",
       "0  test2/21afc084-1c98-42f5-b767-edb5cb8f2884.dcm   \n",
       "1  test2/0ed09fd0-a4f5-4440-9fe7-6272d7987f33.dcm   \n",
       "2  test2/0e266ced-46fe-4868-8a5a-ef1be71d8f9a.dcm   \n",
       "3  test2/005f5517-ab76-4b0d-8a26-f808d97171c4.dcm   \n",
       "4  test2/2f50a1ca-ebd8-4688-863b-fe85ce09c526.dcm   \n",
       "5  test2/2db71952-47f3-455b-aed2-675ec9113cf3.dcm   \n",
       "6  test2/2d370cb1-791e-407e-9408-9156664de6b6.dcm   \n",
       "7  test2/28775c77-80e8-4f8c-be85-7a44162b5c28.dcm   \n",
       "8  test2/2d9bfa9e-b4c9-4ab2-98d6-f821d61435e2.dcm   \n",
       "9  test2/02e68787-7eae-4b26-9d01-c5782b825fdc.dcm   \n",
       "\n",
       "                                    PredictionString  \n",
       "0  [412.5340270996094, 303.5760192871094, 556.964...  \n",
       "1  [30.875993728637695, 14.78087043762207, 80.356...  \n",
       "2                [0.0, 17.809661865234375, 0.0, 0.0]  \n",
       "3                               [0.0, 0.0, 0.0, 0.0]  \n",
       "4  [123.64108276367188, 150.22459411621094, 230.2...  \n",
       "5  [160.21963500976562, 15.165703773498535, 149.7...  \n",
       "6  [104.54363250732422, 116.96226501464844, 179.2...  \n",
       "7  [34.409358978271484, 0.0, 107.73308563232422, ...  \n",
       "8  [44.01919174194336, 0.0, 166.17218017578125, 1...  \n",
       "9  [0.0, 111.58338928222656, 22.85423469543457, 4...  "
      ]
     },
     "execution_count": 104,
     "metadata": {},
     "output_type": "execute_result"
    }
   ],
   "source": [
    "df_test[:10]"
   ]
  },
  {
   "cell_type": "code",
   "execution_count": 119,
   "metadata": {},
   "outputs": [],
   "source": [
    "# area of overlap / area of \n",
    "def calculate_iou():\n",
    "    return"
   ]
  },
  {
   "cell_type": "code",
   "execution_count": 120,
   "metadata": {},
   "outputs": [],
   "source": [
    "def bb_intersection_over_union(boxA, boxB):\n",
    "    # determine the (x, y)-coordinates of the intersection rectangle\n",
    "    xA = max(boxA[0], boxB[0])\n",
    "    yA = max(boxA[1], boxB[1])\n",
    "    xB = min(boxA[2], boxB[2])\n",
    "    yB = min(boxA[3], boxB[3])\n",
    "\n",
    "    # compute the area of intersection rectangle\n",
    "    interArea = max(0, xB - xA + 1) * max(0, yB - yA + 1)\n",
    "\n",
    "    # compute the area of both the prediction and ground-truth\n",
    "    # rectangles\n",
    "    boxAArea = (boxA[2] - boxA[0] + 1) * (boxA[3] - boxA[1] + 1)\n",
    "    boxBArea = (boxB[2] - boxB[0] + 1) * (boxB[3] - boxB[1] + 1)\n",
    "\n",
    "    # compute the intersection over union by taking the intersection\n",
    "    # area and dividing it by the sum of prediction + ground-truth\n",
    "    # areas - the interesection area\n",
    "    iou = interArea / float(boxAArea + boxBArea - interArea)\n",
    "\n",
    "    # return the intersection over union value\n",
    "    return iou\n"
   ]
  },
  {
   "cell_type": "code",
   "execution_count": 121,
   "metadata": {},
   "outputs": [
    {
     "data": {
      "text/plain": [
       "2"
      ]
     },
     "execution_count": 121,
     "metadata": {},
     "output_type": "execute_result"
    }
   ],
   "source": [
    "max(1,2)"
   ]
  },
  {
   "cell_type": "code",
   "execution_count": null,
   "metadata": {},
   "outputs": [],
   "source": []
  }
 ],
 "metadata": {
  "kernelspec": {
   "display_name": "Python 3",
   "language": "python",
   "name": "python3"
  },
  "language_info": {
   "codemirror_mode": {
    "name": "ipython",
    "version": 3
   },
   "file_extension": ".py",
   "mimetype": "text/x-python",
   "name": "python",
   "nbconvert_exporter": "python",
   "pygments_lexer": "ipython3",
   "version": "3.6.5"
  }
 },
 "nbformat": 4,
 "nbformat_minor": 2
}
