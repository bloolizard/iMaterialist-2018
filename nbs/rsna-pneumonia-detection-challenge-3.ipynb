{
 "cells": [
  {
   "cell_type": "code",
   "execution_count": 3,
   "metadata": {},
   "outputs": [],
   "source": [
    "import pandas as pd\n",
    "import numpy as np\n",
    "import pydicom\n",
    "import os\n",
    "import matplotlib.pyplot as plt\n",
    "from matplotlib.patches import Rectangle\n",
    "from multiprocessing import Pool, cpu_count\n",
    "from matplotlib import patches, patheffects\n",
    "import math\n",
    "from pathlib import Path\n",
    "\n",
    "from fastai.dataset import *\n",
    "from fastai.conv_learner import *\n",
    "from fastai.imports import *\n",
    "from fastai.structured import *\n",
    "\n",
    "import pdb\n",
    "\n",
    "import pickle\n",
    "from sklearn.model_selection import train_test_split\n",
    "\n",
    "from IPython.display import FileLink\n",
    "% load_ext autoreload\n",
    "% autoreload 2\n",
    "% matplotlib inline"
   ]
  },
  {
   "cell_type": "code",
   "execution_count": 4,
   "metadata": {},
   "outputs": [],
   "source": [
    "ddir = \"/home/edwin/Datasets/competitions/rsna-pneumonia-detection-challenge\"\n",
    "rsna_path = Path(ddir)\n",
    "\n",
    "detailed_class_info_csv = pd.read_csv(rsna_path/'stage_1_detailed_class_info.csv')\n",
    "stage_1_sample_submission_csv = pd.read_csv(rsna_path/'stage_1_sample_submission.csv')\n",
    "stage_1_train_labels_csv = pd.read_csv(rsna_path/'stage_1_train_labels.csv')"
   ]
  },
  {
   "cell_type": "code",
   "execution_count": 5,
   "metadata": {},
   "outputs": [],
   "source": [
    "BBOX_CSV = '../tmp/rsna_bbox.csv'\n",
    "TRN = 'train'\n",
    "TEST = 'test2'"
   ]
  },
  {
   "cell_type": "code",
   "execution_count": 6,
   "metadata": {},
   "outputs": [],
   "source": [
    "f_model=resnet34\n",
    "sz=224\n",
    "bs=64\n",
    "\n",
    "tfms = tfms_from_model(f_model, sz, crop_type=CropType.NO)"
   ]
  },
  {
   "cell_type": "code",
   "execution_count": 35,
   "metadata": {},
   "outputs": [],
   "source": [
    "md = ImageClassifierData.from_csv(rsna_path, TRN, BBOX_CSV, tfms=tfms, bs=64, test_name=TEST, continuous=True, suffix='.dcm')"
   ]
  },
  {
   "cell_type": "code",
   "execution_count": 1,
   "metadata": {},
   "outputs": [],
   "source": [
    "# n_sample"
   ]
  },
  {
   "cell_type": "code",
   "execution_count": 12,
   "metadata": {},
   "outputs": [],
   "source": [
    "TRN_FILES = list((rsna_path/TRN).glob('*.dcm'))"
   ]
  },
  {
   "cell_type": "code",
   "execution_count": 24,
   "metadata": {},
   "outputs": [],
   "source": [
    "RANDOM_TRN_FILES = np.random.shuffle(TRN_FILES)"
   ]
  },
  {
   "cell_type": "code",
   "execution_count": 31,
   "metadata": {},
   "outputs": [],
   "source": [
    "n_sample = int(0.10 * len(TRN_FILES))"
   ]
  },
  {
   "cell_type": "code",
   "execution_count": 21,
   "metadata": {},
   "outputs": [],
   "source": [
    "(rsna_path/'sample').mkdir(exist_ok=True)\n",
    "(rsna_path/'sample/train').mkdir(exist_ok=True)\n",
    "(rsna_path/'sample/test').mkdir(exist_ok=True)"
   ]
  },
  {
   "cell_type": "code",
   "execution_count": 23,
   "metadata": {},
   "outputs": [
    {
     "name": "stdout",
     "output_type": "stream",
     "text": [
      "test  train\r\n"
     ]
    }
   ],
   "source": [
    "! ls {rsna_path/'sample'}"
   ]
  },
  {
   "cell_type": "code",
   "execution_count": 28,
   "metadata": {},
   "outputs": [
    {
     "data": {
      "text/plain": [
       "28989"
      ]
     },
     "execution_count": 28,
     "metadata": {},
     "output_type": "execute_result"
    }
   ],
   "source": [
    "len(stage_1_train_labels_csv)"
   ]
  },
  {
   "cell_type": "code",
   "execution_count": 39,
   "metadata": {},
   "outputs": [
    {
     "data": {
      "text/plain": [
       "2568"
      ]
     },
     "execution_count": 39,
     "metadata": {},
     "output_type": "execute_result"
    }
   ],
   "source": [
    "df_sample = stage_1_train_labels_csv.sample(n=n_sample).reset_index(); len(df_sample)"
   ]
  },
  {
   "cell_type": "code",
   "execution_count": 41,
   "metadata": {},
   "outputs": [],
   "source": [
    "SAMPLE_TRN_LABELS = '../tmp/rsna_train_sample.feather'"
   ]
  },
  {
   "cell_type": "code",
   "execution_count": 40,
   "metadata": {},
   "outputs": [],
   "source": [
    "df_sample.to_feather(SAMPLE_TRN_LABELS)"
   ]
  },
  {
   "cell_type": "code",
   "execution_count": 42,
   "metadata": {},
   "outputs": [],
   "source": [
    "df_sample = pd.read_feather(SAMPLE_TRN_LABELS)"
   ]
  },
  {
   "cell_type": "code",
   "execution_count": 73,
   "metadata": {},
   "outputs": [],
   "source": [
    "def bbox_corners(row):\n",
    "    x = row['x']\n",
    "    y = row['y']\n",
    "    width = row['width']\n",
    "    height = row['height'] \n",
    "    if math.isnan(x):\n",
    "        return \"0 0 0 0\"\n",
    "    \n",
    "    x2 = x + width\n",
    "    y2 = y + height\n",
    "    return f\"{x} {y} {x2} {y2}\" "
   ]
  },
  {
   "cell_type": "code",
   "execution_count": 50,
   "metadata": {
    "scrolled": true
   },
   "outputs": [
    {
     "data": {
      "text/plain": [
       "0.3072429906542056"
      ]
     },
     "execution_count": 50,
     "metadata": {},
     "output_type": "execute_result"
    }
   ],
   "source": [
    "# of rows where Target = 1\n",
    "n_rows_target_1 = len(df_sample[df_sample['Target'] != 0])\n",
    "n_rows_target_1 / n_sample"
   ]
  },
  {
   "cell_type": "code",
   "execution_count": 75,
   "metadata": {
    "scrolled": true
   },
   "outputs": [],
   "source": [
    "df_sample['bbox_corners'] = df_sample.apply(bbox_corners, axis=1)"
   ]
  },
  {
   "cell_type": "code",
   "execution_count": 79,
   "metadata": {},
   "outputs": [],
   "source": [
    "df_sample_bbox_corners = df_sample[['patientId', 'bbox_corners']]"
   ]
  },
  {
   "cell_type": "code",
   "execution_count": 82,
   "metadata": {},
   "outputs": [],
   "source": [
    "BBOX_CSV_CORNERS = '../tmp/df_sample_bbox_corners.csv'"
   ]
  },
  {
   "cell_type": "code",
   "execution_count": 81,
   "metadata": {},
   "outputs": [],
   "source": [
    "df_sample_bbox_corners.to_csv(BBOX_CSV_CORNERS, index=False)"
   ]
  },
  {
   "cell_type": "code",
   "execution_count": 83,
   "metadata": {},
   "outputs": [],
   "source": [
    "df_sample_bbox_corners = pd.read_csv(BBOX_CSV_CORNERS)"
   ]
  },
  {
   "cell_type": "code",
   "execution_count": 84,
   "metadata": {},
   "outputs": [
    {
     "data": {
      "text/html": [
       "<div>\n",
       "<style scoped>\n",
       "    .dataframe tbody tr th:only-of-type {\n",
       "        vertical-align: middle;\n",
       "    }\n",
       "\n",
       "    .dataframe tbody tr th {\n",
       "        vertical-align: top;\n",
       "    }\n",
       "\n",
       "    .dataframe thead th {\n",
       "        text-align: right;\n",
       "    }\n",
       "</style>\n",
       "<table border=\"1\" class=\"dataframe\">\n",
       "  <thead>\n",
       "    <tr style=\"text-align: right;\">\n",
       "      <th></th>\n",
       "      <th>patientId</th>\n",
       "      <th>bbox_corners</th>\n",
       "    </tr>\n",
       "  </thead>\n",
       "  <tbody>\n",
       "    <tr>\n",
       "      <th>0</th>\n",
       "      <td>cdff09a5-ca16-4391-863b-ae2cc6946018</td>\n",
       "      <td>0 0 0 0</td>\n",
       "    </tr>\n",
       "    <tr>\n",
       "      <th>1</th>\n",
       "      <td>7e25dcde-dc45-41ca-85f6-a73480915d93</td>\n",
       "      <td>0 0 0 0</td>\n",
       "    </tr>\n",
       "    <tr>\n",
       "      <th>2</th>\n",
       "      <td>3fd032bc-c98f-4fc9-8a4b-903797721666</td>\n",
       "      <td>0 0 0 0</td>\n",
       "    </tr>\n",
       "    <tr>\n",
       "      <th>3</th>\n",
       "      <td>0beac0c9-331a-4aad-9cec-099aff98c399</td>\n",
       "      <td>614.0 176.0 777.0 356.0</td>\n",
       "    </tr>\n",
       "    <tr>\n",
       "      <th>4</th>\n",
       "      <td>ffa424d2-6e6b-4eed-93ab-7551e8941215</td>\n",
       "      <td>187.0 462.0 367.0 681.0</td>\n",
       "    </tr>\n",
       "    <tr>\n",
       "      <th>5</th>\n",
       "      <td>a4a3fd3c-331e-43d8-8e21-1d9162d34424</td>\n",
       "      <td>0 0 0 0</td>\n",
       "    </tr>\n",
       "    <tr>\n",
       "      <th>6</th>\n",
       "      <td>9f29797b-280d-4b7b-9c7a-aba284959b93</td>\n",
       "      <td>0 0 0 0</td>\n",
       "    </tr>\n",
       "    <tr>\n",
       "      <th>7</th>\n",
       "      <td>614af470-e19d-4013-baa2-eae7e2b0198a</td>\n",
       "      <td>0 0 0 0</td>\n",
       "    </tr>\n",
       "    <tr>\n",
       "      <th>8</th>\n",
       "      <td>98e42965-bd5b-44b2-92de-38f8aa015341</td>\n",
       "      <td>0 0 0 0</td>\n",
       "    </tr>\n",
       "    <tr>\n",
       "      <th>9</th>\n",
       "      <td>bfbd4ed3-1d78-437b-b5dc-09ab063b55fa</td>\n",
       "      <td>242.0 252.0 437.0 620.0</td>\n",
       "    </tr>\n",
       "  </tbody>\n",
       "</table>\n",
       "</div>"
      ],
      "text/plain": [
       "                              patientId             bbox_corners\n",
       "0  cdff09a5-ca16-4391-863b-ae2cc6946018                  0 0 0 0\n",
       "1  7e25dcde-dc45-41ca-85f6-a73480915d93                  0 0 0 0\n",
       "2  3fd032bc-c98f-4fc9-8a4b-903797721666                  0 0 0 0\n",
       "3  0beac0c9-331a-4aad-9cec-099aff98c399  614.0 176.0 777.0 356.0\n",
       "4  ffa424d2-6e6b-4eed-93ab-7551e8941215  187.0 462.0 367.0 681.0\n",
       "5  a4a3fd3c-331e-43d8-8e21-1d9162d34424                  0 0 0 0\n",
       "6  9f29797b-280d-4b7b-9c7a-aba284959b93                  0 0 0 0\n",
       "7  614af470-e19d-4013-baa2-eae7e2b0198a                  0 0 0 0\n",
       "8  98e42965-bd5b-44b2-92de-38f8aa015341                  0 0 0 0\n",
       "9  bfbd4ed3-1d78-437b-b5dc-09ab063b55fa  242.0 252.0 437.0 620.0"
      ]
     },
     "execution_count": 84,
     "metadata": {},
     "output_type": "execute_result"
    }
   ],
   "source": [
    "df_sample_bbox_corners[:10]"
   ]
  },
  {
   "cell_type": "code",
   "execution_count": null,
   "metadata": {},
   "outputs": [],
   "source": []
  }
 ],
 "metadata": {
  "kernelspec": {
   "display_name": "Python 3",
   "language": "python",
   "name": "python3"
  },
  "language_info": {
   "codemirror_mode": {
    "name": "ipython",
    "version": 3
   },
   "file_extension": ".py",
   "mimetype": "text/x-python",
   "name": "python",
   "nbconvert_exporter": "python",
   "pygments_lexer": "ipython3",
   "version": "3.6.5"
  }
 },
 "nbformat": 4,
 "nbformat_minor": 2
}
