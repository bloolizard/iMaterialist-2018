{
 "cells": [
  {
   "cell_type": "code",
   "execution_count": 6,
   "metadata": {},
   "outputs": [
    {
     "data": {
      "text/html": [
       "<script>requirejs.config({paths: { 'plotly': ['https://cdn.plot.ly/plotly-latest.min']},});if(!window.Plotly) {{require(['plotly'],function(plotly) {window.Plotly=plotly;});}}</script>"
      ],
      "text/vnd.plotly.v1+html": [
       "<script>requirejs.config({paths: { 'plotly': ['https://cdn.plot.ly/plotly-latest.min']},});if(!window.Plotly) {{require(['plotly'],function(plotly) {window.Plotly=plotly;});}}</script>"
      ]
     },
     "metadata": {},
     "output_type": "display_data"
    }
   ],
   "source": [
    "import numpy as np # linear algebra\n",
    "import pandas as pd # data processing, CSV file I/O (e.g. pd.read_csv)\n",
    "import matplotlib.pyplot as plt\n",
    "import seaborn as sns\n",
    "from sklearn.feature_extraction.text import TfidfVectorizer, CountVectorizer\n",
    "from sklearn.decomposition import TruncatedSVD\n",
    "from sklearn import preprocessing, model_selection, metrics\n",
    "import lightgbm as lgb\n",
    "\n",
    "color = sns.color_palette()\n",
    "%matplotlib inline\n",
    "\n",
    "import plotly.offline as py\n",
    "py.init_notebook_mode(connected=True)\n",
    "import plotly.graph_objs as go\n",
    "import plotly.tools as tls\n",
    "\n",
    "pd.options.mode.chained_assignment = None\n",
    "pd.options.display.max_columns = 999"
   ]
  },
  {
   "cell_type": "code",
   "execution_count": 8,
   "metadata": {},
   "outputs": [],
   "source": [
    "path = \"/home/edwin/Datasets/competitions/avito-demand-prediction/\""
   ]
  },
  {
   "cell_type": "code",
   "execution_count": 10,
   "metadata": {},
   "outputs": [
    {
     "name": "stdout",
     "output_type": "stream",
     "text": [
      "data\n",
      "periods_test.csv.zip\n",
      "periods_train.csv.zip\n",
      "sample_submission.csv\n",
      "test_active.csv.zip\n",
      "test.csv\n",
      "test.csv.zip\n",
      "test_jpg.zip\n",
      "train_active.csv.zip\n",
      "train.csv\n",
      "train.csv.zip\n",
      "train_jpg.zip\n",
      "\n"
     ]
    }
   ],
   "source": [
    "from subprocess import check_output\n",
    "print(check_output([\"ls\", f\"{path}\"]).decode(\"utf8\"))"
   ]
  },
  {
   "cell_type": "code",
   "execution_count": 32,
   "metadata": {},
   "outputs": [],
   "source": [
    "train_df = pd.read_csv(f\"{path}train.csv\", parse_dates=[\"activation_date\"])"
   ]
  },
  {
   "cell_type": "code",
   "execution_count": 15,
   "metadata": {},
   "outputs": [
    {
     "data": {
      "text/plain": [
       "(1503424, 18)"
      ]
     },
     "execution_count": 15,
     "metadata": {},
     "output_type": "execute_result"
    }
   ],
   "source": [
    "train_df.shape"
   ]
  },
  {
   "cell_type": "code",
   "execution_count": 16,
   "metadata": {},
   "outputs": [
    {
     "data": {
      "text/html": [
       "<div>\n",
       "<style scoped>\n",
       "    .dataframe tbody tr th:only-of-type {\n",
       "        vertical-align: middle;\n",
       "    }\n",
       "\n",
       "    .dataframe tbody tr th {\n",
       "        vertical-align: top;\n",
       "    }\n",
       "\n",
       "    .dataframe thead th {\n",
       "        text-align: right;\n",
       "    }\n",
       "</style>\n",
       "<table border=\"1\" class=\"dataframe\">\n",
       "  <thead>\n",
       "    <tr style=\"text-align: right;\">\n",
       "      <th></th>\n",
       "      <th>item_id</th>\n",
       "      <th>user_id</th>\n",
       "      <th>region</th>\n",
       "      <th>city</th>\n",
       "      <th>parent_category_name</th>\n",
       "      <th>category_name</th>\n",
       "      <th>param_1</th>\n",
       "      <th>param_2</th>\n",
       "      <th>param_3</th>\n",
       "      <th>title</th>\n",
       "      <th>description</th>\n",
       "      <th>price</th>\n",
       "      <th>item_seq_number</th>\n",
       "      <th>activation_date</th>\n",
       "      <th>user_type</th>\n",
       "      <th>image</th>\n",
       "      <th>image_top_1</th>\n",
       "      <th>deal_probability</th>\n",
       "    </tr>\n",
       "  </thead>\n",
       "  <tbody>\n",
       "    <tr>\n",
       "      <th>0</th>\n",
       "      <td>b912c3c6a6ad</td>\n",
       "      <td>e00f8ff2eaf9</td>\n",
       "      <td>Свердловская область</td>\n",
       "      <td>Екатеринбург</td>\n",
       "      <td>Личные вещи</td>\n",
       "      <td>Товары для детей и игрушки</td>\n",
       "      <td>Постельные принадлежности</td>\n",
       "      <td>NaN</td>\n",
       "      <td>NaN</td>\n",
       "      <td>Кокоби(кокон для сна)</td>\n",
       "      <td>Кокон для сна малыша,пользовались меньше месяц...</td>\n",
       "      <td>400.0</td>\n",
       "      <td>2</td>\n",
       "      <td>2017-03-28</td>\n",
       "      <td>Private</td>\n",
       "      <td>d10c7e016e03247a3bf2d13348fe959fe6f436c1caf64c...</td>\n",
       "      <td>1008.0</td>\n",
       "      <td>0.12789</td>\n",
       "    </tr>\n",
       "    <tr>\n",
       "      <th>1</th>\n",
       "      <td>2dac0150717d</td>\n",
       "      <td>39aeb48f0017</td>\n",
       "      <td>Самарская область</td>\n",
       "      <td>Самара</td>\n",
       "      <td>Для дома и дачи</td>\n",
       "      <td>Мебель и интерьер</td>\n",
       "      <td>Другое</td>\n",
       "      <td>NaN</td>\n",
       "      <td>NaN</td>\n",
       "      <td>Стойка для Одежды</td>\n",
       "      <td>Стойка для одежды, под вешалки. С бутика.</td>\n",
       "      <td>3000.0</td>\n",
       "      <td>19</td>\n",
       "      <td>2017-03-26</td>\n",
       "      <td>Private</td>\n",
       "      <td>79c9392cc51a9c81c6eb91eceb8e552171db39d7142700...</td>\n",
       "      <td>692.0</td>\n",
       "      <td>0.00000</td>\n",
       "    </tr>\n",
       "    <tr>\n",
       "      <th>2</th>\n",
       "      <td>ba83aefab5dc</td>\n",
       "      <td>91e2f88dd6e3</td>\n",
       "      <td>Ростовская область</td>\n",
       "      <td>Ростов-на-Дону</td>\n",
       "      <td>Бытовая электроника</td>\n",
       "      <td>Аудио и видео</td>\n",
       "      <td>Видео, DVD и Blu-ray плееры</td>\n",
       "      <td>NaN</td>\n",
       "      <td>NaN</td>\n",
       "      <td>Philips bluray</td>\n",
       "      <td>В хорошем состоянии, домашний кинотеатр с blu ...</td>\n",
       "      <td>4000.0</td>\n",
       "      <td>9</td>\n",
       "      <td>2017-03-20</td>\n",
       "      <td>Private</td>\n",
       "      <td>b7f250ee3f39e1fedd77c141f273703f4a9be59db4b48a...</td>\n",
       "      <td>3032.0</td>\n",
       "      <td>0.43177</td>\n",
       "    </tr>\n",
       "    <tr>\n",
       "      <th>3</th>\n",
       "      <td>02996f1dd2ea</td>\n",
       "      <td>bf5cccea572d</td>\n",
       "      <td>Татарстан</td>\n",
       "      <td>Набережные Челны</td>\n",
       "      <td>Личные вещи</td>\n",
       "      <td>Товары для детей и игрушки</td>\n",
       "      <td>Автомобильные кресла</td>\n",
       "      <td>NaN</td>\n",
       "      <td>NaN</td>\n",
       "      <td>Автокресло</td>\n",
       "      <td>Продам кресло от0-25кг</td>\n",
       "      <td>2200.0</td>\n",
       "      <td>286</td>\n",
       "      <td>2017-03-25</td>\n",
       "      <td>Company</td>\n",
       "      <td>e6ef97e0725637ea84e3d203e82dadb43ed3cc0a1c8413...</td>\n",
       "      <td>796.0</td>\n",
       "      <td>0.80323</td>\n",
       "    </tr>\n",
       "    <tr>\n",
       "      <th>4</th>\n",
       "      <td>7c90be56d2ab</td>\n",
       "      <td>ef50846afc0b</td>\n",
       "      <td>Волгоградская область</td>\n",
       "      <td>Волгоград</td>\n",
       "      <td>Транспорт</td>\n",
       "      <td>Автомобили</td>\n",
       "      <td>С пробегом</td>\n",
       "      <td>ВАЗ (LADA)</td>\n",
       "      <td>2110</td>\n",
       "      <td>ВАЗ 2110, 2003</td>\n",
       "      <td>Все вопросы по телефону.</td>\n",
       "      <td>40000.0</td>\n",
       "      <td>3</td>\n",
       "      <td>2017-03-16</td>\n",
       "      <td>Private</td>\n",
       "      <td>54a687a3a0fc1d68aed99bdaaf551c5c70b761b16fd0a2...</td>\n",
       "      <td>2264.0</td>\n",
       "      <td>0.20797</td>\n",
       "    </tr>\n",
       "  </tbody>\n",
       "</table>\n",
       "</div>"
      ],
      "text/plain": [
       "        item_id       user_id                 region              city  \\\n",
       "0  b912c3c6a6ad  e00f8ff2eaf9   Свердловская область      Екатеринбург   \n",
       "1  2dac0150717d  39aeb48f0017      Самарская область            Самара   \n",
       "2  ba83aefab5dc  91e2f88dd6e3     Ростовская область    Ростов-на-Дону   \n",
       "3  02996f1dd2ea  bf5cccea572d              Татарстан  Набережные Челны   \n",
       "4  7c90be56d2ab  ef50846afc0b  Волгоградская область         Волгоград   \n",
       "\n",
       "  parent_category_name               category_name  \\\n",
       "0          Личные вещи  Товары для детей и игрушки   \n",
       "1      Для дома и дачи           Мебель и интерьер   \n",
       "2  Бытовая электроника               Аудио и видео   \n",
       "3          Личные вещи  Товары для детей и игрушки   \n",
       "4            Транспорт                  Автомобили   \n",
       "\n",
       "                       param_1     param_2 param_3                  title  \\\n",
       "0    Постельные принадлежности         NaN     NaN  Кокоби(кокон для сна)   \n",
       "1                       Другое         NaN     NaN      Стойка для Одежды   \n",
       "2  Видео, DVD и Blu-ray плееры         NaN     NaN         Philips bluray   \n",
       "3         Автомобильные кресла         NaN     NaN             Автокресло   \n",
       "4                   С пробегом  ВАЗ (LADA)    2110         ВАЗ 2110, 2003   \n",
       "\n",
       "                                         description    price  \\\n",
       "0  Кокон для сна малыша,пользовались меньше месяц...    400.0   \n",
       "1          Стойка для одежды, под вешалки. С бутика.   3000.0   \n",
       "2  В хорошем состоянии, домашний кинотеатр с blu ...   4000.0   \n",
       "3                             Продам кресло от0-25кг   2200.0   \n",
       "4                           Все вопросы по телефону.  40000.0   \n",
       "\n",
       "   item_seq_number activation_date user_type  \\\n",
       "0                2      2017-03-28   Private   \n",
       "1               19      2017-03-26   Private   \n",
       "2                9      2017-03-20   Private   \n",
       "3              286      2017-03-25   Company   \n",
       "4                3      2017-03-16   Private   \n",
       "\n",
       "                                               image  image_top_1  \\\n",
       "0  d10c7e016e03247a3bf2d13348fe959fe6f436c1caf64c...       1008.0   \n",
       "1  79c9392cc51a9c81c6eb91eceb8e552171db39d7142700...        692.0   \n",
       "2  b7f250ee3f39e1fedd77c141f273703f4a9be59db4b48a...       3032.0   \n",
       "3  e6ef97e0725637ea84e3d203e82dadb43ed3cc0a1c8413...        796.0   \n",
       "4  54a687a3a0fc1d68aed99bdaaf551c5c70b761b16fd0a2...       2264.0   \n",
       "\n",
       "   deal_probability  \n",
       "0           0.12789  \n",
       "1           0.00000  \n",
       "2           0.43177  \n",
       "3           0.80323  \n",
       "4           0.20797  "
      ]
     },
     "execution_count": 16,
     "metadata": {},
     "output_type": "execute_result"
    }
   ],
   "source": [
    "train_df.head()"
   ]
  },
  {
   "cell_type": "code",
   "execution_count": 18,
   "metadata": {},
   "outputs": [
    {
     "data": {
      "image/png": "[encoded data removed]",
      "text/plain": [
       "<matplotlib.figure.Figure at 0x7f0900369940>"
      ]
     },
     "metadata": {},
     "output_type": "display_data"
    }
   ],
   "source": [
    "plt.figure(figsize=(12,18))\n",
    "sns.distplot(train_df[\"deal_probability\"].values, bins=100, kde=False)\n",
    "plt.xlabel('Deal Probability', fontsize=12)\n",
    "plt.title(\"Deal Probability Histogram\", fontsize=14)\n",
    "plt.show()"
   ]
  },
  {
   "cell_type": "code",
   "execution_count": 19,
   "metadata": {},
   "outputs": [
    {
     "data": {
      "image/png": "[encoded data removed]",
      "text/plain": [
       "<matplotlib.figure.Figure at 0x7f08ffd001d0>"
      ]
     },
     "metadata": {},
     "output_type": "display_data"
    }
   ],
   "source": [
    "plt.figure(figsize=(8,6))\n",
    "plt.scatter(range(train_df.shape[0]), np.sort(train_df['deal_probability'].values))\n",
    "plt.xlabel('index', fontsize=12)\n",
    "plt.ylabel('deal probability', fontsize=12)\n",
    "plt.title('Deal Probability Distribution', fontsize=14)\n",
    "plt.show()"
   ]
  },
  {
   "cell_type": "code",
   "execution_count": 22,
   "metadata": {},
   "outputs": [],
   "source": [
    "# fill in missing values\n",
    "train_df[\"description\"].fillna(\"NA\", inplace=True)"
   ]
  },
  {
   "cell_type": "code",
   "execution_count": 25,
   "metadata": {},
   "outputs": [],
   "source": [
    "train_df[\"desc_nwords\"] = train_df[\"description\"].apply(lambda x: len(x.split()))"
   ]
  },
  {
   "cell_type": "code",
   "execution_count": 26,
   "metadata": {},
   "outputs": [
    {
     "data": {
      "text/plain": [
       "0            7\n",
       "1            7\n",
       "2           17\n",
       "3            3\n",
       "4            4\n",
       "5            3\n",
       "6           21\n",
       "7            4\n",
       "8            5\n",
       "9           11\n",
       "10          11\n",
       "11           1\n",
       "12          20\n",
       "13           7\n",
       "14           6\n",
       "15          31\n",
       "16          61\n",
       "17           5\n",
       "18          11\n",
       "19          43\n",
       "20          34\n",
       "21          17\n",
       "22          19\n",
       "23           6\n",
       "24          66\n",
       "25          32\n",
       "26           6\n",
       "27           7\n",
       "28           9\n",
       "29           4\n",
       "          ... \n",
       "1503394     27\n",
       "1503395      4\n",
       "1503396      4\n",
       "1503397     13\n",
       "1503398      8\n",
       "1503399      5\n",
       "1503400      1\n",
       "1503401      3\n",
       "1503402     64\n",
       "1503403     15\n",
       "1503404     18\n",
       "1503405     10\n",
       "1503406      8\n",
       "1503407      1\n",
       "1503408     39\n",
       "1503409      5\n",
       "1503410     17\n",
       "1503411      1\n",
       "1503412      6\n",
       "1503413      8\n",
       "1503414     30\n",
       "1503415      8\n",
       "1503416    115\n",
       "1503417     34\n",
       "1503418     14\n",
       "1503419      1\n",
       "1503420     34\n",
       "1503421     27\n",
       "1503422      6\n",
       "1503423    145\n",
       "Name: desc_nwords, Length: 1503424, dtype: int64"
      ]
     },
     "execution_count": 26,
     "metadata": {},
     "output_type": "execute_result"
    }
   ],
   "source": [
    "train_df[\"desc_nwords\"]"
   ]
  },
  {
   "cell_type": "code",
   "execution_count": 27,
   "metadata": {},
   "outputs": [
    {
     "data": {
      "text/plain": [
       "0              400.0\n",
       "1             3000.0\n",
       "2             4000.0\n",
       "3             2200.0\n",
       "4            40000.0\n",
       "5             1300.0\n",
       "6            11000.0\n",
       "7              500.0\n",
       "8              500.0\n",
       "9              400.0\n",
       "10           18000.0\n",
       "11               1.0\n",
       "12              70.0\n",
       "13            2500.0\n",
       "14            5000.0\n",
       "15             800.0\n",
       "16          140000.0\n",
       "17             500.0\n",
       "18            1000.0\n",
       "19          100000.0\n",
       "20         1748000.0\n",
       "21            2600.0\n",
       "22          249000.0\n",
       "23            1300.0\n",
       "24               NaN\n",
       "25            1500.0\n",
       "26            1000.0\n",
       "27            1500.0\n",
       "28            1000.0\n",
       "29             200.0\n",
       "             ...    \n",
       "1503394       2000.0\n",
       "1503395      20000.0\n",
       "1503396          NaN\n",
       "1503397        450.0\n",
       "1503398        500.0\n",
       "1503399        300.0\n",
       "1503400        400.0\n",
       "1503401        250.0\n",
       "1503402     720000.0\n",
       "1503403        500.0\n",
       "1503404    1300000.0\n",
       "1503405       3000.0\n",
       "1503406       3000.0\n",
       "1503407        300.0\n",
       "1503408    1600000.0\n",
       "1503409        480.0\n",
       "1503410       3000.0\n",
       "1503411        150.0\n",
       "1503412        150.0\n",
       "1503413       8000.0\n",
       "1503414       7000.0\n",
       "1503415    1850000.0\n",
       "1503416        200.0\n",
       "1503417     160000.0\n",
       "1503418        500.0\n",
       "1503419        300.0\n",
       "1503420        200.0\n",
       "1503421          NaN\n",
       "1503422        350.0\n",
       "1503423       1500.0\n",
       "Name: price, Length: 1503424, dtype: float64"
      ]
     },
     "execution_count": 27,
     "metadata": {},
     "output_type": "execute_result"
    }
   ],
   "source": [
    "train_df[\"price\"]"
   ]
  },
  {
   "cell_type": "code",
   "execution_count": 36,
   "metadata": {},
   "outputs": [
    {
     "data": {
      "text/plain": [
       "0              400.0\n",
       "1             3000.0\n",
       "2             4000.0\n",
       "3             2200.0\n",
       "4            40000.0\n",
       "5             1300.0\n",
       "6            11000.0\n",
       "7              500.0\n",
       "8              500.0\n",
       "9              400.0\n",
       "10           18000.0\n",
       "11               1.0\n",
       "12              70.0\n",
       "13            2500.0\n",
       "14            5000.0\n",
       "15             800.0\n",
       "16          140000.0\n",
       "17             500.0\n",
       "18            1000.0\n",
       "19          100000.0\n",
       "20         1748000.0\n",
       "21            2600.0\n",
       "22          249000.0\n",
       "23            1300.0\n",
       "24               0.0\n",
       "25            1500.0\n",
       "26            1000.0\n",
       "27            1500.0\n",
       "28            1000.0\n",
       "29             200.0\n",
       "             ...    \n",
       "1503394       2000.0\n",
       "1503395      20000.0\n",
       "1503396          0.0\n",
       "1503397        450.0\n",
       "1503398        500.0\n",
       "1503399        300.0\n",
       "1503400        400.0\n",
       "1503401        250.0\n",
       "1503402     720000.0\n",
       "1503403        500.0\n",
       "1503404    1300000.0\n",
       "1503405       3000.0\n",
       "1503406       3000.0\n",
       "1503407        300.0\n",
       "1503408    1600000.0\n",
       "1503409        480.0\n",
       "1503410       3000.0\n",
       "1503411        150.0\n",
       "1503412        150.0\n",
       "1503413       8000.0\n",
       "1503414       7000.0\n",
       "1503415    1850000.0\n",
       "1503416        200.0\n",
       "1503417     160000.0\n",
       "1503418        500.0\n",
       "1503419        300.0\n",
       "1503420        200.0\n",
       "1503421          0.0\n",
       "1503422        350.0\n",
       "1503423       1500.0\n",
       "Name: price, Length: 1503424, dtype: float64"
      ]
     },
     "execution_count": 36,
     "metadata": {},
     "output_type": "execute_result"
    }
   ],
   "source": [
    "train_df[\"price\"]"
   ]
  },
  {
   "cell_type": "code",
   "execution_count": 37,
   "metadata": {},
   "outputs": [],
   "source": [
    "# important variables so far, price, image description"
   ]
  },
  {
   "cell_type": "code",
   "execution_count": 47,
   "metadata": {},
   "outputs": [
    {
     "data": {
      "image/png": "[encoded data removed]",
      "text/plain": [
       "<matplotlib.figure.Figure at 0x7f084df1c748>"
      ]
     },
     "metadata": {},
     "output_type": "display_data"
    }
   ],
   "source": [
    "plt.plot(train_df[\"price\"].values, train_df[\"deal_probability\"].values, 'ro')\n",
    "plt.show()\n"
   ]
  },
  {
   "cell_type": "code",
   "execution_count": 48,
   "metadata": {},
   "outputs": [
    {
     "data": {
      "text/plain": [
       "array([ 0.12789,  0.     ,  0.43177, ...,  0.39569,  0.     ,  0.     ])"
      ]
     },
     "execution_count": 48,
     "metadata": {},
     "output_type": "execute_result"
    }
   ],
   "source": [
    "train_df[\"deal_probability\"].values"
   ]
  },
  {
   "cell_type": "code",
   "execution_count": 49,
   "metadata": {},
   "outputs": [
    {
     "data": {
      "text/plain": [
       "array([  400.,  3000.,  4000., ...,     0.,   350.,  1500.])"
      ]
     },
     "execution_count": 49,
     "metadata": {},
     "output_type": "execute_result"
    }
   ],
   "source": [
    "train_df[\"price\"].values"
   ]
  },
  {
   "cell_type": "code",
   "execution_count": 53,
   "metadata": {},
   "outputs": [
    {
     "name": "stderr",
     "output_type": "stream",
     "text": [
      "/home/edwin/anaconda3/lib/python3.6/site-packages/ipykernel_launcher.py:2: RuntimeWarning:\n",
      "\n",
      "divide by zero encountered in log\n",
      "\n"
     ]
    },
    {
     "data": {
      "image/png": "[encoded data removed]",
      "text/plain": [
       "<matplotlib.figure.Figure at 0x7f08ffd38a20>"
      ]
     },
     "metadata": {},
     "output_type": "display_data"
    }
   ],
   "source": [
    "plt.figure(figsize=(15,6))\n",
    "plt.scatter(np.log(train_df[\"price\"]), train_df[\"deal_probability\"])\n",
    "plt.xlabel('Ad Price')\n",
    "plt.ylabel('Deal Probability')\n",
    "plt.show()"
   ]
  },
  {
   "cell_type": "code",
   "execution_count": 59,
   "metadata": {},
   "outputs": [
    {
     "data": {
      "text/plain": [
       "0             Свердловская область\n",
       "1                Самарская область\n",
       "2               Ростовская область\n",
       "3                        Татарстан\n",
       "4            Волгоградская область\n",
       "5                        Татарстан\n",
       "6            Нижегородская область\n",
       "7                    Пермский край\n",
       "8             Оренбургская область\n",
       "9            Нижегородская область\n",
       "10             Ханты-Мансийский АО\n",
       "11               Тюменская область\n",
       "12            Оренбургская область\n",
       "13              Ростовская область\n",
       "14                    Башкортостан\n",
       "15                       Татарстан\n",
       "16              Краснодарский край\n",
       "17           Новосибирская область\n",
       "18                  Омская область\n",
       "19            Белгородская область\n",
       "20           Новосибирская область\n",
       "21            Свердловская область\n",
       "22             Челябинская область\n",
       "23              Ростовская область\n",
       "24           Нижегородская область\n",
       "25             Воронежская область\n",
       "26               Самарская область\n",
       "27             Кемеровская область\n",
       "28             Саратовская область\n",
       "29           Нижегородская область\n",
       "                    ...           \n",
       "1503394         Ростовская область\n",
       "1503395          Иркутская область\n",
       "1503396           Тульская область\n",
       "1503397        Ярославская область\n",
       "1503398          Красноярский край\n",
       "1503399      Волгоградская область\n",
       "1503400        Воронежская область\n",
       "1503401        Ханты-Мансийский АО\n",
       "1503402          Самарская область\n",
       "1503403      Нижегородская область\n",
       "1503404          Самарская область\n",
       "1503405    Калининградская область\n",
       "1503406         Краснодарский край\n",
       "1503407       Свердловская область\n",
       "1503408        Саратовская область\n",
       "1503409        Воронежская область\n",
       "1503410         Краснодарский край\n",
       "1503411             Алтайский край\n",
       "1503412          Красноярский край\n",
       "1503413        Ханты-Мансийский АО\n",
       "1503414             Алтайский край\n",
       "1503415        Челябинская область\n",
       "1503416           Тульская область\n",
       "1503417        Ставропольский край\n",
       "1503418       Оренбургская область\n",
       "1503419              Пермский край\n",
       "1503420         Краснодарский край\n",
       "1503421               Башкортостан\n",
       "1503422              Пермский край\n",
       "1503423         Краснодарский край\n",
       "Name: region, Length: 1503424, dtype: category\n",
       "Categories (28, object): [Алтайский край < Башкортостан < Белгородская область < Владимирская область ... Удмуртия < Ханты-Мансийский АО < Челябинская область < Ярославская область]"
      ]
     },
     "execution_count": 59,
     "metadata": {},
     "output_type": "execute_result"
    }
   ],
   "source": [
    "train_df['region'].astype('category').cat.as_ordered()"
   ]
  },
  {
   "cell_type": "code",
   "execution_count": null,
   "metadata": {},
   "outputs": [],
   "source": []
  }
 ],
 "metadata": {
  "kernelspec": {
   "display_name": "Python 3",
   "language": "python",
   "name": "python3"
  },
  "language_info": {
   "codemirror_mode": {
    "name": "ipython",
    "version": 3
   },
   "file_extension": ".py",
   "mimetype": "text/x-python",
   "name": "python",
   "nbconvert_exporter": "python",
   "pygments_lexer": "ipython3",
   "version": "3.6.1"
  }
 },
 "nbformat": 4,
 "nbformat_minor": 2
}
