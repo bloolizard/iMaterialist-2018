{
 "cells": [
  {
   "cell_type": "code",
   "execution_count": 74,
   "metadata": {},
   "outputs": [],
   "source": [
    "import torchvision.models as models\n",
    "resnet18 = models.resnet18()\n",
    "alexnet = models.alexnet()\n",
    "vgg16 = models.vgg16()\n",
    "squeezenet = models.squeezenet1_0()\n",
    "densenet = models.densenet161()\n",
    "inception = models.inception_v3()"
   ]
  },
  {
   "cell_type": "code",
   "execution_count": 75,
   "metadata": {},
   "outputs": [],
   "source": [
    "import torchvision.models as models\n",
    "resnet18 = models.resnet18(pretrained=True)\n",
    "alexnet = models.alexnet(pretrained=True)\n",
    "squeezenet = models.squeezenet1_0(pretrained=True)\n",
    "vgg16 = models.vgg16(pretrained=True)\n",
    "densenet = models.densenet161(pretrained=True)\n",
    "inception = models.inception_v3(pretrained=True)"
   ]
  },
  {
   "cell_type": "code",
   "execution_count": 76,
   "metadata": {},
   "outputs": [],
   "source": [
    "%matplotlib inline\n",
    "import time\n",
    "import numpy as np\n",
    "import pandas as pd\n",
    "import datetime as dt\n",
    "import matplotlib.pyplot as plt\n",
    "from os import listdir, makedirs, getcwd, remove\n",
    "from os.path import isfile, join, abspath, exists, isdir, expanduser\n",
    "from PIL import Image\n",
    "import torch\n",
    "from torch.optim import lr_scheduler\n",
    "from torch.autograd import Variable\n",
    "from torch.utils.data import Dataset, DataLoader\n",
    "import torchvision\n",
    "from torchvision import transforms, datasets, models"
   ]
  },
  {
   "cell_type": "code",
   "execution_count": 77,
   "metadata": {},
   "outputs": [],
   "source": [
    "np.random.seed(0)"
   ]
  },
  {
   "cell_type": "code",
   "execution_count": 9,
   "metadata": {},
   "outputs": [
    {
     "name": "stdout",
     "output_type": "stream",
     "text": [
      "--2018-04-14 17:48:22--  https://storage.googleapis.com/kaggle-datasets/2847/4958/pretrained-pytorch-models.zip?GoogleAccessId=web-data@kaggle-161607.iam.gserviceaccount.com&Expires=1524012488&Signature=FGFgwlBgzoXNmgkULtneejtNoV83jAxC13%2Bv8R0CJcaeZ8X9zni1S32hbYI11kxau7u1Qwq%2F16N0HiEoxLqCVE9hqNFgmQKonBT4qO%2FuFGKnXclH0C41P%2BkTf4dlTbVLJmAuohf1WDezP0NUcYsvBasBa5zhCYEbk7UFXQeZIVnUUqHBiMjwg%2FhPWXHdnnaRO1FnjaSHzTQjHWXl2acre4GuiNS3lL9Sovkp9wnmWLkZrNBLEuS%2BuOXnar8EUZUKUZ4VilFVzMkIDIbveH9wZEHpTayQZRhQYC%2FkUJlg9zSgfjLK9NpJpyLbiqQ3DWcm3j3JR2h2PxiFOykfnmw0gw%3D%3D\n",
      "Resolving storage.googleapis.com (storage.googleapis.com)... 172.217.164.112, 2607:f8b0:4005:80b::2010\n",
      "Connecting to storage.googleapis.com (storage.googleapis.com)|172.217.164.112|:443... connected.\n",
      "HTTP request sent, awaiting response... 200 OK\n",
      "Length: 359544231 (343M) [application/octet-stream]\n",
      "Saving to: ‘pretrained-pytorch-models.zip’\n",
      "\n",
      "pretrained-pytorch- 100%[===================>] 342.89M  9.40MB/s    in 37s     \n",
      "\n",
      "2018-04-14 17:48:59 (9.36 MB/s) - ‘pretrained-pytorch-models.zip’ saved [359544231/359544231]\n",
      "\n"
     ]
    }
   ],
   "source": [
    "! wget --header=\"Host: storage.googleapis.com\" --header=\"User-Agent: Mozilla/5.0 (Macintosh; Intel Mac OS X 10_12_6) AppleWebKit/537.36 (KHTML, like Gecko) Chrome/65.0.3325.181 Safari/537.36\" --header=\"Accept: text/html,application/xhtml+xml,application/xml;q=0.9,image/webp,image/apng,*/*;q=0.8\" --header=\"Accept-Language: en-US,en;q=0.9,it;q=0.8\" \"https://storage.googleapis.com/kaggle-datasets/2847/4958/pretrained-pytorch-models.zip?GoogleAccessId=web-data@kaggle-161607.iam.gserviceaccount.com&Expires=1524012488&Signature=FGFgwlBgzoXNmgkULtneejtNoV83jAxC13%2Bv8R0CJcaeZ8X9zni1S32hbYI11kxau7u1Qwq%2F16N0HiEoxLqCVE9hqNFgmQKonBT4qO%2FuFGKnXclH0C41P%2BkTf4dlTbVLJmAuohf1WDezP0NUcYsvBasBa5zhCYEbk7UFXQeZIVnUUqHBiMjwg%2FhPWXHdnnaRO1FnjaSHzTQjHWXl2acre4GuiNS3lL9Sovkp9wnmWLkZrNBLEuS%2BuOXnar8EUZUKUZ4VilFVzMkIDIbveH9wZEHpTayQZRhQYC%2FkUJlg9zSgfjLK9NpJpyLbiqQ3DWcm3j3JR2h2PxiFOykfnmw0gw%3D%3D\" -O \"pretrained-pytorch-models.zip\" -c"
   ]
  },
  {
   "cell_type": "code",
   "execution_count": 10,
   "metadata": {},
   "outputs": [
    {
     "name": "stdout",
     "output_type": "stream",
     "text": [
      "Cifar Practice.ipynb\t       imaterialist_full.pkl\r\n",
      "data\t\t\t       iMaterialist.ipynb\r\n",
      "DataLoader.ipynb\t       imaterialist.py\r\n",
      "df1.pkl\t\t\t       pretrained-pytorch-models.zip\r\n",
      "df_full.pkl\t\t       Simple Exploration of Data.ipynb\r\n",
      "Download Script.ipynb\t       Torch Vision Test.ipynb\r\n",
      "Google Landmark Dataset.ipynb  train_df.pkl\r\n",
      "iDataSample.pkl\t\t       wget-log\r\n"
     ]
    }
   ],
   "source": [
    "! ls"
   ]
  },
  {
   "cell_type": "code",
   "execution_count": 12,
   "metadata": {},
   "outputs": [
    {
     "name": "stdout",
     "output_type": "stream",
     "text": [
      "Archive:  pretrained-pytorch-models.zip\n",
      "  inflating: densenet161-17b70270.pth  \n",
      "  inflating: inception_v3_google-1a9a5a14.pth  \n",
      "  inflating: resnet18-5c106cde.pth   \n",
      "  inflating: resnet50-19c8e357.pth   \n",
      "  inflating: squeezenet1_0-a815701f.pth  \n",
      "  inflating: squeezenet1_1-f364aa15.pth  \n"
     ]
    }
   ],
   "source": [
    "! unzip pretrained-pytorch-models.zip"
   ]
  },
  {
   "cell_type": "code",
   "execution_count": 13,
   "metadata": {},
   "outputs": [],
   "source": [
    "cache_dir = expanduser(join('~', '.torch'))\n",
    "if not exists(cache_dir):\n",
    "    makedirs(cache_dir)\n",
    "models_dir = join(cache_dir, 'models')\n",
    "if not exists(models_dir):\n",
    "    makedir(models_dir)"
   ]
  },
  {
   "cell_type": "code",
   "execution_count": 15,
   "metadata": {},
   "outputs": [
    {
     "name": "stdout",
     "output_type": "stream",
     "text": [
      "densenet161-17b70270.pth\t  resnet50-19c8e357.pth\r\n",
      "inception_v3_google-1a9a5a14.pth  squeezenet1_0-a815701f.pth\r\n",
      "resnet18-5c106cde.pth\t\t  squeezenet1_1-f364aa15.pth\r\n"
     ]
    }
   ],
   "source": [
    "! ls {\"~/Developer/iMaterial/pretrained-pytorch-models\"}"
   ]
  },
  {
   "cell_type": "code",
   "execution_count": 17,
   "metadata": {},
   "outputs": [],
   "source": [
    "!cp ~/Developer/iMaterial/pretrained-pytorch-models/* ~/.torch/models"
   ]
  },
  {
   "cell_type": "code",
   "execution_count": 78,
   "metadata": {},
   "outputs": [],
   "source": [
    "resnet = models.resnet50(pretrained=True)"
   ]
  },
  {
   "cell_type": "code",
   "execution_count": 79,
   "metadata": {},
   "outputs": [],
   "source": [
    "path = \"/home/edwin/Datasets/competitions/dog-breed-identification/\"\n",
    "train_path = f\"{path}train\"\n",
    "test_path = f\"{path}test\""
   ]
  },
  {
   "cell_type": "code",
   "execution_count": 80,
   "metadata": {},
   "outputs": [],
   "source": [
    "INPUT_SIZE = 224\n",
    "NUM_CLASSES = 16\n",
    "data_dir = path\n",
    "labels = pd.read_csv(join(path, 'labels.csv'))"
   ]
  },
  {
   "cell_type": "code",
   "execution_count": 81,
   "metadata": {},
   "outputs": [
    {
     "data": {
      "text/html": [
       "<div>\n",
       "<style scoped>\n",
       "    .dataframe tbody tr th:only-of-type {\n",
       "        vertical-align: middle;\n",
       "    }\n",
       "\n",
       "    .dataframe tbody tr th {\n",
       "        vertical-align: top;\n",
       "    }\n",
       "\n",
       "    .dataframe thead th {\n",
       "        text-align: right;\n",
       "    }\n",
       "</style>\n",
       "<table border=\"1\" class=\"dataframe\">\n",
       "  <thead>\n",
       "    <tr style=\"text-align: right;\">\n",
       "      <th></th>\n",
       "      <th>id</th>\n",
       "      <th>breed</th>\n",
       "    </tr>\n",
       "  </thead>\n",
       "  <tbody>\n",
       "    <tr>\n",
       "      <th>0</th>\n",
       "      <td>000bec180eb18c7604dcecc8fe0dba07</td>\n",
       "      <td>boston_bull</td>\n",
       "    </tr>\n",
       "    <tr>\n",
       "      <th>1</th>\n",
       "      <td>001513dfcb2ffafc82cccf4d8bbaba97</td>\n",
       "      <td>dingo</td>\n",
       "    </tr>\n",
       "    <tr>\n",
       "      <th>2</th>\n",
       "      <td>001cdf01b096e06d78e9e5112d419397</td>\n",
       "      <td>pekinese</td>\n",
       "    </tr>\n",
       "    <tr>\n",
       "      <th>3</th>\n",
       "      <td>00214f311d5d2247d5dfe4fe24b2303d</td>\n",
       "      <td>bluetick</td>\n",
       "    </tr>\n",
       "    <tr>\n",
       "      <th>4</th>\n",
       "      <td>0021f9ceb3235effd7fcde7f7538ed62</td>\n",
       "      <td>golden_retriever</td>\n",
       "    </tr>\n",
       "    <tr>\n",
       "      <th>5</th>\n",
       "      <td>002211c81b498ef88e1b40b9abf84e1d</td>\n",
       "      <td>bedlington_terrier</td>\n",
       "    </tr>\n",
       "    <tr>\n",
       "      <th>6</th>\n",
       "      <td>00290d3e1fdd27226ba27a8ce248ce85</td>\n",
       "      <td>bedlington_terrier</td>\n",
       "    </tr>\n",
       "    <tr>\n",
       "      <th>7</th>\n",
       "      <td>002a283a315af96eaea0e28e7163b21b</td>\n",
       "      <td>borzoi</td>\n",
       "    </tr>\n",
       "    <tr>\n",
       "      <th>8</th>\n",
       "      <td>003df8b8a8b05244b1d920bb6cf451f9</td>\n",
       "      <td>basenji</td>\n",
       "    </tr>\n",
       "    <tr>\n",
       "      <th>9</th>\n",
       "      <td>0042188c895a2f14ef64a918ed9c7b64</td>\n",
       "      <td>scottish_deerhound</td>\n",
       "    </tr>\n",
       "    <tr>\n",
       "      <th>10</th>\n",
       "      <td>004396df1acd0f1247b740ca2b14616e</td>\n",
       "      <td>shetland_sheepdog</td>\n",
       "    </tr>\n",
       "    <tr>\n",
       "      <th>11</th>\n",
       "      <td>0067dc3eab0b3c3ef0439477624d85d6</td>\n",
       "      <td>walker_hound</td>\n",
       "    </tr>\n",
       "    <tr>\n",
       "      <th>12</th>\n",
       "      <td>00693b8bc2470375cc744a6391d397ec</td>\n",
       "      <td>maltese_dog</td>\n",
       "    </tr>\n",
       "    <tr>\n",
       "      <th>13</th>\n",
       "      <td>006cc3ddb9dc1bd827479569fcdc52dc</td>\n",
       "      <td>bluetick</td>\n",
       "    </tr>\n",
       "    <tr>\n",
       "      <th>14</th>\n",
       "      <td>0075dc49dab4024d12fafe67074d8a81</td>\n",
       "      <td>norfolk_terrier</td>\n",
       "    </tr>\n",
       "    <tr>\n",
       "      <th>15</th>\n",
       "      <td>00792e341f3c6eb33663e415d0715370</td>\n",
       "      <td>african_hunting_dog</td>\n",
       "    </tr>\n",
       "    <tr>\n",
       "      <th>16</th>\n",
       "      <td>007b5a16db9d9ff9d7ad39982703e429</td>\n",
       "      <td>wire-haired_fox_terrier</td>\n",
       "    </tr>\n",
       "    <tr>\n",
       "      <th>17</th>\n",
       "      <td>007b8a07882822475a4ce6581e70b1f8</td>\n",
       "      <td>redbone</td>\n",
       "    </tr>\n",
       "    <tr>\n",
       "      <th>18</th>\n",
       "      <td>007ff9a78eba2aebb558afea3a51c469</td>\n",
       "      <td>lakeland_terrier</td>\n",
       "    </tr>\n",
       "    <tr>\n",
       "      <th>19</th>\n",
       "      <td>008887054b18ba3c7601792b6a453cc3</td>\n",
       "      <td>boxer</td>\n",
       "    </tr>\n",
       "    <tr>\n",
       "      <th>20</th>\n",
       "      <td>008b1271ed1addaccf93783b39deab45</td>\n",
       "      <td>doberman</td>\n",
       "    </tr>\n",
       "    <tr>\n",
       "      <th>21</th>\n",
       "      <td>008ba178d6dfc1a583617470d19c1673</td>\n",
       "      <td>otterhound</td>\n",
       "    </tr>\n",
       "    <tr>\n",
       "      <th>22</th>\n",
       "      <td>009509be3ca7cce0ff9e37c8b09b1125</td>\n",
       "      <td>otterhound</td>\n",
       "    </tr>\n",
       "    <tr>\n",
       "      <th>23</th>\n",
       "      <td>0097c6242c6f3071762d9f85c3ef1b2f</td>\n",
       "      <td>bedlington_terrier</td>\n",
       "    </tr>\n",
       "    <tr>\n",
       "      <th>24</th>\n",
       "      <td>00a338a92e4e7bf543340dc849230e75</td>\n",
       "      <td>dingo</td>\n",
       "    </tr>\n",
       "    <tr>\n",
       "      <th>25</th>\n",
       "      <td>00a366d4b4a9bbb6c8a63126697b7656</td>\n",
       "      <td>golden_retriever</td>\n",
       "    </tr>\n",
       "    <tr>\n",
       "      <th>26</th>\n",
       "      <td>00a862390341c5be090dd72bd2bc19ef</td>\n",
       "      <td>standard_schnauzer</td>\n",
       "    </tr>\n",
       "    <tr>\n",
       "      <th>27</th>\n",
       "      <td>00b7d114bc5166a629a3cc03d9329120</td>\n",
       "      <td>irish_water_spaniel</td>\n",
       "    </tr>\n",
       "    <tr>\n",
       "      <th>28</th>\n",
       "      <td>00ba244566e36e0af3d979320fd3017f</td>\n",
       "      <td>black-and-tan_coonhound</td>\n",
       "    </tr>\n",
       "    <tr>\n",
       "      <th>29</th>\n",
       "      <td>00bee065dcec471f26394855c5c2f3de</td>\n",
       "      <td>cairn</td>\n",
       "    </tr>\n",
       "    <tr>\n",
       "      <th>...</th>\n",
       "      <td>...</td>\n",
       "      <td>...</td>\n",
       "    </tr>\n",
       "    <tr>\n",
       "      <th>10192</th>\n",
       "      <td>ff4afeb51a1473f7ba18669a8ff48bc9</td>\n",
       "      <td>border_terrier</td>\n",
       "    </tr>\n",
       "    <tr>\n",
       "      <th>10193</th>\n",
       "      <td>ff4bb57ce419cd637dd511a1b5474bff</td>\n",
       "      <td>appenzeller</td>\n",
       "    </tr>\n",
       "    <tr>\n",
       "      <th>10194</th>\n",
       "      <td>ff52a3909f5801a71161cec95d213107</td>\n",
       "      <td>west_highland_white_terrier</td>\n",
       "    </tr>\n",
       "    <tr>\n",
       "      <th>10195</th>\n",
       "      <td>ff54d45962b3123bb67052e8e29a60e7</td>\n",
       "      <td>basenji</td>\n",
       "    </tr>\n",
       "    <tr>\n",
       "      <th>10196</th>\n",
       "      <td>ff63ed894f068da8e2bbdfda50a9a9f8</td>\n",
       "      <td>boxer</td>\n",
       "    </tr>\n",
       "    <tr>\n",
       "      <th>10197</th>\n",
       "      <td>ff63fa05a58473138848f80840064d23</td>\n",
       "      <td>affenpinscher</td>\n",
       "    </tr>\n",
       "    <tr>\n",
       "      <th>10198</th>\n",
       "      <td>ff6f47aa8e181b6efa4d0be7b09b5628</td>\n",
       "      <td>golden_retriever</td>\n",
       "    </tr>\n",
       "    <tr>\n",
       "      <th>10199</th>\n",
       "      <td>ff7334b06cee8667a7f30eb00e0b93cf</td>\n",
       "      <td>whippet</td>\n",
       "    </tr>\n",
       "    <tr>\n",
       "      <th>10200</th>\n",
       "      <td>ff7d9c08091acc3b18b869951feeb013</td>\n",
       "      <td>maltese_dog</td>\n",
       "    </tr>\n",
       "    <tr>\n",
       "      <th>10201</th>\n",
       "      <td>ff84992beff3edd99b72718bec9448d2</td>\n",
       "      <td>bedlington_terrier</td>\n",
       "    </tr>\n",
       "    <tr>\n",
       "      <th>10202</th>\n",
       "      <td>ff8e3fa7e04faca99af85195507ee54d</td>\n",
       "      <td>sealyham_terrier</td>\n",
       "    </tr>\n",
       "    <tr>\n",
       "      <th>10203</th>\n",
       "      <td>ff91c3c095a50d3d7f1ab52b60e93638</td>\n",
       "      <td>affenpinscher</td>\n",
       "    </tr>\n",
       "    <tr>\n",
       "      <th>10204</th>\n",
       "      <td>ffa0055ec324829882186bae29491645</td>\n",
       "      <td>maltese_dog</td>\n",
       "    </tr>\n",
       "    <tr>\n",
       "      <th>10205</th>\n",
       "      <td>ffa0ad682c6670db3defce2575a2587f</td>\n",
       "      <td>english_springer</td>\n",
       "    </tr>\n",
       "    <tr>\n",
       "      <th>10206</th>\n",
       "      <td>ffa16727a9ee462ee3f386be865b199e</td>\n",
       "      <td>irish_wolfhound</td>\n",
       "    </tr>\n",
       "    <tr>\n",
       "      <th>10207</th>\n",
       "      <td>ffa4e1bf959425bad9228b04af40ac76</td>\n",
       "      <td>basenji</td>\n",
       "    </tr>\n",
       "    <tr>\n",
       "      <th>10208</th>\n",
       "      <td>ffa6a8d29ce57eb760d0f182abada4bf</td>\n",
       "      <td>english_foxhound</td>\n",
       "    </tr>\n",
       "    <tr>\n",
       "      <th>10209</th>\n",
       "      <td>ffbbf7536ba86dcef3f360bda41181b4</td>\n",
       "      <td>weimaraner</td>\n",
       "    </tr>\n",
       "    <tr>\n",
       "      <th>10210</th>\n",
       "      <td>ffc1717fc5b5f7a6c76d0e4ea7c8f93a</td>\n",
       "      <td>great_dane</td>\n",
       "    </tr>\n",
       "    <tr>\n",
       "      <th>10211</th>\n",
       "      <td>ffc2b6b9133a6413c4a013cff29f9ed2</td>\n",
       "      <td>irish_setter</td>\n",
       "    </tr>\n",
       "    <tr>\n",
       "      <th>10212</th>\n",
       "      <td>ffc532991d3cd7880d27a449ed1c4770</td>\n",
       "      <td>tibetan_terrier</td>\n",
       "    </tr>\n",
       "    <tr>\n",
       "      <th>10213</th>\n",
       "      <td>ffca1c97cea5fada05b8646998a5b788</td>\n",
       "      <td>english_foxhound</td>\n",
       "    </tr>\n",
       "    <tr>\n",
       "      <th>10214</th>\n",
       "      <td>ffcb610e811817766085054616551f9c</td>\n",
       "      <td>briard</td>\n",
       "    </tr>\n",
       "    <tr>\n",
       "      <th>10215</th>\n",
       "      <td>ffcde16e7da0872c357fbc7e2168c05f</td>\n",
       "      <td>airedale</td>\n",
       "    </tr>\n",
       "    <tr>\n",
       "      <th>10216</th>\n",
       "      <td>ffcffab7e4beef9a9b8076ef2ca51909</td>\n",
       "      <td>samoyed</td>\n",
       "    </tr>\n",
       "    <tr>\n",
       "      <th>10217</th>\n",
       "      <td>ffd25009d635cfd16e793503ac5edef0</td>\n",
       "      <td>borzoi</td>\n",
       "    </tr>\n",
       "    <tr>\n",
       "      <th>10218</th>\n",
       "      <td>ffd3f636f7f379c51ba3648a9ff8254f</td>\n",
       "      <td>dandie_dinmont</td>\n",
       "    </tr>\n",
       "    <tr>\n",
       "      <th>10219</th>\n",
       "      <td>ffe2ca6c940cddfee68fa3cc6c63213f</td>\n",
       "      <td>airedale</td>\n",
       "    </tr>\n",
       "    <tr>\n",
       "      <th>10220</th>\n",
       "      <td>ffe5f6d8e2bff356e9482a80a6e29aac</td>\n",
       "      <td>miniature_pinscher</td>\n",
       "    </tr>\n",
       "    <tr>\n",
       "      <th>10221</th>\n",
       "      <td>fff43b07992508bc822f33d8ffd902ae</td>\n",
       "      <td>chesapeake_bay_retriever</td>\n",
       "    </tr>\n",
       "  </tbody>\n",
       "</table>\n",
       "<p>10222 rows × 2 columns</p>\n",
       "</div>"
      ],
      "text/plain": [
       "                                     id                        breed\n",
       "0      000bec180eb18c7604dcecc8fe0dba07                  boston_bull\n",
       "1      001513dfcb2ffafc82cccf4d8bbaba97                        dingo\n",
       "2      001cdf01b096e06d78e9e5112d419397                     pekinese\n",
       "3      00214f311d5d2247d5dfe4fe24b2303d                     bluetick\n",
       "4      0021f9ceb3235effd7fcde7f7538ed62             golden_retriever\n",
       "5      002211c81b498ef88e1b40b9abf84e1d           bedlington_terrier\n",
       "6      00290d3e1fdd27226ba27a8ce248ce85           bedlington_terrier\n",
       "7      002a283a315af96eaea0e28e7163b21b                       borzoi\n",
       "8      003df8b8a8b05244b1d920bb6cf451f9                      basenji\n",
       "9      0042188c895a2f14ef64a918ed9c7b64           scottish_deerhound\n",
       "10     004396df1acd0f1247b740ca2b14616e            shetland_sheepdog\n",
       "11     0067dc3eab0b3c3ef0439477624d85d6                 walker_hound\n",
       "12     00693b8bc2470375cc744a6391d397ec                  maltese_dog\n",
       "13     006cc3ddb9dc1bd827479569fcdc52dc                     bluetick\n",
       "14     0075dc49dab4024d12fafe67074d8a81              norfolk_terrier\n",
       "15     00792e341f3c6eb33663e415d0715370          african_hunting_dog\n",
       "16     007b5a16db9d9ff9d7ad39982703e429      wire-haired_fox_terrier\n",
       "17     007b8a07882822475a4ce6581e70b1f8                      redbone\n",
       "18     007ff9a78eba2aebb558afea3a51c469             lakeland_terrier\n",
       "19     008887054b18ba3c7601792b6a453cc3                        boxer\n",
       "20     008b1271ed1addaccf93783b39deab45                     doberman\n",
       "21     008ba178d6dfc1a583617470d19c1673                   otterhound\n",
       "22     009509be3ca7cce0ff9e37c8b09b1125                   otterhound\n",
       "23     0097c6242c6f3071762d9f85c3ef1b2f           bedlington_terrier\n",
       "24     00a338a92e4e7bf543340dc849230e75                        dingo\n",
       "25     00a366d4b4a9bbb6c8a63126697b7656             golden_retriever\n",
       "26     00a862390341c5be090dd72bd2bc19ef           standard_schnauzer\n",
       "27     00b7d114bc5166a629a3cc03d9329120          irish_water_spaniel\n",
       "28     00ba244566e36e0af3d979320fd3017f      black-and-tan_coonhound\n",
       "29     00bee065dcec471f26394855c5c2f3de                        cairn\n",
       "...                                 ...                          ...\n",
       "10192  ff4afeb51a1473f7ba18669a8ff48bc9               border_terrier\n",
       "10193  ff4bb57ce419cd637dd511a1b5474bff                  appenzeller\n",
       "10194  ff52a3909f5801a71161cec95d213107  west_highland_white_terrier\n",
       "10195  ff54d45962b3123bb67052e8e29a60e7                      basenji\n",
       "10196  ff63ed894f068da8e2bbdfda50a9a9f8                        boxer\n",
       "10197  ff63fa05a58473138848f80840064d23                affenpinscher\n",
       "10198  ff6f47aa8e181b6efa4d0be7b09b5628             golden_retriever\n",
       "10199  ff7334b06cee8667a7f30eb00e0b93cf                      whippet\n",
       "10200  ff7d9c08091acc3b18b869951feeb013                  maltese_dog\n",
       "10201  ff84992beff3edd99b72718bec9448d2           bedlington_terrier\n",
       "10202  ff8e3fa7e04faca99af85195507ee54d             sealyham_terrier\n",
       "10203  ff91c3c095a50d3d7f1ab52b60e93638                affenpinscher\n",
       "10204  ffa0055ec324829882186bae29491645                  maltese_dog\n",
       "10205  ffa0ad682c6670db3defce2575a2587f             english_springer\n",
       "10206  ffa16727a9ee462ee3f386be865b199e              irish_wolfhound\n",
       "10207  ffa4e1bf959425bad9228b04af40ac76                      basenji\n",
       "10208  ffa6a8d29ce57eb760d0f182abada4bf             english_foxhound\n",
       "10209  ffbbf7536ba86dcef3f360bda41181b4                   weimaraner\n",
       "10210  ffc1717fc5b5f7a6c76d0e4ea7c8f93a                   great_dane\n",
       "10211  ffc2b6b9133a6413c4a013cff29f9ed2                 irish_setter\n",
       "10212  ffc532991d3cd7880d27a449ed1c4770              tibetan_terrier\n",
       "10213  ffca1c97cea5fada05b8646998a5b788             english_foxhound\n",
       "10214  ffcb610e811817766085054616551f9c                       briard\n",
       "10215  ffcde16e7da0872c357fbc7e2168c05f                     airedale\n",
       "10216  ffcffab7e4beef9a9b8076ef2ca51909                      samoyed\n",
       "10217  ffd25009d635cfd16e793503ac5edef0                       borzoi\n",
       "10218  ffd3f636f7f379c51ba3648a9ff8254f               dandie_dinmont\n",
       "10219  ffe2ca6c940cddfee68fa3cc6c63213f                     airedale\n",
       "10220  ffe5f6d8e2bff356e9482a80a6e29aac           miniature_pinscher\n",
       "10221  fff43b07992508bc822f33d8ffd902ae     chesapeake_bay_retriever\n",
       "\n",
       "[10222 rows x 2 columns]"
      ]
     },
     "execution_count": 81,
     "metadata": {},
     "output_type": "execute_result"
    }
   ],
   "source": [
    "labels"
   ]
  },
  {
   "cell_type": "code",
   "execution_count": 82,
   "metadata": {},
   "outputs": [],
   "source": [
    "selected_breed_list = list(labels.groupby('breed').count().sort_values(by='id', ascending=False).head(NUM_CLASSES).index)"
   ]
  },
  {
   "cell_type": "code",
   "execution_count": 83,
   "metadata": {},
   "outputs": [],
   "source": [
    "labels = labels[labels['breed'].isin(selected_breed_list)]"
   ]
  },
  {
   "cell_type": "code",
   "execution_count": 84,
   "metadata": {
    "scrolled": true
   },
   "outputs": [
    {
     "name": "stderr",
     "output_type": "stream",
     "text": [
      "/home/edwin/anaconda3/lib/python3.6/site-packages/ipykernel_launcher.py:1: SettingWithCopyWarning: \n",
      "A value is trying to be set on a copy of a slice from a DataFrame.\n",
      "Try using .loc[row_indexer,col_indexer] = value instead\n",
      "\n",
      "See the caveats in the documentation: http://pandas.pydata.org/pandas-docs/stable/indexing.html#indexing-view-versus-copy\n",
      "  \"\"\"Entry point for launching an IPython kernel.\n"
     ]
    }
   ],
   "source": [
    "labels['target'] = 1\n",
    "# labels['rank'] = labels.groupby('breed').rank()['id']\n",
    "labels_pivot = labels.pivot('id', 'breed', 'target').reset_index().fillna(0)"
   ]
  },
  {
   "cell_type": "code",
   "execution_count": 85,
   "metadata": {},
   "outputs": [
    {
     "data": {
      "text/plain": [
       "355"
      ]
     },
     "execution_count": 85,
     "metadata": {},
     "output_type": "execute_result"
    }
   ],
   "source": [
    "len(labels.sample(frac=0.2))"
   ]
  },
  {
   "cell_type": "code",
   "execution_count": 86,
   "metadata": {},
   "outputs": [
    {
     "data": {
      "text/plain": [
       "1422"
      ]
     },
     "execution_count": 86,
     "metadata": {},
     "output_type": "execute_result"
    }
   ],
   "source": [
    "len(labels_pivot.sample(frac=0.8))"
   ]
  },
  {
   "cell_type": "code",
   "execution_count": 87,
   "metadata": {},
   "outputs": [],
   "source": [
    "train = labels_pivot.sample(frac=0.8)\n",
    "valid = labels_pivot[-labels_pivot['id'].isin(train['id'])]"
   ]
  },
  {
   "cell_type": "code",
   "execution_count": 88,
   "metadata": {
    "scrolled": true
   },
   "outputs": [
    {
     "name": "stdout",
     "output_type": "stream",
     "text": [
      "(1422, 17) (355, 17)\n"
     ]
    }
   ],
   "source": [
    "print(train.shape, valid.shape)"
   ]
  },
  {
   "cell_type": "code",
   "execution_count": 108,
   "metadata": {},
   "outputs": [],
   "source": [
    "class DogsDataset(Dataset):\n",
    "    def __init__(self, labels, root_dir, subset=False, transform=None):\n",
    "        self.labels = labels\n",
    "        self.root_dir = root_dir\n",
    "        self.transform = transform\n",
    "        \n",
    "    def __len__(self):\n",
    "        return len(self.labels)\n",
    "    \n",
    "    def __getitem__(self, idx):\n",
    "        img_name = '{}.jpg'.format(self.labels.iloc[idx, 0])\n",
    "        fullname = join(self.root_dir, img_name)\n",
    "        image = Image.open(fullname)\n",
    "        labels = self.labels.iloc[idx, 1:].as_matrix().astype('float')\n",
    "        labels = np.argmax(labels)\n",
    "        if self.transform:\n",
    "            image = self.transform(image)\n",
    "        return [image, labels]"
   ]
  },
  {
   "cell_type": "code",
   "execution_count": 90,
   "metadata": {},
   "outputs": [
    {
     "name": "stderr",
     "output_type": "stream",
     "text": [
      "/home/edwin/anaconda3/lib/python3.6/site-packages/torchvision-0.2.0-py3.6.egg/torchvision/transforms/transforms.py:156: UserWarning: The use of the transforms.Scale transform is deprecated, please use transforms.Resize instead.\n"
     ]
    }
   ],
   "source": [
    "normalize = transforms.Normalize(\n",
    "    mean=[0.485, 0.456, 0.406],\n",
    "    std=[0.229, 0.224, 0.225]\n",
    ")\n",
    "ds_transform = transforms.Compose([transforms.Scale(224),\n",
    "                                   transforms.CenterCrop(224),\n",
    "                                   transforms.ToTensor(),\n",
    "                                   normalize\n",
    "                                  ])\n"
   ]
  },
  {
   "cell_type": "code",
   "execution_count": 91,
   "metadata": {},
   "outputs": [
    {
     "data": {
      "text/plain": [
       "'/home/edwin/Datasets/competitions/dog-breed-identification/'"
      ]
     },
     "execution_count": 91,
     "metadata": {},
     "output_type": "execute_result"
    }
   ],
   "source": [
    "data_dir"
   ]
  },
  {
   "cell_type": "code",
   "execution_count": 109,
   "metadata": {},
   "outputs": [],
   "source": [
    "train_ds = DogsDataset(train, f\"{data_dir}train\", transform=ds_transform)"
   ]
  },
  {
   "cell_type": "code",
   "execution_count": 110,
   "metadata": {},
   "outputs": [],
   "source": [
    "train_dl = DataLoader(train_ds, batch_size=4, shuffle=True)"
   ]
  },
  {
   "cell_type": "code",
   "execution_count": 111,
   "metadata": {},
   "outputs": [],
   "source": [
    "valid_ds = DogsDataset(valid, f\"{data_dir}train\", transform=ds_transform)"
   ]
  },
  {
   "cell_type": "code",
   "execution_count": 112,
   "metadata": {},
   "outputs": [],
   "source": [
    "valid_dl = DataLoader(valid_ds, batch_size=4, shuffle=True)"
   ]
  },
  {
   "cell_type": "code",
   "execution_count": 94,
   "metadata": {},
   "outputs": [
    {
     "data": {
      "text/plain": [
       "<__main__.DogsDataset at 0x7f98b471a4e0>"
      ]
     },
     "execution_count": 94,
     "metadata": {},
     "output_type": "execute_result"
    }
   ],
   "source": [
    "train_dl.dataset"
   ]
  },
  {
   "cell_type": "code",
   "execution_count": 95,
   "metadata": {
    "scrolled": true
   },
   "outputs": [
    {
     "data": {
      "text/plain": [
       "1523916302.468316"
      ]
     },
     "execution_count": 95,
     "metadata": {},
     "output_type": "execute_result"
    }
   ],
   "source": [
    "time.time()"
   ]
  },
  {
   "cell_type": "code",
   "execution_count": 125,
   "metadata": {},
   "outputs": [],
   "source": [
    "def train_model(dataloaders, model, criterion, optimizer, scheduler, num_epochs):\n",
    "    since = time.time()\n",
    "    use_gpu = torch.cuda.is_available()\n",
    "    best_model_wts = model.state_dict()\n",
    "    best_acc = 0.0\n",
    "    dataset_sizes = { 'train': len(dataloaders['train']),\n",
    "                      'valid': len(dataloaders['valid'])\n",
    "                    }\n",
    "    \n",
    "    for epoch in range(num_epochs):\n",
    "        for phase in ['train', 'valid']:\n",
    "            if phase == 'train':\n",
    "                scheduler.step()\n",
    "                model.train(True)\n",
    "            else:\n",
    "                model.train(False)\n",
    "                \n",
    "            running_loss = 0.0\n",
    "            running_corrects = 0\n",
    "            \n",
    "            for inputs, labels in dataloaders[phase]:\n",
    "                if use_gpu:\n",
    "                    inputs, labels = Variable(inputs.cuda()), Variable(labels.cuda())\n",
    "                else:\n",
    "                    inputs, labels = Variable(inputs), Variable(labels)\n",
    "                    \n",
    "                optimizer.zero_grad()\n",
    "                \n",
    "                outputs = model(inputs)\n",
    "                \n",
    "                _, preds = torch.max(outputs.data, 1)\n",
    "                loss = criterion(outputs, labels)\n",
    "                \n",
    "                if phase == 'train':\n",
    "                    loss.backward()\n",
    "                    optimizer.step()\n",
    "                \n",
    "                running_loss += loss.data[0]\n",
    "                running_corrects += torch.sum(preds == labels.data)\n",
    "                \n",
    "            if phase == 'train':\n",
    "                train_epoch_loss = running_loss / dataset_sizes[phase]\n",
    "                train_epoch_acc = running_corrects / dataset_sizes[phase]\n",
    "            else:\n",
    "                valid_epoch_loss = running_loss / dataset_sizes[phase]\n",
    "                valid_epoch_acc = running_corrects / dataset_sizes[phase]\n",
    "\n",
    "            if phase == 'valid' and valid_epoch_acc > best_acc:\n",
    "                beset_acc = valid_epoch_acc\n",
    "                best_model_wts = model.state_dict()\n",
    "\n",
    "        print('Epoch [{}/{}] train loss: {:.4f} acc: {:.4f} '\n",
    "                 'valid loss {:.4f} acc: {:.4f}'.format(\n",
    "                     epoch, num_epochs - 1,\n",
    "                     train_epoch_loss, train_epoch_acc,\n",
    "                     valid_epoch_loss, valid_epoch_acc))\n",
    "\n",
    "    print('Best val Acc {:.4f}'.format(best_acc))\n",
    "        \n",
    "    model.load_state_dict(best_model_wts)\n",
    "    return model\n",
    "                "
   ]
  },
  {
   "cell_type": "code",
   "execution_count": 101,
   "metadata": {},
   "outputs": [],
   "source": [
    "use_gpu = torch.cuda.is_available()"
   ]
  },
  {
   "cell_type": "code",
   "execution_count": 130,
   "metadata": {},
   "outputs": [],
   "source": [
    "resnet = models.resnet50(pretrained=True)\n",
    "for param in resnet.parameters():\n",
    "    param.requires_grad = False\n",
    "    \n",
    "new_ftrs = resnet.fc.in_features\n",
    "resnet.fc = torch.nn.Linear(new_ftrs, 16)\n",
    "if use_gpu:\n",
    "    resnet = resnet.cuda()\n",
    "\n",
    "criterion = torch.nn.CrossEntropyLoss()\n",
    "optimizer = torch.optim.SGD(resnet.fc.parameters(), lr=0.1, momentum=0.9)\n",
    "exp_lr_scheduler = lr_scheduler.StepLR(optimizer, step_size=7, gamma=0.1)"
   ]
  },
  {
   "cell_type": "code",
   "execution_count": 131,
   "metadata": {},
   "outputs": [],
   "source": [
    "dloaders = {'train': train_dl, 'valid': valid_dl}"
   ]
  },
  {
   "cell_type": "code",
   "execution_count": 132,
   "metadata": {},
   "outputs": [
    {
     "name": "stdout",
     "output_type": "stream",
     "text": [
      "Epoch [0/9] train loss: 36.6501 acc: 2.0365 valid loss 5.3867 acc: 3.6854\n",
      "Epoch [1/9] train loss: 24.0792 acc: 2.8062 valid loss 5.0435 acc: 3.7079\n",
      "Epoch [2/9] train loss: 22.4480 acc: 2.9635 valid loss 8.8142 acc: 3.6067\n",
      "Epoch [3/9] train loss: 21.0347 acc: 3.0506 valid loss 4.4767 acc: 3.7978\n",
      "Epoch [4/9] train loss: 19.9778 acc: 3.1629 valid loss 9.8138 acc: 3.6404\n",
      "Epoch [5/9] train loss: 16.9136 acc: 3.2303 valid loss 6.0776 acc: 3.7753\n",
      "Epoch [6/9] train loss: 16.6778 acc: 3.2978 valid loss 8.1915 acc: 3.6966\n",
      "Epoch [7/9] train loss: 8.6582 acc: 3.5421 valid loss 4.6393 acc: 3.7528\n",
      "Epoch [8/9] train loss: 6.5674 acc: 3.6348 valid loss 6.3549 acc: 3.7528\n",
      "Epoch [9/9] train loss: 6.9398 acc: 3.5702 valid loss 6.1703 acc: 3.7416\n",
      "Best val Acc 0.0000\n"
     ]
    }
   ],
   "source": [
    "start_time = time.time()\n",
    "model = train_model(dloaders, resnet, criterion, optimizer, exp_lr_scheduler, num_epochs=10)"
   ]
  },
  {
   "cell_type": "code",
   "execution_count": null,
   "metadata": {},
   "outputs": [],
   "source": []
  }
 ],
 "metadata": {
  "kernelspec": {
   "display_name": "Python 3",
   "language": "python",
   "name": "python3"
  },
  "language_info": {
   "codemirror_mode": {
    "name": "ipython",
    "version": 3
   },
   "file_extension": ".py",
   "mimetype": "text/x-python",
   "name": "python",
   "nbconvert_exporter": "python",
   "pygments_lexer": "ipython3",
   "version": "3.6.1"
  }
 },
 "nbformat": 4,
 "nbformat_minor": 2
}
