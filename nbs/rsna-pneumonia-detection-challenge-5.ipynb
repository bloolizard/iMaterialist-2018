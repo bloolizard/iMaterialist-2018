{
 "cells": [
  {
   "cell_type": "code",
   "execution_count": 38,
   "metadata": {},
   "outputs": [
    {
     "name": "stdout",
     "output_type": "stream",
     "text": [
      "The autoreload extension is already loaded. To reload it, use:\n",
      "  %reload_ext autoreload\n"
     ]
    }
   ],
   "source": [
    "import pandas as pd\n",
    "import numpy as np\n",
    "import pydicom\n",
    "import os\n",
    "import matplotlib.pyplot as plt\n",
    "from matplotlib.patches import Rectangle\n",
    "from multiprocessing import Pool, cpu_count\n",
    "from matplotlib import patches, patheffects\n",
    "import math\n",
    "from pathlib import Path\n",
    "\n",
    "from fastai.dataset import *\n",
    "from fastai.conv_learner import *\n",
    "from fastai.imports import *\n",
    "from fastai.structured import *\n",
    "\n",
    "from scipy.special import expit\n",
    "\n",
    "import pdb\n",
    "\n",
    "import pickle\n",
    "from sklearn.model_selection import train_test_split\n",
    "\n",
    "from IPython.display import FileLink\n",
    "% load_ext autoreload\n",
    "% autoreload 2\n",
    "% matplotlib inline"
   ]
  },
  {
   "cell_type": "code",
   "execution_count": 2,
   "metadata": {},
   "outputs": [],
   "source": [
    "ddir = \"/home/edwin/Datasets/competitions/rsna-pneumonia-detection-challenge\"\n",
    "rsna_path = Path(ddir)\n",
    "\n",
    "detailed_class_info_csv = pd.read_csv(rsna_path/'stage_1_detailed_class_info.csv')\n",
    "stage_1_sample_submission_csv = pd.read_csv(rsna_path/'stage_1_sample_submission.csv')\n",
    "stage_1_train_labels_csv = pd.read_csv(rsna_path/'stage_1_train_labels.csv')"
   ]
  },
  {
   "cell_type": "code",
   "execution_count": 3,
   "metadata": {},
   "outputs": [
    {
     "data": {
      "text/html": [
       "<div>\n",
       "<style scoped>\n",
       "    .dataframe tbody tr th:only-of-type {\n",
       "        vertical-align: middle;\n",
       "    }\n",
       "\n",
       "    .dataframe tbody tr th {\n",
       "        vertical-align: top;\n",
       "    }\n",
       "\n",
       "    .dataframe thead th {\n",
       "        text-align: right;\n",
       "    }\n",
       "</style>\n",
       "<table border=\"1\" class=\"dataframe\">\n",
       "  <thead>\n",
       "    <tr style=\"text-align: right;\">\n",
       "      <th></th>\n",
       "      <th>patientId</th>\n",
       "      <th>x</th>\n",
       "      <th>y</th>\n",
       "      <th>width</th>\n",
       "      <th>height</th>\n",
       "      <th>Target</th>\n",
       "      <th>class</th>\n",
       "      <th>codes</th>\n",
       "      <th>bbox_corners</th>\n",
       "    </tr>\n",
       "  </thead>\n",
       "  <tbody>\n",
       "    <tr>\n",
       "      <th>0</th>\n",
       "      <td>0004cfab-14fd-4e49-80ba-63a80b6bddd6</td>\n",
       "      <td>NaN</td>\n",
       "      <td>NaN</td>\n",
       "      <td>NaN</td>\n",
       "      <td>NaN</td>\n",
       "      <td>0</td>\n",
       "      <td>No Lung Opacity / Not Normal</td>\n",
       "      <td>1</td>\n",
       "      <td>0 0 0 0</td>\n",
       "    </tr>\n",
       "    <tr>\n",
       "      <th>1</th>\n",
       "      <td>00313ee0-9eaa-42f4-b0ab-c148ed3241cd</td>\n",
       "      <td>NaN</td>\n",
       "      <td>NaN</td>\n",
       "      <td>NaN</td>\n",
       "      <td>NaN</td>\n",
       "      <td>0</td>\n",
       "      <td>No Lung Opacity / Not Normal</td>\n",
       "      <td>1</td>\n",
       "      <td>0 0 0 0</td>\n",
       "    </tr>\n",
       "    <tr>\n",
       "      <th>2</th>\n",
       "      <td>00322d4d-1c29-4943-afc9-b6754be640eb</td>\n",
       "      <td>NaN</td>\n",
       "      <td>NaN</td>\n",
       "      <td>NaN</td>\n",
       "      <td>NaN</td>\n",
       "      <td>0</td>\n",
       "      <td>No Lung Opacity / Not Normal</td>\n",
       "      <td>1</td>\n",
       "      <td>0 0 0 0</td>\n",
       "    </tr>\n",
       "    <tr>\n",
       "      <th>3</th>\n",
       "      <td>003d8fa0-6bf1-40ed-b54c-ac657f8495c5</td>\n",
       "      <td>NaN</td>\n",
       "      <td>NaN</td>\n",
       "      <td>NaN</td>\n",
       "      <td>NaN</td>\n",
       "      <td>0</td>\n",
       "      <td>Normal</td>\n",
       "      <td>2</td>\n",
       "      <td>0 0 0 0</td>\n",
       "    </tr>\n",
       "    <tr>\n",
       "      <th>4</th>\n",
       "      <td>00436515-870c-4b36-a041-de91049b9ab4</td>\n",
       "      <td>264.0</td>\n",
       "      <td>152.0</td>\n",
       "      <td>213.0</td>\n",
       "      <td>379.0</td>\n",
       "      <td>1</td>\n",
       "      <td>Lung Opacity</td>\n",
       "      <td>0</td>\n",
       "      <td>264.0 152.0 477.0 531.0</td>\n",
       "    </tr>\n",
       "    <tr>\n",
       "      <th>5</th>\n",
       "      <td>00436515-870c-4b36-a041-de91049b9ab4</td>\n",
       "      <td>562.0</td>\n",
       "      <td>152.0</td>\n",
       "      <td>256.0</td>\n",
       "      <td>453.0</td>\n",
       "      <td>1</td>\n",
       "      <td>Lung Opacity</td>\n",
       "      <td>0</td>\n",
       "      <td>562.0 152.0 818.0 605.0</td>\n",
       "    </tr>\n",
       "    <tr>\n",
       "      <th>6</th>\n",
       "      <td>00569f44-917d-4c86-a842-81832af98c30</td>\n",
       "      <td>NaN</td>\n",
       "      <td>NaN</td>\n",
       "      <td>NaN</td>\n",
       "      <td>NaN</td>\n",
       "      <td>0</td>\n",
       "      <td>No Lung Opacity / Not Normal</td>\n",
       "      <td>1</td>\n",
       "      <td>0 0 0 0</td>\n",
       "    </tr>\n",
       "    <tr>\n",
       "      <th>7</th>\n",
       "      <td>006cec2e-6ce2-4549-bffa-eadfcd1e9970</td>\n",
       "      <td>NaN</td>\n",
       "      <td>NaN</td>\n",
       "      <td>NaN</td>\n",
       "      <td>NaN</td>\n",
       "      <td>0</td>\n",
       "      <td>No Lung Opacity / Not Normal</td>\n",
       "      <td>1</td>\n",
       "      <td>0 0 0 0</td>\n",
       "    </tr>\n",
       "    <tr>\n",
       "      <th>8</th>\n",
       "      <td>00704310-78a8-4b38-8475-49f4573b2dbb</td>\n",
       "      <td>323.0</td>\n",
       "      <td>577.0</td>\n",
       "      <td>160.0</td>\n",
       "      <td>104.0</td>\n",
       "      <td>1</td>\n",
       "      <td>Lung Opacity</td>\n",
       "      <td>0</td>\n",
       "      <td>323.0 577.0 483.0 681.0</td>\n",
       "    </tr>\n",
       "    <tr>\n",
       "      <th>9</th>\n",
       "      <td>00704310-78a8-4b38-8475-49f4573b2dbb</td>\n",
       "      <td>695.0</td>\n",
       "      <td>575.0</td>\n",
       "      <td>162.0</td>\n",
       "      <td>137.0</td>\n",
       "      <td>1</td>\n",
       "      <td>Lung Opacity</td>\n",
       "      <td>0</td>\n",
       "      <td>695.0 575.0 857.0 712.0</td>\n",
       "    </tr>\n",
       "  </tbody>\n",
       "</table>\n",
       "</div>"
      ],
      "text/plain": [
       "                              patientId      x      y  width  height  Target  \\\n",
       "0  0004cfab-14fd-4e49-80ba-63a80b6bddd6    NaN    NaN    NaN     NaN       0   \n",
       "1  00313ee0-9eaa-42f4-b0ab-c148ed3241cd    NaN    NaN    NaN     NaN       0   \n",
       "2  00322d4d-1c29-4943-afc9-b6754be640eb    NaN    NaN    NaN     NaN       0   \n",
       "3  003d8fa0-6bf1-40ed-b54c-ac657f8495c5    NaN    NaN    NaN     NaN       0   \n",
       "4  00436515-870c-4b36-a041-de91049b9ab4  264.0  152.0  213.0   379.0       1   \n",
       "5  00436515-870c-4b36-a041-de91049b9ab4  562.0  152.0  256.0   453.0       1   \n",
       "6  00569f44-917d-4c86-a842-81832af98c30    NaN    NaN    NaN     NaN       0   \n",
       "7  006cec2e-6ce2-4549-bffa-eadfcd1e9970    NaN    NaN    NaN     NaN       0   \n",
       "8  00704310-78a8-4b38-8475-49f4573b2dbb  323.0  577.0  160.0   104.0       1   \n",
       "9  00704310-78a8-4b38-8475-49f4573b2dbb  695.0  575.0  162.0   137.0       1   \n",
       "\n",
       "                          class  codes             bbox_corners  \n",
       "0  No Lung Opacity / Not Normal      1                  0 0 0 0  \n",
       "1  No Lung Opacity / Not Normal      1                  0 0 0 0  \n",
       "2  No Lung Opacity / Not Normal      1                  0 0 0 0  \n",
       "3                        Normal      2                  0 0 0 0  \n",
       "4                  Lung Opacity      0  264.0 152.0 477.0 531.0  \n",
       "5                  Lung Opacity      0  562.0 152.0 818.0 605.0  \n",
       "6  No Lung Opacity / Not Normal      1                  0 0 0 0  \n",
       "7  No Lung Opacity / Not Normal      1                  0 0 0 0  \n",
       "8                  Lung Opacity      0  323.0 577.0 483.0 681.0  \n",
       "9                  Lung Opacity      0  695.0 575.0 857.0 712.0  "
      ]
     },
     "execution_count": 3,
     "metadata": {},
     "output_type": "execute_result"
    }
   ],
   "source": [
    "rsna_merged_labels = '../tmp/rsna_merged_labels.csv'\n",
    "merged_csv = pd.read_csv(rsna_merged_labels); merged_csv[:10]"
   ]
  },
  {
   "cell_type": "code",
   "execution_count": 25,
   "metadata": {},
   "outputs": [],
   "source": [
    "merged_csv['bbox_corners'] = merged_csv['bbox_corners'].map(lambda x: '0 0 0 0' if (x == '' ) else x)"
   ]
  },
  {
   "cell_type": "code",
   "execution_count": 26,
   "metadata": {},
   "outputs": [
    {
     "data": {
      "text/html": [
       "<div>\n",
       "<style scoped>\n",
       "    .dataframe tbody tr th:only-of-type {\n",
       "        vertical-align: middle;\n",
       "    }\n",
       "\n",
       "    .dataframe tbody tr th {\n",
       "        vertical-align: top;\n",
       "    }\n",
       "\n",
       "    .dataframe thead th {\n",
       "        text-align: right;\n",
       "    }\n",
       "</style>\n",
       "<table border=\"1\" class=\"dataframe\">\n",
       "  <thead>\n",
       "    <tr style=\"text-align: right;\">\n",
       "      <th></th>\n",
       "      <th>patientId</th>\n",
       "      <th>x</th>\n",
       "      <th>y</th>\n",
       "      <th>width</th>\n",
       "      <th>height</th>\n",
       "      <th>Target</th>\n",
       "      <th>class</th>\n",
       "      <th>codes</th>\n",
       "      <th>bbox_corners</th>\n",
       "    </tr>\n",
       "  </thead>\n",
       "  <tbody>\n",
       "    <tr>\n",
       "      <th>0</th>\n",
       "      <td>0004cfab-14fd-4e49-80ba-63a80b6bddd6</td>\n",
       "      <td>NaN</td>\n",
       "      <td>NaN</td>\n",
       "      <td>NaN</td>\n",
       "      <td>NaN</td>\n",
       "      <td>0</td>\n",
       "      <td>No Lung Opacity / Not Normal</td>\n",
       "      <td>1</td>\n",
       "      <td>0 0 0 0</td>\n",
       "    </tr>\n",
       "    <tr>\n",
       "      <th>1</th>\n",
       "      <td>00313ee0-9eaa-42f4-b0ab-c148ed3241cd</td>\n",
       "      <td>NaN</td>\n",
       "      <td>NaN</td>\n",
       "      <td>NaN</td>\n",
       "      <td>NaN</td>\n",
       "      <td>0</td>\n",
       "      <td>No Lung Opacity / Not Normal</td>\n",
       "      <td>1</td>\n",
       "      <td>0 0 0 0</td>\n",
       "    </tr>\n",
       "    <tr>\n",
       "      <th>2</th>\n",
       "      <td>00322d4d-1c29-4943-afc9-b6754be640eb</td>\n",
       "      <td>NaN</td>\n",
       "      <td>NaN</td>\n",
       "      <td>NaN</td>\n",
       "      <td>NaN</td>\n",
       "      <td>0</td>\n",
       "      <td>No Lung Opacity / Not Normal</td>\n",
       "      <td>1</td>\n",
       "      <td>0 0 0 0</td>\n",
       "    </tr>\n",
       "    <tr>\n",
       "      <th>3</th>\n",
       "      <td>003d8fa0-6bf1-40ed-b54c-ac657f8495c5</td>\n",
       "      <td>NaN</td>\n",
       "      <td>NaN</td>\n",
       "      <td>NaN</td>\n",
       "      <td>NaN</td>\n",
       "      <td>0</td>\n",
       "      <td>Normal</td>\n",
       "      <td>2</td>\n",
       "      <td>0 0 0 0</td>\n",
       "    </tr>\n",
       "    <tr>\n",
       "      <th>4</th>\n",
       "      <td>00436515-870c-4b36-a041-de91049b9ab4</td>\n",
       "      <td>264.0</td>\n",
       "      <td>152.0</td>\n",
       "      <td>213.0</td>\n",
       "      <td>379.0</td>\n",
       "      <td>1</td>\n",
       "      <td>Lung Opacity</td>\n",
       "      <td>0</td>\n",
       "      <td>264.0 152.0 477.0 531.0</td>\n",
       "    </tr>\n",
       "  </tbody>\n",
       "</table>\n",
       "</div>"
      ],
      "text/plain": [
       "                              patientId      x      y  width  height  Target  \\\n",
       "0  0004cfab-14fd-4e49-80ba-63a80b6bddd6    NaN    NaN    NaN     NaN       0   \n",
       "1  00313ee0-9eaa-42f4-b0ab-c148ed3241cd    NaN    NaN    NaN     NaN       0   \n",
       "2  00322d4d-1c29-4943-afc9-b6754be640eb    NaN    NaN    NaN     NaN       0   \n",
       "3  003d8fa0-6bf1-40ed-b54c-ac657f8495c5    NaN    NaN    NaN     NaN       0   \n",
       "4  00436515-870c-4b36-a041-de91049b9ab4  264.0  152.0  213.0   379.0       1   \n",
       "\n",
       "                          class  codes             bbox_corners  \n",
       "0  No Lung Opacity / Not Normal      1                  0 0 0 0  \n",
       "1  No Lung Opacity / Not Normal      1                  0 0 0 0  \n",
       "2  No Lung Opacity / Not Normal      1                  0 0 0 0  \n",
       "3                        Normal      2                  0 0 0 0  \n",
       "4                  Lung Opacity      0  264.0 152.0 477.0 531.0  "
      ]
     },
     "execution_count": 26,
     "metadata": {},
     "output_type": "execute_result"
    }
   ],
   "source": [
    "merged_csv[:5]"
   ]
  },
  {
   "cell_type": "code",
   "execution_count": 27,
   "metadata": {},
   "outputs": [],
   "source": [
    "merged_csv.to_csv(rsna_merged_labels, index=False)"
   ]
  },
  {
   "cell_type": "code",
   "execution_count": 28,
   "metadata": {},
   "outputs": [],
   "source": [
    "sample_csv = merged_csv.sample(n=1000)"
   ]
  },
  {
   "cell_type": "code",
   "execution_count": 88,
   "metadata": {},
   "outputs": [],
   "source": [
    "sample_csv[['patientId','bbox_corners']].to_csv('../tmp/sample_with_bbox_corners.csv', index=False)\n",
    "sample_csv[['patientId','Target']].to_csv('../tmp/sample_with_target.csv', index=False)"
   ]
  },
  {
   "cell_type": "code",
   "execution_count": 6,
   "metadata": {},
   "outputs": [],
   "source": [
    "SAMPLE_LABELS_BBOX_FN = '../tmp/sample_with_bbox_corners.csv'\n",
    "SAMPLE_LABELS_TARGET_FN = '../tmp/sample_with_target.csv'"
   ]
  },
  {
   "cell_type": "code",
   "execution_count": 7,
   "metadata": {},
   "outputs": [
    {
     "data": {
      "text/plain": [
       "['patientId,bbox_corners\\n',\n",
       " '47ba820c-c63e-4efa-90af-7b88e6741151,546.0 197.0 804.0 636.0\\n',\n",
       " '4c84cff2-475b-46e9-8fc6-68ce72f9274b,0 0 0 0\\n',\n",
       " '85682fd3-9d19-4b37-a663-6071cbfb82af,602.0 305.0 935.0 885.0\\n',\n",
       " 'cbfc0e6b-be9f-42a0-be31-201692df68cf,0 0 0 0\\n']"
      ]
     },
     "execution_count": 7,
     "metadata": {},
     "output_type": "execute_result"
    }
   ],
   "source": [
    "(Path('../tmp')/'sample_with_bbox_corners.csv').open().readlines()[:5]"
   ]
  },
  {
   "cell_type": "code",
   "execution_count": 8,
   "metadata": {},
   "outputs": [
    {
     "data": {
      "text/plain": [
       "['patientId,Target\\n',\n",
       " '47ba820c-c63e-4efa-90af-7b88e6741151,1\\n',\n",
       " '4c84cff2-475b-46e9-8fc6-68ce72f9274b,0\\n',\n",
       " '85682fd3-9d19-4b37-a663-6071cbfb82af,1\\n',\n",
       " 'cbfc0e6b-be9f-42a0-be31-201692df68cf,0\\n']"
      ]
     },
     "execution_count": 8,
     "metadata": {},
     "output_type": "execute_result"
    }
   ],
   "source": [
    "(Path(SAMPLE_LABELS_TARGET_FN)).open().readlines()[:5]"
   ]
  },
  {
   "cell_type": "code",
   "execution_count": 9,
   "metadata": {},
   "outputs": [],
   "source": [
    "f_model=resnet34\n",
    "sz=224\n",
    "bs=64\n",
    "\n",
    "tfms = tfms_from_model(f_model, sz, crop_type=CropType.NO, tfm_y=TfmType.COORD)"
   ]
  },
  {
   "cell_type": "code",
   "execution_count": 10,
   "metadata": {},
   "outputs": [],
   "source": [
    "md = ImageClassifierData.from_csv(rsna_path, 'train', SAMPLE_LABELS_BBOX_FN, bs=64, \n",
    "                                   tfms=tfms, suffix='.dcm', continuous=True)"
   ]
  },
  {
   "cell_type": "code",
   "execution_count": 11,
   "metadata": {},
   "outputs": [],
   "source": [
    "head_reg4 = nn.Sequential(Flatten(), nn.Linear(25088,4))\n",
    "learn = ConvLearner.pretrained(f_model, md, custom_head=head_reg4)"
   ]
  },
  {
   "cell_type": "code",
   "execution_count": 52,
   "metadata": {},
   "outputs": [
    {
     "data": {
      "application/vnd.jupyter.widget-view+json": {
       "model_id": "d18f16fef9b14ac29977989cf91c060a",
       "version_major": 2,
       "version_minor": 0
      },
      "text/html": [
       "<p>Failed to display Jupyter Widget of type <code>HBox</code>.</p>\n",
       "<p>\n",
       "  If you're reading this message in the Jupyter Notebook or JupyterLab Notebook, it may mean\n",
       "  that the widgets JavaScript is still loading. If this message persists, it\n",
       "  likely means that the widgets JavaScript library is either not installed or\n",
       "  not enabled. See the <a href=\"https://ipywidgets.readthedocs.io/en/stable/user_install.html\">Jupyter\n",
       "  Widgets Documentation</a> for setup instructions.\n",
       "</p>\n",
       "<p>\n",
       "  If you're reading this message in another frontend (for example, a static\n",
       "  rendering on GitHub or <a href=\"https://nbviewer.jupyter.org/\">NBViewer</a>),\n",
       "  it may mean that your frontend doesn't currently support widgets.\n",
       "</p>\n"
      ],
      "text/plain": [
       "HBox(children=(IntProgress(value=0, description='Epoch', max=1), HTML(value='')))"
      ]
     },
     "metadata": {},
     "output_type": "display_data"
    },
    {
     "name": "stdout",
     "output_type": "stream",
     "text": [
      "epoch      trn_loss   val_loss                            \n",
      "    0      35.296136  71.994204 \n",
      "\n"
     ]
    }
   ],
   "source": [
    "learn.lr_find(1e-10, 1e-2)"
   ]
  },
  {
   "cell_type": "code",
   "execution_count": 53,
   "metadata": {},
   "outputs": [
    {
     "data": {
      "image/png": "[encoded data removed]",
      "text/plain": [
       "<matplotlib.figure.Figure at 0x7f1450c1d898>"
      ]
     },
     "metadata": {},
     "output_type": "display_data"
    }
   ],
   "source": [
    "learn.sched.plot(n_skip=5, n_skip_end=1)"
   ]
  },
  {
   "cell_type": "code",
   "execution_count": 51,
   "metadata": {},
   "outputs": [],
   "source": [
    "?? learn.sched.plot"
   ]
  },
  {
   "cell_type": "code",
   "execution_count": 54,
   "metadata": {},
   "outputs": [
    {
     "data": {
      "application/vnd.jupyter.widget-view+json": {
       "model_id": "3e74405f1b10469d953ff87274e443fa",
       "version_major": 2,
       "version_minor": 0
      },
      "text/html": [
       "<p>Failed to display Jupyter Widget of type <code>HBox</code>.</p>\n",
       "<p>\n",
       "  If you're reading this message in the Jupyter Notebook or JupyterLab Notebook, it may mean\n",
       "  that the widgets JavaScript is still loading. If this message persists, it\n",
       "  likely means that the widgets JavaScript library is either not installed or\n",
       "  not enabled. See the <a href=\"https://ipywidgets.readthedocs.io/en/stable/user_install.html\">Jupyter\n",
       "  Widgets Documentation</a> for setup instructions.\n",
       "</p>\n",
       "<p>\n",
       "  If you're reading this message in another frontend (for example, a static\n",
       "  rendering on GitHub or <a href=\"https://nbviewer.jupyter.org/\">NBViewer</a>),\n",
       "  it may mean that your frontend doesn't currently support widgets.\n",
       "</p>\n"
      ],
      "text/plain": [
       "HBox(children=(IntProgress(value=0, description='Epoch', max=2), HTML(value='')))"
      ]
     },
     "metadata": {},
     "output_type": "display_data"
    },
    {
     "name": "stdout",
     "output_type": "stream",
     "text": [
      "epoch      trn_loss   val_loss                            \n",
      "    0      35.480286  31.481071 \n",
      "    1      35.197469  31.05524                            \n",
      "\n"
     ]
    },
    {
     "data": {
      "text/plain": [
       "[31.055240173339843]"
      ]
     },
     "execution_count": 54,
     "metadata": {},
     "output_type": "execute_result"
    }
   ],
   "source": [
    "learn.fit(1e-3, 2)"
   ]
  },
  {
   "cell_type": "code",
   "execution_count": 55,
   "metadata": {},
   "outputs": [],
   "source": [
    "learn.freeze_to(-2)"
   ]
  },
  {
   "cell_type": "code",
   "execution_count": 56,
   "metadata": {},
   "outputs": [
    {
     "data": {
      "application/vnd.jupyter.widget-view+json": {
       "model_id": "60f4fc4ab5a741628e9d69baf7db262c",
       "version_major": 2,
       "version_minor": 0
      },
      "text/html": [
       "<p>Failed to display Jupyter Widget of type <code>HBox</code>.</p>\n",
       "<p>\n",
       "  If you're reading this message in the Jupyter Notebook or JupyterLab Notebook, it may mean\n",
       "  that the widgets JavaScript is still loading. If this message persists, it\n",
       "  likely means that the widgets JavaScript library is either not installed or\n",
       "  not enabled. See the <a href=\"https://ipywidgets.readthedocs.io/en/stable/user_install.html\">Jupyter\n",
       "  Widgets Documentation</a> for setup instructions.\n",
       "</p>\n",
       "<p>\n",
       "  If you're reading this message in another frontend (for example, a static\n",
       "  rendering on GitHub or <a href=\"https://nbviewer.jupyter.org/\">NBViewer</a>),\n",
       "  it may mean that your frontend doesn't currently support widgets.\n",
       "</p>\n"
      ],
      "text/plain": [
       "HBox(children=(IntProgress(value=0, description='Epoch', max=2), HTML(value='')))"
      ]
     },
     "metadata": {},
     "output_type": "display_data"
    },
    {
     "name": "stdout",
     "output_type": "stream",
     "text": [
      "epoch      trn_loss   val_loss                            \n",
      "    0      33.16511   26.951529 \n",
      "    1      28.085395  25.725522                           \n",
      "\n"
     ]
    },
    {
     "data": {
      "text/plain": [
       "[25.725522003173829]"
      ]
     },
     "execution_count": 56,
     "metadata": {},
     "output_type": "execute_result"
    }
   ],
   "source": [
    "learn.fit(1e-3, 2)"
   ]
  },
  {
   "cell_type": "code",
   "execution_count": 57,
   "metadata": {},
   "outputs": [
    {
     "data": {
      "application/vnd.jupyter.widget-view+json": {
       "model_id": "648d8a05a27b4351b5870195d743cf76",
       "version_major": 2,
       "version_minor": 0
      },
      "text/html": [
       "<p>Failed to display Jupyter Widget of type <code>HBox</code>.</p>\n",
       "<p>\n",
       "  If you're reading this message in the Jupyter Notebook or JupyterLab Notebook, it may mean\n",
       "  that the widgets JavaScript is still loading. If this message persists, it\n",
       "  likely means that the widgets JavaScript library is either not installed or\n",
       "  not enabled. See the <a href=\"https://ipywidgets.readthedocs.io/en/stable/user_install.html\">Jupyter\n",
       "  Widgets Documentation</a> for setup instructions.\n",
       "</p>\n",
       "<p>\n",
       "  If you're reading this message in another frontend (for example, a static\n",
       "  rendering on GitHub or <a href=\"https://nbviewer.jupyter.org/\">NBViewer</a>),\n",
       "  it may mean that your frontend doesn't currently support widgets.\n",
       "</p>\n"
      ],
      "text/plain": [
       "HBox(children=(IntProgress(value=0, description='Epoch', max=4), HTML(value='')))"
      ]
     },
     "metadata": {},
     "output_type": "display_data"
    },
    {
     "name": "stdout",
     "output_type": "stream",
     "text": [
      "epoch      trn_loss   val_loss                            \n",
      "    0      18.273931  24.949706 \n",
      "    1      16.109934  24.954261                           \n",
      "    2      14.406946  23.92405                            \n",
      "    3      13.140692  25.253292                           \n",
      "\n"
     ]
    },
    {
     "data": {
      "text/plain": [
       "[25.253292083740234]"
      ]
     },
     "execution_count": 57,
     "metadata": {},
     "output_type": "execute_result"
    }
   ],
   "source": [
    "learn.fit(1e-3, 2, cycle_len=2)"
   ]
  },
  {
   "cell_type": "code",
   "execution_count": 58,
   "metadata": {},
   "outputs": [],
   "source": [
    "lrs = np.array([1e-4,1e-2,1e-1])"
   ]
  },
  {
   "cell_type": "code",
   "execution_count": 59,
   "metadata": {},
   "outputs": [
    {
     "data": {
      "application/vnd.jupyter.widget-view+json": {
       "model_id": "e9268e4516044367838a2dec41b3131d",
       "version_major": 2,
       "version_minor": 0
      },
      "text/html": [
       "<p>Failed to display Jupyter Widget of type <code>HBox</code>.</p>\n",
       "<p>\n",
       "  If you're reading this message in the Jupyter Notebook or JupyterLab Notebook, it may mean\n",
       "  that the widgets JavaScript is still loading. If this message persists, it\n",
       "  likely means that the widgets JavaScript library is either not installed or\n",
       "  not enabled. See the <a href=\"https://ipywidgets.readthedocs.io/en/stable/user_install.html\">Jupyter\n",
       "  Widgets Documentation</a> for setup instructions.\n",
       "</p>\n",
       "<p>\n",
       "  If you're reading this message in another frontend (for example, a static\n",
       "  rendering on GitHub or <a href=\"https://nbviewer.jupyter.org/\">NBViewer</a>),\n",
       "  it may mean that your frontend doesn't currently support widgets.\n",
       "</p>\n"
      ],
      "text/plain": [
       "HBox(children=(IntProgress(value=0, description='Epoch', max=1), HTML(value='')))"
      ]
     },
     "metadata": {},
     "output_type": "display_data"
    },
    {
     "name": "stdout",
     "output_type": "stream",
     "text": [
      "epoch      trn_loss   val_loss                           \n",
      "    0      292.512043 2.27193910861e+15\n",
      "\n"
     ]
    }
   ],
   "source": [
    "learn.lr_find(lrs)"
   ]
  },
  {
   "cell_type": "code",
   "execution_count": 60,
   "metadata": {},
   "outputs": [
    {
     "data": {
      "image/png": "[encoded data removed]",
      "text/plain": [
       "<matplotlib.figure.Figure at 0x7f1451994a90>"
      ]
     },
     "metadata": {},
     "output_type": "display_data"
    }
   ],
   "source": [
    "learn.sched.plot(1)"
   ]
  },
  {
   "cell_type": "code",
   "execution_count": 64,
   "metadata": {},
   "outputs": [
    {
     "data": {
      "image/png": "[encoded data removed]",
      "text/plain": [
       "<matplotlib.figure.Figure at 0x7f1450af7668>"
      ]
     },
     "metadata": {},
     "output_type": "display_data"
    }
   ],
   "source": [
    "learn.sched.plot(1)"
   ]
  },
  {
   "cell_type": "code",
   "execution_count": 65,
   "metadata": {},
   "outputs": [],
   "source": [
    "lr = 2e-1"
   ]
  },
  {
   "cell_type": "code",
   "execution_count": 66,
   "metadata": {},
   "outputs": [
    {
     "data": {
      "application/vnd.jupyter.widget-view+json": {
       "model_id": "3bfc0f418bcd409abbbdcacba01c6d0a",
       "version_major": 2,
       "version_minor": 0
      },
      "text/html": [
       "<p>Failed to display Jupyter Widget of type <code>HBox</code>.</p>\n",
       "<p>\n",
       "  If you're reading this message in the Jupyter Notebook or JupyterLab Notebook, it may mean\n",
       "  that the widgets JavaScript is still loading. If this message persists, it\n",
       "  likely means that the widgets JavaScript library is either not installed or\n",
       "  not enabled. See the <a href=\"https://ipywidgets.readthedocs.io/en/stable/user_install.html\">Jupyter\n",
       "  Widgets Documentation</a> for setup instructions.\n",
       "</p>\n",
       "<p>\n",
       "  If you're reading this message in another frontend (for example, a static\n",
       "  rendering on GitHub or <a href=\"https://nbviewer.jupyter.org/\">NBViewer</a>),\n",
       "  it may mean that your frontend doesn't currently support widgets.\n",
       "</p>\n"
      ],
      "text/plain": [
       "HBox(children=(IntProgress(value=0, description='Epoch', max=4), HTML(value='')))"
      ]
     },
     "metadata": {},
     "output_type": "display_data"
    },
    {
     "name": "stdout",
     "output_type": "stream",
     "text": [
      "epoch      trn_loss   val_loss                            \n",
      "    0      82.43136   17416179.84\n",
      "    1      57.183099  722.236721                          \n",
      "    2      47.799008  409.75019                           \n",
      "    3      42.606463  38.90781                            \n",
      "\n"
     ]
    },
    {
     "data": {
      "text/plain": [
       "[38.907810211181641]"
      ]
     },
     "execution_count": 66,
     "metadata": {},
     "output_type": "execute_result"
    }
   ],
   "source": [
    "learn.fit(lr, 2, cycle_len=2)"
   ]
  },
  {
   "cell_type": "code",
   "execution_count": 67,
   "metadata": {},
   "outputs": [],
   "source": [
    "learn.unfreeze()"
   ]
  },
  {
   "cell_type": "code",
   "execution_count": 68,
   "metadata": {},
   "outputs": [],
   "source": [
    "learn.save('../tmp/rsna_5.pth')"
   ]
  },
  {
   "cell_type": "code",
   "execution_count": 69,
   "metadata": {},
   "outputs": [
    {
     "data": {
      "text/plain": [
       "Sequential(\n",
       "  (0): Conv2d(3, 64, kernel_size=(7, 7), stride=(2, 2), padding=(3, 3), bias=False)\n",
       "  (1): BatchNorm2d(64, eps=1e-05, momentum=0.1, affine=True, track_running_stats=True)\n",
       "  (2): ReLU(inplace)\n",
       "  (3): MaxPool2d(kernel_size=3, stride=2, padding=1, dilation=1, ceil_mode=False)\n",
       "  (4): Sequential(\n",
       "    (0): BasicBlock(\n",
       "      (conv1): Conv2d(64, 64, kernel_size=(3, 3), stride=(1, 1), padding=(1, 1), bias=False)\n",
       "      (bn1): BatchNorm2d(64, eps=1e-05, momentum=0.1, affine=True, track_running_stats=True)\n",
       "      (relu): ReLU(inplace)\n",
       "      (conv2): Conv2d(64, 64, kernel_size=(3, 3), stride=(1, 1), padding=(1, 1), bias=False)\n",
       "      (bn2): BatchNorm2d(64, eps=1e-05, momentum=0.1, affine=True, track_running_stats=True)\n",
       "    )\n",
       "    (1): BasicBlock(\n",
       "      (conv1): Conv2d(64, 64, kernel_size=(3, 3), stride=(1, 1), padding=(1, 1), bias=False)\n",
       "      (bn1): BatchNorm2d(64, eps=1e-05, momentum=0.1, affine=True, track_running_stats=True)\n",
       "      (relu): ReLU(inplace)\n",
       "      (conv2): Conv2d(64, 64, kernel_size=(3, 3), stride=(1, 1), padding=(1, 1), bias=False)\n",
       "      (bn2): BatchNorm2d(64, eps=1e-05, momentum=0.1, affine=True, track_running_stats=True)\n",
       "    )\n",
       "    (2): BasicBlock(\n",
       "      (conv1): Conv2d(64, 64, kernel_size=(3, 3), stride=(1, 1), padding=(1, 1), bias=False)\n",
       "      (bn1): BatchNorm2d(64, eps=1e-05, momentum=0.1, affine=True, track_running_stats=True)\n",
       "      (relu): ReLU(inplace)\n",
       "      (conv2): Conv2d(64, 64, kernel_size=(3, 3), stride=(1, 1), padding=(1, 1), bias=False)\n",
       "      (bn2): BatchNorm2d(64, eps=1e-05, momentum=0.1, affine=True, track_running_stats=True)\n",
       "    )\n",
       "  )\n",
       "  (5): Sequential(\n",
       "    (0): BasicBlock(\n",
       "      (conv1): Conv2d(64, 128, kernel_size=(3, 3), stride=(2, 2), padding=(1, 1), bias=False)\n",
       "      (bn1): BatchNorm2d(128, eps=1e-05, momentum=0.1, affine=True, track_running_stats=True)\n",
       "      (relu): ReLU(inplace)\n",
       "      (conv2): Conv2d(128, 128, kernel_size=(3, 3), stride=(1, 1), padding=(1, 1), bias=False)\n",
       "      (bn2): BatchNorm2d(128, eps=1e-05, momentum=0.1, affine=True, track_running_stats=True)\n",
       "      (downsample): Sequential(\n",
       "        (0): Conv2d(64, 128, kernel_size=(1, 1), stride=(2, 2), bias=False)\n",
       "        (1): BatchNorm2d(128, eps=1e-05, momentum=0.1, affine=True, track_running_stats=True)\n",
       "      )\n",
       "    )\n",
       "    (1): BasicBlock(\n",
       "      (conv1): Conv2d(128, 128, kernel_size=(3, 3), stride=(1, 1), padding=(1, 1), bias=False)\n",
       "      (bn1): BatchNorm2d(128, eps=1e-05, momentum=0.1, affine=True, track_running_stats=True)\n",
       "      (relu): ReLU(inplace)\n",
       "      (conv2): Conv2d(128, 128, kernel_size=(3, 3), stride=(1, 1), padding=(1, 1), bias=False)\n",
       "      (bn2): BatchNorm2d(128, eps=1e-05, momentum=0.1, affine=True, track_running_stats=True)\n",
       "    )\n",
       "    (2): BasicBlock(\n",
       "      (conv1): Conv2d(128, 128, kernel_size=(3, 3), stride=(1, 1), padding=(1, 1), bias=False)\n",
       "      (bn1): BatchNorm2d(128, eps=1e-05, momentum=0.1, affine=True, track_running_stats=True)\n",
       "      (relu): ReLU(inplace)\n",
       "      (conv2): Conv2d(128, 128, kernel_size=(3, 3), stride=(1, 1), padding=(1, 1), bias=False)\n",
       "      (bn2): BatchNorm2d(128, eps=1e-05, momentum=0.1, affine=True, track_running_stats=True)\n",
       "    )\n",
       "    (3): BasicBlock(\n",
       "      (conv1): Conv2d(128, 128, kernel_size=(3, 3), stride=(1, 1), padding=(1, 1), bias=False)\n",
       "      (bn1): BatchNorm2d(128, eps=1e-05, momentum=0.1, affine=True, track_running_stats=True)\n",
       "      (relu): ReLU(inplace)\n",
       "      (conv2): Conv2d(128, 128, kernel_size=(3, 3), stride=(1, 1), padding=(1, 1), bias=False)\n",
       "      (bn2): BatchNorm2d(128, eps=1e-05, momentum=0.1, affine=True, track_running_stats=True)\n",
       "    )\n",
       "  )\n",
       "  (6): Sequential(\n",
       "    (0): BasicBlock(\n",
       "      (conv1): Conv2d(128, 256, kernel_size=(3, 3), stride=(2, 2), padding=(1, 1), bias=False)\n",
       "      (bn1): BatchNorm2d(256, eps=1e-05, momentum=0.1, affine=True, track_running_stats=True)\n",
       "      (relu): ReLU(inplace)\n",
       "      (conv2): Conv2d(256, 256, kernel_size=(3, 3), stride=(1, 1), padding=(1, 1), bias=False)\n",
       "      (bn2): BatchNorm2d(256, eps=1e-05, momentum=0.1, affine=True, track_running_stats=True)\n",
       "      (downsample): Sequential(\n",
       "        (0): Conv2d(128, 256, kernel_size=(1, 1), stride=(2, 2), bias=False)\n",
       "        (1): BatchNorm2d(256, eps=1e-05, momentum=0.1, affine=True, track_running_stats=True)\n",
       "      )\n",
       "    )\n",
       "    (1): BasicBlock(\n",
       "      (conv1): Conv2d(256, 256, kernel_size=(3, 3), stride=(1, 1), padding=(1, 1), bias=False)\n",
       "      (bn1): BatchNorm2d(256, eps=1e-05, momentum=0.1, affine=True, track_running_stats=True)\n",
       "      (relu): ReLU(inplace)\n",
       "      (conv2): Conv2d(256, 256, kernel_size=(3, 3), stride=(1, 1), padding=(1, 1), bias=False)\n",
       "      (bn2): BatchNorm2d(256, eps=1e-05, momentum=0.1, affine=True, track_running_stats=True)\n",
       "    )\n",
       "    (2): BasicBlock(\n",
       "      (conv1): Conv2d(256, 256, kernel_size=(3, 3), stride=(1, 1), padding=(1, 1), bias=False)\n",
       "      (bn1): BatchNorm2d(256, eps=1e-05, momentum=0.1, affine=True, track_running_stats=True)\n",
       "      (relu): ReLU(inplace)\n",
       "      (conv2): Conv2d(256, 256, kernel_size=(3, 3), stride=(1, 1), padding=(1, 1), bias=False)\n",
       "      (bn2): BatchNorm2d(256, eps=1e-05, momentum=0.1, affine=True, track_running_stats=True)\n",
       "    )\n",
       "    (3): BasicBlock(\n",
       "      (conv1): Conv2d(256, 256, kernel_size=(3, 3), stride=(1, 1), padding=(1, 1), bias=False)\n",
       "      (bn1): BatchNorm2d(256, eps=1e-05, momentum=0.1, affine=True, track_running_stats=True)\n",
       "      (relu): ReLU(inplace)\n",
       "      (conv2): Conv2d(256, 256, kernel_size=(3, 3), stride=(1, 1), padding=(1, 1), bias=False)\n",
       "      (bn2): BatchNorm2d(256, eps=1e-05, momentum=0.1, affine=True, track_running_stats=True)\n",
       "    )\n",
       "    (4): BasicBlock(\n",
       "      (conv1): Conv2d(256, 256, kernel_size=(3, 3), stride=(1, 1), padding=(1, 1), bias=False)\n",
       "      (bn1): BatchNorm2d(256, eps=1e-05, momentum=0.1, affine=True, track_running_stats=True)\n",
       "      (relu): ReLU(inplace)\n",
       "      (conv2): Conv2d(256, 256, kernel_size=(3, 3), stride=(1, 1), padding=(1, 1), bias=False)\n",
       "      (bn2): BatchNorm2d(256, eps=1e-05, momentum=0.1, affine=True, track_running_stats=True)\n",
       "    )\n",
       "    (5): BasicBlock(\n",
       "      (conv1): Conv2d(256, 256, kernel_size=(3, 3), stride=(1, 1), padding=(1, 1), bias=False)\n",
       "      (bn1): BatchNorm2d(256, eps=1e-05, momentum=0.1, affine=True, track_running_stats=True)\n",
       "      (relu): ReLU(inplace)\n",
       "      (conv2): Conv2d(256, 256, kernel_size=(3, 3), stride=(1, 1), padding=(1, 1), bias=False)\n",
       "      (bn2): BatchNorm2d(256, eps=1e-05, momentum=0.1, affine=True, track_running_stats=True)\n",
       "    )\n",
       "  )\n",
       "  (7): Sequential(\n",
       "    (0): BasicBlock(\n",
       "      (conv1): Conv2d(256, 512, kernel_size=(3, 3), stride=(2, 2), padding=(1, 1), bias=False)\n",
       "      (bn1): BatchNorm2d(512, eps=1e-05, momentum=0.1, affine=True, track_running_stats=True)\n",
       "      (relu): ReLU(inplace)\n",
       "      (conv2): Conv2d(512, 512, kernel_size=(3, 3), stride=(1, 1), padding=(1, 1), bias=False)\n",
       "      (bn2): BatchNorm2d(512, eps=1e-05, momentum=0.1, affine=True, track_running_stats=True)\n",
       "      (downsample): Sequential(\n",
       "        (0): Conv2d(256, 512, kernel_size=(1, 1), stride=(2, 2), bias=False)\n",
       "        (1): BatchNorm2d(512, eps=1e-05, momentum=0.1, affine=True, track_running_stats=True)\n",
       "      )\n",
       "    )\n",
       "    (1): BasicBlock(\n",
       "      (conv1): Conv2d(512, 512, kernel_size=(3, 3), stride=(1, 1), padding=(1, 1), bias=False)\n",
       "      (bn1): BatchNorm2d(512, eps=1e-05, momentum=0.1, affine=True, track_running_stats=True)\n",
       "      (relu): ReLU(inplace)\n",
       "      (conv2): Conv2d(512, 512, kernel_size=(3, 3), stride=(1, 1), padding=(1, 1), bias=False)\n",
       "      (bn2): BatchNorm2d(512, eps=1e-05, momentum=0.1, affine=True, track_running_stats=True)\n",
       "    )\n",
       "    (2): BasicBlock(\n",
       "      (conv1): Conv2d(512, 512, kernel_size=(3, 3), stride=(1, 1), padding=(1, 1), bias=False)\n",
       "      (bn1): BatchNorm2d(512, eps=1e-05, momentum=0.1, affine=True, track_running_stats=True)\n",
       "      (relu): ReLU(inplace)\n",
       "      (conv2): Conv2d(512, 512, kernel_size=(3, 3), stride=(1, 1), padding=(1, 1), bias=False)\n",
       "      (bn2): BatchNorm2d(512, eps=1e-05, momentum=0.1, affine=True, track_running_stats=True)\n",
       "    )\n",
       "  )\n",
       "  (8): Sequential(\n",
       "    (0): Flatten()\n",
       "    (1): Linear(in_features=25088, out_features=4, bias=True)\n",
       "  )\n",
       ")"
      ]
     },
     "execution_count": 69,
     "metadata": {},
     "output_type": "execute_result"
    }
   ],
   "source": [
    "learn.model.eval()"
   ]
  },
  {
   "cell_type": "code",
   "execution_count": 71,
   "metadata": {},
   "outputs": [
    {
     "data": {
      "text/plain": [
       "Sequential(\n",
       "  (0): Conv2d(3, 64, kernel_size=(7, 7), stride=(2, 2), padding=(3, 3), bias=False)\n",
       "  (1): BatchNorm2d(64, eps=1e-05, momentum=0.1, affine=True, track_running_stats=True)\n",
       "  (2): ReLU(inplace)\n",
       "  (3): MaxPool2d(kernel_size=3, stride=2, padding=1, dilation=1, ceil_mode=False)\n",
       "  (4): Sequential(\n",
       "    (0): BasicBlock(\n",
       "      (conv1): Conv2d(64, 64, kernel_size=(3, 3), stride=(1, 1), padding=(1, 1), bias=False)\n",
       "      (bn1): BatchNorm2d(64, eps=1e-05, momentum=0.1, affine=True, track_running_stats=True)\n",
       "      (relu): ReLU(inplace)\n",
       "      (conv2): Conv2d(64, 64, kernel_size=(3, 3), stride=(1, 1), padding=(1, 1), bias=False)\n",
       "      (bn2): BatchNorm2d(64, eps=1e-05, momentum=0.1, affine=True, track_running_stats=True)\n",
       "    )\n",
       "    (1): BasicBlock(\n",
       "      (conv1): Conv2d(64, 64, kernel_size=(3, 3), stride=(1, 1), padding=(1, 1), bias=False)\n",
       "      (bn1): BatchNorm2d(64, eps=1e-05, momentum=0.1, affine=True, track_running_stats=True)\n",
       "      (relu): ReLU(inplace)\n",
       "      (conv2): Conv2d(64, 64, kernel_size=(3, 3), stride=(1, 1), padding=(1, 1), bias=False)\n",
       "      (bn2): BatchNorm2d(64, eps=1e-05, momentum=0.1, affine=True, track_running_stats=True)\n",
       "    )\n",
       "    (2): BasicBlock(\n",
       "      (conv1): Conv2d(64, 64, kernel_size=(3, 3), stride=(1, 1), padding=(1, 1), bias=False)\n",
       "      (bn1): BatchNorm2d(64, eps=1e-05, momentum=0.1, affine=True, track_running_stats=True)\n",
       "      (relu): ReLU(inplace)\n",
       "      (conv2): Conv2d(64, 64, kernel_size=(3, 3), stride=(1, 1), padding=(1, 1), bias=False)\n",
       "      (bn2): BatchNorm2d(64, eps=1e-05, momentum=0.1, affine=True, track_running_stats=True)\n",
       "    )\n",
       "  )\n",
       "  (5): Sequential(\n",
       "    (0): BasicBlock(\n",
       "      (conv1): Conv2d(64, 128, kernel_size=(3, 3), stride=(2, 2), padding=(1, 1), bias=False)\n",
       "      (bn1): BatchNorm2d(128, eps=1e-05, momentum=0.1, affine=True, track_running_stats=True)\n",
       "      (relu): ReLU(inplace)\n",
       "      (conv2): Conv2d(128, 128, kernel_size=(3, 3), stride=(1, 1), padding=(1, 1), bias=False)\n",
       "      (bn2): BatchNorm2d(128, eps=1e-05, momentum=0.1, affine=True, track_running_stats=True)\n",
       "      (downsample): Sequential(\n",
       "        (0): Conv2d(64, 128, kernel_size=(1, 1), stride=(2, 2), bias=False)\n",
       "        (1): BatchNorm2d(128, eps=1e-05, momentum=0.1, affine=True, track_running_stats=True)\n",
       "      )\n",
       "    )\n",
       "    (1): BasicBlock(\n",
       "      (conv1): Conv2d(128, 128, kernel_size=(3, 3), stride=(1, 1), padding=(1, 1), bias=False)\n",
       "      (bn1): BatchNorm2d(128, eps=1e-05, momentum=0.1, affine=True, track_running_stats=True)\n",
       "      (relu): ReLU(inplace)\n",
       "      (conv2): Conv2d(128, 128, kernel_size=(3, 3), stride=(1, 1), padding=(1, 1), bias=False)\n",
       "      (bn2): BatchNorm2d(128, eps=1e-05, momentum=0.1, affine=True, track_running_stats=True)\n",
       "    )\n",
       "    (2): BasicBlock(\n",
       "      (conv1): Conv2d(128, 128, kernel_size=(3, 3), stride=(1, 1), padding=(1, 1), bias=False)\n",
       "      (bn1): BatchNorm2d(128, eps=1e-05, momentum=0.1, affine=True, track_running_stats=True)\n",
       "      (relu): ReLU(inplace)\n",
       "      (conv2): Conv2d(128, 128, kernel_size=(3, 3), stride=(1, 1), padding=(1, 1), bias=False)\n",
       "      (bn2): BatchNorm2d(128, eps=1e-05, momentum=0.1, affine=True, track_running_stats=True)\n",
       "    )\n",
       "    (3): BasicBlock(\n",
       "      (conv1): Conv2d(128, 128, kernel_size=(3, 3), stride=(1, 1), padding=(1, 1), bias=False)\n",
       "      (bn1): BatchNorm2d(128, eps=1e-05, momentum=0.1, affine=True, track_running_stats=True)\n",
       "      (relu): ReLU(inplace)\n",
       "      (conv2): Conv2d(128, 128, kernel_size=(3, 3), stride=(1, 1), padding=(1, 1), bias=False)\n",
       "      (bn2): BatchNorm2d(128, eps=1e-05, momentum=0.1, affine=True, track_running_stats=True)\n",
       "    )\n",
       "  )\n",
       "  (6): Sequential(\n",
       "    (0): BasicBlock(\n",
       "      (conv1): Conv2d(128, 256, kernel_size=(3, 3), stride=(2, 2), padding=(1, 1), bias=False)\n",
       "      (bn1): BatchNorm2d(256, eps=1e-05, momentum=0.1, affine=True, track_running_stats=True)\n",
       "      (relu): ReLU(inplace)\n",
       "      (conv2): Conv2d(256, 256, kernel_size=(3, 3), stride=(1, 1), padding=(1, 1), bias=False)\n",
       "      (bn2): BatchNorm2d(256, eps=1e-05, momentum=0.1, affine=True, track_running_stats=True)\n",
       "      (downsample): Sequential(\n",
       "        (0): Conv2d(128, 256, kernel_size=(1, 1), stride=(2, 2), bias=False)\n",
       "        (1): BatchNorm2d(256, eps=1e-05, momentum=0.1, affine=True, track_running_stats=True)\n",
       "      )\n",
       "    )\n",
       "    (1): BasicBlock(\n",
       "      (conv1): Conv2d(256, 256, kernel_size=(3, 3), stride=(1, 1), padding=(1, 1), bias=False)\n",
       "      (bn1): BatchNorm2d(256, eps=1e-05, momentum=0.1, affine=True, track_running_stats=True)\n",
       "      (relu): ReLU(inplace)\n",
       "      (conv2): Conv2d(256, 256, kernel_size=(3, 3), stride=(1, 1), padding=(1, 1), bias=False)\n",
       "      (bn2): BatchNorm2d(256, eps=1e-05, momentum=0.1, affine=True, track_running_stats=True)\n",
       "    )\n",
       "    (2): BasicBlock(\n",
       "      (conv1): Conv2d(256, 256, kernel_size=(3, 3), stride=(1, 1), padding=(1, 1), bias=False)\n",
       "      (bn1): BatchNorm2d(256, eps=1e-05, momentum=0.1, affine=True, track_running_stats=True)\n",
       "      (relu): ReLU(inplace)\n",
       "      (conv2): Conv2d(256, 256, kernel_size=(3, 3), stride=(1, 1), padding=(1, 1), bias=False)\n",
       "      (bn2): BatchNorm2d(256, eps=1e-05, momentum=0.1, affine=True, track_running_stats=True)\n",
       "    )\n",
       "    (3): BasicBlock(\n",
       "      (conv1): Conv2d(256, 256, kernel_size=(3, 3), stride=(1, 1), padding=(1, 1), bias=False)\n",
       "      (bn1): BatchNorm2d(256, eps=1e-05, momentum=0.1, affine=True, track_running_stats=True)\n",
       "      (relu): ReLU(inplace)\n",
       "      (conv2): Conv2d(256, 256, kernel_size=(3, 3), stride=(1, 1), padding=(1, 1), bias=False)\n",
       "      (bn2): BatchNorm2d(256, eps=1e-05, momentum=0.1, affine=True, track_running_stats=True)\n",
       "    )\n",
       "    (4): BasicBlock(\n",
       "      (conv1): Conv2d(256, 256, kernel_size=(3, 3), stride=(1, 1), padding=(1, 1), bias=False)\n",
       "      (bn1): BatchNorm2d(256, eps=1e-05, momentum=0.1, affine=True, track_running_stats=True)\n",
       "      (relu): ReLU(inplace)\n",
       "      (conv2): Conv2d(256, 256, kernel_size=(3, 3), stride=(1, 1), padding=(1, 1), bias=False)\n",
       "      (bn2): BatchNorm2d(256, eps=1e-05, momentum=0.1, affine=True, track_running_stats=True)\n",
       "    )\n",
       "    (5): BasicBlock(\n",
       "      (conv1): Conv2d(256, 256, kernel_size=(3, 3), stride=(1, 1), padding=(1, 1), bias=False)\n",
       "      (bn1): BatchNorm2d(256, eps=1e-05, momentum=0.1, affine=True, track_running_stats=True)\n",
       "      (relu): ReLU(inplace)\n",
       "      (conv2): Conv2d(256, 256, kernel_size=(3, 3), stride=(1, 1), padding=(1, 1), bias=False)\n",
       "      (bn2): BatchNorm2d(256, eps=1e-05, momentum=0.1, affine=True, track_running_stats=True)\n",
       "    )\n",
       "  )\n",
       "  (7): Sequential(\n",
       "    (0): BasicBlock(\n",
       "      (conv1): Conv2d(256, 512, kernel_size=(3, 3), stride=(2, 2), padding=(1, 1), bias=False)\n",
       "      (bn1): BatchNorm2d(512, eps=1e-05, momentum=0.1, affine=True, track_running_stats=True)\n",
       "      (relu): ReLU(inplace)\n",
       "      (conv2): Conv2d(512, 512, kernel_size=(3, 3), stride=(1, 1), padding=(1, 1), bias=False)\n",
       "      (bn2): BatchNorm2d(512, eps=1e-05, momentum=0.1, affine=True, track_running_stats=True)\n",
       "      (downsample): Sequential(\n",
       "        (0): Conv2d(256, 512, kernel_size=(1, 1), stride=(2, 2), bias=False)\n",
       "        (1): BatchNorm2d(512, eps=1e-05, momentum=0.1, affine=True, track_running_stats=True)\n",
       "      )\n",
       "    )\n",
       "    (1): BasicBlock(\n",
       "      (conv1): Conv2d(512, 512, kernel_size=(3, 3), stride=(1, 1), padding=(1, 1), bias=False)\n",
       "      (bn1): BatchNorm2d(512, eps=1e-05, momentum=0.1, affine=True, track_running_stats=True)\n",
       "      (relu): ReLU(inplace)\n",
       "      (conv2): Conv2d(512, 512, kernel_size=(3, 3), stride=(1, 1), padding=(1, 1), bias=False)\n",
       "      (bn2): BatchNorm2d(512, eps=1e-05, momentum=0.1, affine=True, track_running_stats=True)\n",
       "    )\n",
       "    (2): BasicBlock(\n",
       "      (conv1): Conv2d(512, 512, kernel_size=(3, 3), stride=(1, 1), padding=(1, 1), bias=False)\n",
       "      (bn1): BatchNorm2d(512, eps=1e-05, momentum=0.1, affine=True, track_running_stats=True)\n",
       "      (relu): ReLU(inplace)\n",
       "      (conv2): Conv2d(512, 512, kernel_size=(3, 3), stride=(1, 1), padding=(1, 1), bias=False)\n",
       "      (bn2): BatchNorm2d(512, eps=1e-05, momentum=0.1, affine=True, track_running_stats=True)\n",
       "    )\n",
       "  )\n",
       "  (8): Sequential(\n",
       "    (0): Flatten()\n",
       "    (1): Linear(in_features=25088, out_features=4, bias=True)\n",
       "  )\n",
       ")"
      ]
     },
     "execution_count": 71,
     "metadata": {},
     "output_type": "execute_result"
    }
   ],
   "source": [
    "learn.model.eval()"
   ]
  },
  {
   "cell_type": "code",
   "execution_count": 75,
   "metadata": {},
   "outputs": [],
   "source": [
    "x, y = next(iter(md.trn_dl))"
   ]
  },
  {
   "cell_type": "code",
   "execution_count": 76,
   "metadata": {},
   "outputs": [
    {
     "data": {
      "text/plain": [
       "(array([[  -0.05403,    0.05781,   -0.05314,    0.20144],\n",
       "        [   7.17969,    3.92191,    4.39247,   10.97632],\n",
       "        [  43.88998,   57.0424 ,   57.66828,  115.54762],\n",
       "        [   0.06112,   -0.05996,   -0.00794,    0.27169],\n",
       "        [  -0.05403,    0.05781,   -0.05314,    0.20144],\n",
       "        [   1.47962,    0.77771,    1.27265,    3.2331 ],\n",
       "        [  -0.05403,    0.05781,   -0.05314,    0.20144],\n",
       "        [  72.55693,   83.13942,   90.95323,  150.16846],\n",
       "        [   0.52242,   -0.26477,    0.51186,    1.63082],\n",
       "        [   1.02807,    0.40753,    0.16863,    1.92346]], dtype=float32),\n",
       " tensor([[   0.,    0.,    0.,    0.],\n",
       "         [   0.,    0.,    0.,    0.],\n",
       "         [  46.,   59.,   89.,  141.],\n",
       "         [   0.,    0.,    0.,    0.],\n",
       "         [   0.,    0.,    0.,    0.],\n",
       "         [ 130.,   91.,  172.,  142.],\n",
       "         [   0.,    0.,    0.,    0.],\n",
       "         [   0.,    0.,    0.,    0.],\n",
       "         [   0.,    0.,    0.,    0.],\n",
       "         [   0.,    0.,    0.,    0.]], device='cuda:0'))"
      ]
     },
     "execution_count": 76,
     "metadata": {},
     "output_type": "execute_result"
    }
   ],
   "source": [
    "preds = to_np(predict_batch(learn.model, x)); preds[:10], y[:10]"
   ]
  },
  {
   "cell_type": "code",
   "execution_count": 79,
   "metadata": {},
   "outputs": [
    {
     "data": {
      "text/plain": [
       "array([[   0.     ,    0.05781,    0.     ,    0.20144],\n",
       "       [   7.17969,    3.92191,    4.39247,   10.97632],\n",
       "       [  43.88998,   57.0424 ,   57.66828,  115.54762],\n",
       "       [   0.06112,    0.     ,    0.     ,    0.27169],\n",
       "       [   0.     ,    0.05781,    0.     ,    0.20144],\n",
       "       [   1.47962,    0.77771,    1.27265,    3.2331 ],\n",
       "       [   0.     ,    0.05781,    0.     ,    0.20144],\n",
       "       [  72.55693,   83.13942,   90.95323,  150.16846],\n",
       "       [   0.52242,    0.     ,    0.51186,    1.63082],\n",
       "       [   1.02807,    0.40753,    0.16863,    1.92346]], dtype=float32)"
      ]
     },
     "execution_count": 79,
     "metadata": {},
     "output_type": "execute_result"
    }
   ],
   "source": [
    "sample_res = np.clip(preds[:10], 0, 1000); sample_res"
   ]
  },
  {
   "cell_type": "code",
   "execution_count": 86,
   "metadata": {},
   "outputs": [],
   "source": [
    "sample_res[sample_res < 10] = 0"
   ]
  },
  {
   "cell_type": "code",
   "execution_count": 87,
   "metadata": {},
   "outputs": [
    {
     "data": {
      "text/plain": [
       "array([[   0.     ,    0.     ,    0.     ,    0.     ],\n",
       "       [   0.     ,    0.     ,    0.     ,   10.97632],\n",
       "       [  43.88998,   57.0424 ,   57.66828,  115.54762],\n",
       "       [   0.     ,    0.     ,    0.     ,    0.     ],\n",
       "       [   0.     ,    0.     ,    0.     ,    0.     ],\n",
       "       [   0.     ,    0.     ,    0.     ,    0.     ],\n",
       "       [   0.     ,    0.     ,    0.     ,    0.     ],\n",
       "       [  72.55693,   83.13942,   90.95323,  150.16846],\n",
       "       [   0.     ,    0.     ,    0.     ,    0.     ],\n",
       "       [   0.     ,    0.     ,    0.     ,    0.     ]], dtype=float32)"
      ]
     },
     "execution_count": 87,
     "metadata": {},
     "output_type": "execute_result"
    }
   ],
   "source": [
    "sample_res"
   ]
  },
  {
   "cell_type": "code",
   "execution_count": 12,
   "metadata": {},
   "outputs": [],
   "source": [
    "md = ImageClassifierData.from_csv(rsna_path, 'train', SAMPLE_LABELS_BBOX_FN, bs=64, \n",
    "                                   tfms=tfms, suffix='.dcm', continuous=True, test_name='test2')\n",
    "md2 = ImageClassifierData.from_csv(rsna_path, 'train', SAMPLE_LABELS_TARGET_FN, bs=64, \n",
    "                                   tfms=tfms_from_model(f_model, sz), suffix='.dcm', test_name='test2' )"
   ]
  },
  {
   "cell_type": "code",
   "execution_count": 13,
   "metadata": {},
   "outputs": [
    {
     "data": {
      "text/plain": [
       "1000"
      ]
     },
     "execution_count": 13,
     "metadata": {},
     "output_type": "execute_result"
    }
   ],
   "source": [
    "len(md.test_ds)"
   ]
  },
  {
   "cell_type": "code",
   "execution_count": 14,
   "metadata": {},
   "outputs": [],
   "source": [
    "class ConcatLblDataset(Dataset):\n",
    "    def __init__(self, ds, y2):\n",
    "        self.ds = ds\n",
    "        self.y2 = y2\n",
    "        self.sz = ds.sz\n",
    "        \n",
    "    def __len__(self):\n",
    "        return len(self.ds)\n",
    "    \n",
    "    \n",
    "    def __getitem__(self, i):\n",
    "        x, y = self.ds[i]\n",
    "        return (x, (y, self.y2[i]))"
   ]
  },
  {
   "cell_type": "code",
   "execution_count": 15,
   "metadata": {},
   "outputs": [],
   "source": [
    "trn_ds_2 = ConcatLblDataset(md.trn_ds, md2.trn_y)\n",
    "val_ds_2 = ConcatLblDataset(md.val_ds, md2.val_y)"
   ]
  },
  {
   "cell_type": "code",
   "execution_count": 16,
   "metadata": {},
   "outputs": [],
   "source": [
    "md.trn_dl.dataset = trn_ds_2\n",
    "md.val_dl.dataset = val_ds_2"
   ]
  },
  {
   "cell_type": "code",
   "execution_count": 17,
   "metadata": {},
   "outputs": [],
   "source": [
    "x, y = next(iter(md.trn_dl))"
   ]
  },
  {
   "cell_type": "code",
   "execution_count": 19,
   "metadata": {},
   "outputs": [],
   "source": [
    "custom_head = nn.Sequential(\n",
    "    Flatten(),\n",
    "    nn.ReLU(),\n",
    "    nn.Dropout(0.5),\n",
    "    nn.Linear(25088,256),\n",
    "    nn.ReLU(),\n",
    "    nn.BatchNorm1d(256),\n",
    "    nn.Dropout(0.5),\n",
    "    nn.Linear(256, 4+2)\n",
    ")\n",
    "\n",
    "models = ConvnetBuilder(f_model, 0, 0, 0, custom_head=custom_head)\n",
    "learn = ConvLearner(md, models)\n",
    "learn.opt_fn = optim.Adam"
   ]
  },
  {
   "cell_type": "code",
   "execution_count": 20,
   "metadata": {},
   "outputs": [],
   "source": [
    "learn.crit = nn.L1Loss()"
   ]
  },
  {
   "cell_type": "code",
   "execution_count": 21,
   "metadata": {},
   "outputs": [
    {
     "data": {
      "text/plain": [
       "OrderedDict([('Conv2d-1',\n",
       "              OrderedDict([('input_shape', [-1, 3, 224, 224]),\n",
       "                           ('output_shape', [-1, 64, 112, 112]),\n",
       "                           ('trainable', False),\n",
       "                           ('nb_params', tensor(9408))])),\n",
       "             ('BatchNorm2d-2',\n",
       "              OrderedDict([('input_shape', [-1, 64, 112, 112]),\n",
       "                           ('output_shape', [-1, 64, 112, 112]),\n",
       "                           ('trainable', False),\n",
       "                           ('nb_params', tensor(128))])),\n",
       "             ('ReLU-3',\n",
       "              OrderedDict([('input_shape', [-1, 64, 112, 112]),\n",
       "                           ('output_shape', [-1, 64, 112, 112]),\n",
       "                           ('nb_params', 0)])),\n",
       "             ('MaxPool2d-4',\n",
       "              OrderedDict([('input_shape', [-1, 64, 112, 112]),\n",
       "                           ('output_shape', [-1, 64, 56, 56]),\n",
       "                           ('nb_params', 0)])),\n",
       "             ('Conv2d-5',\n",
       "              OrderedDict([('input_shape', [-1, 64, 56, 56]),\n",
       "                           ('output_shape', [-1, 64, 56, 56]),\n",
       "                           ('trainable', False),\n",
       "                           ('nb_params', tensor(36864))])),\n",
       "             ('BatchNorm2d-6',\n",
       "              OrderedDict([('input_shape', [-1, 64, 56, 56]),\n",
       "                           ('output_shape', [-1, 64, 56, 56]),\n",
       "                           ('trainable', False),\n",
       "                           ('nb_params', tensor(128))])),\n",
       "             ('ReLU-7',\n",
       "              OrderedDict([('input_shape', [-1, 64, 56, 56]),\n",
       "                           ('output_shape', [-1, 64, 56, 56]),\n",
       "                           ('nb_params', 0)])),\n",
       "             ('Conv2d-8',\n",
       "              OrderedDict([('input_shape', [-1, 64, 56, 56]),\n",
       "                           ('output_shape', [-1, 64, 56, 56]),\n",
       "                           ('trainable', False),\n",
       "                           ('nb_params', tensor(36864))])),\n",
       "             ('BatchNorm2d-9',\n",
       "              OrderedDict([('input_shape', [-1, 64, 56, 56]),\n",
       "                           ('output_shape', [-1, 64, 56, 56]),\n",
       "                           ('trainable', False),\n",
       "                           ('nb_params', tensor(128))])),\n",
       "             ('ReLU-10',\n",
       "              OrderedDict([('input_shape', [-1, 64, 56, 56]),\n",
       "                           ('output_shape', [-1, 64, 56, 56]),\n",
       "                           ('nb_params', 0)])),\n",
       "             ('BasicBlock-11',\n",
       "              OrderedDict([('input_shape', [-1, 64, 56, 56]),\n",
       "                           ('output_shape', [-1, 64, 56, 56]),\n",
       "                           ('nb_params', 0)])),\n",
       "             ('Conv2d-12',\n",
       "              OrderedDict([('input_shape', [-1, 64, 56, 56]),\n",
       "                           ('output_shape', [-1, 64, 56, 56]),\n",
       "                           ('trainable', False),\n",
       "                           ('nb_params', tensor(36864))])),\n",
       "             ('BatchNorm2d-13',\n",
       "              OrderedDict([('input_shape', [-1, 64, 56, 56]),\n",
       "                           ('output_shape', [-1, 64, 56, 56]),\n",
       "                           ('trainable', False),\n",
       "                           ('nb_params', tensor(128))])),\n",
       "             ('ReLU-14',\n",
       "              OrderedDict([('input_shape', [-1, 64, 56, 56]),\n",
       "                           ('output_shape', [-1, 64, 56, 56]),\n",
       "                           ('nb_params', 0)])),\n",
       "             ('Conv2d-15',\n",
       "              OrderedDict([('input_shape', [-1, 64, 56, 56]),\n",
       "                           ('output_shape', [-1, 64, 56, 56]),\n",
       "                           ('trainable', False),\n",
       "                           ('nb_params', tensor(36864))])),\n",
       "             ('BatchNorm2d-16',\n",
       "              OrderedDict([('input_shape', [-1, 64, 56, 56]),\n",
       "                           ('output_shape', [-1, 64, 56, 56]),\n",
       "                           ('trainable', False),\n",
       "                           ('nb_params', tensor(128))])),\n",
       "             ('ReLU-17',\n",
       "              OrderedDict([('input_shape', [-1, 64, 56, 56]),\n",
       "                           ('output_shape', [-1, 64, 56, 56]),\n",
       "                           ('nb_params', 0)])),\n",
       "             ('BasicBlock-18',\n",
       "              OrderedDict([('input_shape', [-1, 64, 56, 56]),\n",
       "                           ('output_shape', [-1, 64, 56, 56]),\n",
       "                           ('nb_params', 0)])),\n",
       "             ('Conv2d-19',\n",
       "              OrderedDict([('input_shape', [-1, 64, 56, 56]),\n",
       "                           ('output_shape', [-1, 64, 56, 56]),\n",
       "                           ('trainable', False),\n",
       "                           ('nb_params', tensor(36864))])),\n",
       "             ('BatchNorm2d-20',\n",
       "              OrderedDict([('input_shape', [-1, 64, 56, 56]),\n",
       "                           ('output_shape', [-1, 64, 56, 56]),\n",
       "                           ('trainable', False),\n",
       "                           ('nb_params', tensor(128))])),\n",
       "             ('ReLU-21',\n",
       "              OrderedDict([('input_shape', [-1, 64, 56, 56]),\n",
       "                           ('output_shape', [-1, 64, 56, 56]),\n",
       "                           ('nb_params', 0)])),\n",
       "             ('Conv2d-22',\n",
       "              OrderedDict([('input_shape', [-1, 64, 56, 56]),\n",
       "                           ('output_shape', [-1, 64, 56, 56]),\n",
       "                           ('trainable', False),\n",
       "                           ('nb_params', tensor(36864))])),\n",
       "             ('BatchNorm2d-23',\n",
       "              OrderedDict([('input_shape', [-1, 64, 56, 56]),\n",
       "                           ('output_shape', [-1, 64, 56, 56]),\n",
       "                           ('trainable', False),\n",
       "                           ('nb_params', tensor(128))])),\n",
       "             ('ReLU-24',\n",
       "              OrderedDict([('input_shape', [-1, 64, 56, 56]),\n",
       "                           ('output_shape', [-1, 64, 56, 56]),\n",
       "                           ('nb_params', 0)])),\n",
       "             ('BasicBlock-25',\n",
       "              OrderedDict([('input_shape', [-1, 64, 56, 56]),\n",
       "                           ('output_shape', [-1, 64, 56, 56]),\n",
       "                           ('nb_params', 0)])),\n",
       "             ('Conv2d-26',\n",
       "              OrderedDict([('input_shape', [-1, 64, 56, 56]),\n",
       "                           ('output_shape', [-1, 128, 28, 28]),\n",
       "                           ('trainable', False),\n",
       "                           ('nb_params', tensor(73728))])),\n",
       "             ('BatchNorm2d-27',\n",
       "              OrderedDict([('input_shape', [-1, 128, 28, 28]),\n",
       "                           ('output_shape', [-1, 128, 28, 28]),\n",
       "                           ('trainable', False),\n",
       "                           ('nb_params', tensor(256))])),\n",
       "             ('ReLU-28',\n",
       "              OrderedDict([('input_shape', [-1, 128, 28, 28]),\n",
       "                           ('output_shape', [-1, 128, 28, 28]),\n",
       "                           ('nb_params', 0)])),\n",
       "             ('Conv2d-29',\n",
       "              OrderedDict([('input_shape', [-1, 128, 28, 28]),\n",
       "                           ('output_shape', [-1, 128, 28, 28]),\n",
       "                           ('trainable', False),\n",
       "                           ('nb_params', tensor(1.4746e+05))])),\n",
       "             ('BatchNorm2d-30',\n",
       "              OrderedDict([('input_shape', [-1, 128, 28, 28]),\n",
       "                           ('output_shape', [-1, 128, 28, 28]),\n",
       "                           ('trainable', False),\n",
       "                           ('nb_params', tensor(256))])),\n",
       "             ('Conv2d-31',\n",
       "              OrderedDict([('input_shape', [-1, 64, 56, 56]),\n",
       "                           ('output_shape', [-1, 128, 28, 28]),\n",
       "                           ('trainable', False),\n",
       "                           ('nb_params', tensor(8192))])),\n",
       "             ('BatchNorm2d-32',\n",
       "              OrderedDict([('input_shape', [-1, 128, 28, 28]),\n",
       "                           ('output_shape', [-1, 128, 28, 28]),\n",
       "                           ('trainable', False),\n",
       "                           ('nb_params', tensor(256))])),\n",
       "             ('ReLU-33',\n",
       "              OrderedDict([('input_shape', [-1, 128, 28, 28]),\n",
       "                           ('output_shape', [-1, 128, 28, 28]),\n",
       "                           ('nb_params', 0)])),\n",
       "             ('BasicBlock-34',\n",
       "              OrderedDict([('input_shape', [-1, 64, 56, 56]),\n",
       "                           ('output_shape', [-1, 128, 28, 28]),\n",
       "                           ('nb_params', 0)])),\n",
       "             ('Conv2d-35',\n",
       "              OrderedDict([('input_shape', [-1, 128, 28, 28]),\n",
       "                           ('output_shape', [-1, 128, 28, 28]),\n",
       "                           ('trainable', False),\n",
       "                           ('nb_params', tensor(1.4746e+05))])),\n",
       "             ('BatchNorm2d-36',\n",
       "              OrderedDict([('input_shape', [-1, 128, 28, 28]),\n",
       "                           ('output_shape', [-1, 128, 28, 28]),\n",
       "                           ('trainable', False),\n",
       "                           ('nb_params', tensor(256))])),\n",
       "             ('ReLU-37',\n",
       "              OrderedDict([('input_shape', [-1, 128, 28, 28]),\n",
       "                           ('output_shape', [-1, 128, 28, 28]),\n",
       "                           ('nb_params', 0)])),\n",
       "             ('Conv2d-38',\n",
       "              OrderedDict([('input_shape', [-1, 128, 28, 28]),\n",
       "                           ('output_shape', [-1, 128, 28, 28]),\n",
       "                           ('trainable', False),\n",
       "                           ('nb_params', tensor(1.4746e+05))])),\n",
       "             ('BatchNorm2d-39',\n",
       "              OrderedDict([('input_shape', [-1, 128, 28, 28]),\n",
       "                           ('output_shape', [-1, 128, 28, 28]),\n",
       "                           ('trainable', False),\n",
       "                           ('nb_params', tensor(256))])),\n",
       "             ('ReLU-40',\n",
       "              OrderedDict([('input_shape', [-1, 128, 28, 28]),\n",
       "                           ('output_shape', [-1, 128, 28, 28]),\n",
       "                           ('nb_params', 0)])),\n",
       "             ('BasicBlock-41',\n",
       "              OrderedDict([('input_shape', [-1, 128, 28, 28]),\n",
       "                           ('output_shape', [-1, 128, 28, 28]),\n",
       "                           ('nb_params', 0)])),\n",
       "             ('Conv2d-42',\n",
       "              OrderedDict([('input_shape', [-1, 128, 28, 28]),\n",
       "                           ('output_shape', [-1, 128, 28, 28]),\n",
       "                           ('trainable', False),\n",
       "                           ('nb_params', tensor(1.4746e+05))])),\n",
       "             ('BatchNorm2d-43',\n",
       "              OrderedDict([('input_shape', [-1, 128, 28, 28]),\n",
       "                           ('output_shape', [-1, 128, 28, 28]),\n",
       "                           ('trainable', False),\n",
       "                           ('nb_params', tensor(256))])),\n",
       "             ('ReLU-44',\n",
       "              OrderedDict([('input_shape', [-1, 128, 28, 28]),\n",
       "                           ('output_shape', [-1, 128, 28, 28]),\n",
       "                           ('nb_params', 0)])),\n",
       "             ('Conv2d-45',\n",
       "              OrderedDict([('input_shape', [-1, 128, 28, 28]),\n",
       "                           ('output_shape', [-1, 128, 28, 28]),\n",
       "                           ('trainable', False),\n",
       "                           ('nb_params', tensor(1.4746e+05))])),\n",
       "             ('BatchNorm2d-46',\n",
       "              OrderedDict([('input_shape', [-1, 128, 28, 28]),\n",
       "                           ('output_shape', [-1, 128, 28, 28]),\n",
       "                           ('trainable', False),\n",
       "                           ('nb_params', tensor(256))])),\n",
       "             ('ReLU-47',\n",
       "              OrderedDict([('input_shape', [-1, 128, 28, 28]),\n",
       "                           ('output_shape', [-1, 128, 28, 28]),\n",
       "                           ('nb_params', 0)])),\n",
       "             ('BasicBlock-48',\n",
       "              OrderedDict([('input_shape', [-1, 128, 28, 28]),\n",
       "                           ('output_shape', [-1, 128, 28, 28]),\n",
       "                           ('nb_params', 0)])),\n",
       "             ('Conv2d-49',\n",
       "              OrderedDict([('input_shape', [-1, 128, 28, 28]),\n",
       "                           ('output_shape', [-1, 128, 28, 28]),\n",
       "                           ('trainable', False),\n",
       "                           ('nb_params', tensor(1.4746e+05))])),\n",
       "             ('BatchNorm2d-50',\n",
       "              OrderedDict([('input_shape', [-1, 128, 28, 28]),\n",
       "                           ('output_shape', [-1, 128, 28, 28]),\n",
       "                           ('trainable', False),\n",
       "                           ('nb_params', tensor(256))])),\n",
       "             ('ReLU-51',\n",
       "              OrderedDict([('input_shape', [-1, 128, 28, 28]),\n",
       "                           ('output_shape', [-1, 128, 28, 28]),\n",
       "                           ('nb_params', 0)])),\n",
       "             ('Conv2d-52',\n",
       "              OrderedDict([('input_shape', [-1, 128, 28, 28]),\n",
       "                           ('output_shape', [-1, 128, 28, 28]),\n",
       "                           ('trainable', False),\n",
       "                           ('nb_params', tensor(1.4746e+05))])),\n",
       "             ('BatchNorm2d-53',\n",
       "              OrderedDict([('input_shape', [-1, 128, 28, 28]),\n",
       "                           ('output_shape', [-1, 128, 28, 28]),\n",
       "                           ('trainable', False),\n",
       "                           ('nb_params', tensor(256))])),\n",
       "             ('ReLU-54',\n",
       "              OrderedDict([('input_shape', [-1, 128, 28, 28]),\n",
       "                           ('output_shape', [-1, 128, 28, 28]),\n",
       "                           ('nb_params', 0)])),\n",
       "             ('BasicBlock-55',\n",
       "              OrderedDict([('input_shape', [-1, 128, 28, 28]),\n",
       "                           ('output_shape', [-1, 128, 28, 28]),\n",
       "                           ('nb_params', 0)])),\n",
       "             ('Conv2d-56',\n",
       "              OrderedDict([('input_shape', [-1, 128, 28, 28]),\n",
       "                           ('output_shape', [-1, 256, 14, 14]),\n",
       "                           ('trainable', False),\n",
       "                           ('nb_params', tensor(2.9491e+05))])),\n",
       "             ('BatchNorm2d-57',\n",
       "              OrderedDict([('input_shape', [-1, 256, 14, 14]),\n",
       "                           ('output_shape', [-1, 256, 14, 14]),\n",
       "                           ('trainable', False),\n",
       "                           ('nb_params', tensor(512))])),\n",
       "             ('ReLU-58',\n",
       "              OrderedDict([('input_shape', [-1, 256, 14, 14]),\n",
       "                           ('output_shape', [-1, 256, 14, 14]),\n",
       "                           ('nb_params', 0)])),\n",
       "             ('Conv2d-59',\n",
       "              OrderedDict([('input_shape', [-1, 256, 14, 14]),\n",
       "                           ('output_shape', [-1, 256, 14, 14]),\n",
       "                           ('trainable', False),\n",
       "                           ('nb_params', tensor(5.8982e+05))])),\n",
       "             ('BatchNorm2d-60',\n",
       "              OrderedDict([('input_shape', [-1, 256, 14, 14]),\n",
       "                           ('output_shape', [-1, 256, 14, 14]),\n",
       "                           ('trainable', False),\n",
       "                           ('nb_params', tensor(512))])),\n",
       "             ('Conv2d-61',\n",
       "              OrderedDict([('input_shape', [-1, 128, 28, 28]),\n",
       "                           ('output_shape', [-1, 256, 14, 14]),\n",
       "                           ('trainable', False),\n",
       "                           ('nb_params', tensor(32768))])),\n",
       "             ('BatchNorm2d-62',\n",
       "              OrderedDict([('input_shape', [-1, 256, 14, 14]),\n",
       "                           ('output_shape', [-1, 256, 14, 14]),\n",
       "                           ('trainable', False),\n",
       "                           ('nb_params', tensor(512))])),\n",
       "             ('ReLU-63',\n",
       "              OrderedDict([('input_shape', [-1, 256, 14, 14]),\n",
       "                           ('output_shape', [-1, 256, 14, 14]),\n",
       "                           ('nb_params', 0)])),\n",
       "             ('BasicBlock-64',\n",
       "              OrderedDict([('input_shape', [-1, 128, 28, 28]),\n",
       "                           ('output_shape', [-1, 256, 14, 14]),\n",
       "                           ('nb_params', 0)])),\n",
       "             ('Conv2d-65',\n",
       "              OrderedDict([('input_shape', [-1, 256, 14, 14]),\n",
       "                           ('output_shape', [-1, 256, 14, 14]),\n",
       "                           ('trainable', False),\n",
       "                           ('nb_params', tensor(5.8982e+05))])),\n",
       "             ('BatchNorm2d-66',\n",
       "              OrderedDict([('input_shape', [-1, 256, 14, 14]),\n",
       "                           ('output_shape', [-1, 256, 14, 14]),\n",
       "                           ('trainable', False),\n",
       "                           ('nb_params', tensor(512))])),\n",
       "             ('ReLU-67',\n",
       "              OrderedDict([('input_shape', [-1, 256, 14, 14]),\n",
       "                           ('output_shape', [-1, 256, 14, 14]),\n",
       "                           ('nb_params', 0)])),\n",
       "             ('Conv2d-68',\n",
       "              OrderedDict([('input_shape', [-1, 256, 14, 14]),\n",
       "                           ('output_shape', [-1, 256, 14, 14]),\n",
       "                           ('trainable', False),\n",
       "                           ('nb_params', tensor(5.8982e+05))])),\n",
       "             ('BatchNorm2d-69',\n",
       "              OrderedDict([('input_shape', [-1, 256, 14, 14]),\n",
       "                           ('output_shape', [-1, 256, 14, 14]),\n",
       "                           ('trainable', False),\n",
       "                           ('nb_params', tensor(512))])),\n",
       "             ('ReLU-70',\n",
       "              OrderedDict([('input_shape', [-1, 256, 14, 14]),\n",
       "                           ('output_shape', [-1, 256, 14, 14]),\n",
       "                           ('nb_params', 0)])),\n",
       "             ('BasicBlock-71',\n",
       "              OrderedDict([('input_shape', [-1, 256, 14, 14]),\n",
       "                           ('output_shape', [-1, 256, 14, 14]),\n",
       "                           ('nb_params', 0)])),\n",
       "             ('Conv2d-72',\n",
       "              OrderedDict([('input_shape', [-1, 256, 14, 14]),\n",
       "                           ('output_shape', [-1, 256, 14, 14]),\n",
       "                           ('trainable', False),\n",
       "                           ('nb_params', tensor(5.8982e+05))])),\n",
       "             ('BatchNorm2d-73',\n",
       "              OrderedDict([('input_shape', [-1, 256, 14, 14]),\n",
       "                           ('output_shape', [-1, 256, 14, 14]),\n",
       "                           ('trainable', False),\n",
       "                           ('nb_params', tensor(512))])),\n",
       "             ('ReLU-74',\n",
       "              OrderedDict([('input_shape', [-1, 256, 14, 14]),\n",
       "                           ('output_shape', [-1, 256, 14, 14]),\n",
       "                           ('nb_params', 0)])),\n",
       "             ('Conv2d-75',\n",
       "              OrderedDict([('input_shape', [-1, 256, 14, 14]),\n",
       "                           ('output_shape', [-1, 256, 14, 14]),\n",
       "                           ('trainable', False),\n",
       "                           ('nb_params', tensor(5.8982e+05))])),\n",
       "             ('BatchNorm2d-76',\n",
       "              OrderedDict([('input_shape', [-1, 256, 14, 14]),\n",
       "                           ('output_shape', [-1, 256, 14, 14]),\n",
       "                           ('trainable', False),\n",
       "                           ('nb_params', tensor(512))])),\n",
       "             ('ReLU-77',\n",
       "              OrderedDict([('input_shape', [-1, 256, 14, 14]),\n",
       "                           ('output_shape', [-1, 256, 14, 14]),\n",
       "                           ('nb_params', 0)])),\n",
       "             ('BasicBlock-78',\n",
       "              OrderedDict([('input_shape', [-1, 256, 14, 14]),\n",
       "                           ('output_shape', [-1, 256, 14, 14]),\n",
       "                           ('nb_params', 0)])),\n",
       "             ('Conv2d-79',\n",
       "              OrderedDict([('input_shape', [-1, 256, 14, 14]),\n",
       "                           ('output_shape', [-1, 256, 14, 14]),\n",
       "                           ('trainable', False),\n",
       "                           ('nb_params', tensor(5.8982e+05))])),\n",
       "             ('BatchNorm2d-80',\n",
       "              OrderedDict([('input_shape', [-1, 256, 14, 14]),\n",
       "                           ('output_shape', [-1, 256, 14, 14]),\n",
       "                           ('trainable', False),\n",
       "                           ('nb_params', tensor(512))])),\n",
       "             ('ReLU-81',\n",
       "              OrderedDict([('input_shape', [-1, 256, 14, 14]),\n",
       "                           ('output_shape', [-1, 256, 14, 14]),\n",
       "                           ('nb_params', 0)])),\n",
       "             ('Conv2d-82',\n",
       "              OrderedDict([('input_shape', [-1, 256, 14, 14]),\n",
       "                           ('output_shape', [-1, 256, 14, 14]),\n",
       "                           ('trainable', False),\n",
       "                           ('nb_params', tensor(5.8982e+05))])),\n",
       "             ('BatchNorm2d-83',\n",
       "              OrderedDict([('input_shape', [-1, 256, 14, 14]),\n",
       "                           ('output_shape', [-1, 256, 14, 14]),\n",
       "                           ('trainable', False),\n",
       "                           ('nb_params', tensor(512))])),\n",
       "             ('ReLU-84',\n",
       "              OrderedDict([('input_shape', [-1, 256, 14, 14]),\n",
       "                           ('output_shape', [-1, 256, 14, 14]),\n",
       "                           ('nb_params', 0)])),\n",
       "             ('BasicBlock-85',\n",
       "              OrderedDict([('input_shape', [-1, 256, 14, 14]),\n",
       "                           ('output_shape', [-1, 256, 14, 14]),\n",
       "                           ('nb_params', 0)])),\n",
       "             ('Conv2d-86',\n",
       "              OrderedDict([('input_shape', [-1, 256, 14, 14]),\n",
       "                           ('output_shape', [-1, 256, 14, 14]),\n",
       "                           ('trainable', False),\n",
       "                           ('nb_params', tensor(5.8982e+05))])),\n",
       "             ('BatchNorm2d-87',\n",
       "              OrderedDict([('input_shape', [-1, 256, 14, 14]),\n",
       "                           ('output_shape', [-1, 256, 14, 14]),\n",
       "                           ('trainable', False),\n",
       "                           ('nb_params', tensor(512))])),\n",
       "             ('ReLU-88',\n",
       "              OrderedDict([('input_shape', [-1, 256, 14, 14]),\n",
       "                           ('output_shape', [-1, 256, 14, 14]),\n",
       "                           ('nb_params', 0)])),\n",
       "             ('Conv2d-89',\n",
       "              OrderedDict([('input_shape', [-1, 256, 14, 14]),\n",
       "                           ('output_shape', [-1, 256, 14, 14]),\n",
       "                           ('trainable', False),\n",
       "                           ('nb_params', tensor(5.8982e+05))])),\n",
       "             ('BatchNorm2d-90',\n",
       "              OrderedDict([('input_shape', [-1, 256, 14, 14]),\n",
       "                           ('output_shape', [-1, 256, 14, 14]),\n",
       "                           ('trainable', False),\n",
       "                           ('nb_params', tensor(512))])),\n",
       "             ('ReLU-91',\n",
       "              OrderedDict([('input_shape', [-1, 256, 14, 14]),\n",
       "                           ('output_shape', [-1, 256, 14, 14]),\n",
       "                           ('nb_params', 0)])),\n",
       "             ('BasicBlock-92',\n",
       "              OrderedDict([('input_shape', [-1, 256, 14, 14]),\n",
       "                           ('output_shape', [-1, 256, 14, 14]),\n",
       "                           ('nb_params', 0)])),\n",
       "             ('Conv2d-93',\n",
       "              OrderedDict([('input_shape', [-1, 256, 14, 14]),\n",
       "                           ('output_shape', [-1, 256, 14, 14]),\n",
       "                           ('trainable', False),\n",
       "                           ('nb_params', tensor(5.8982e+05))])),\n",
       "             ('BatchNorm2d-94',\n",
       "              OrderedDict([('input_shape', [-1, 256, 14, 14]),\n",
       "                           ('output_shape', [-1, 256, 14, 14]),\n",
       "                           ('trainable', False),\n",
       "                           ('nb_params', tensor(512))])),\n",
       "             ('ReLU-95',\n",
       "              OrderedDict([('input_shape', [-1, 256, 14, 14]),\n",
       "                           ('output_shape', [-1, 256, 14, 14]),\n",
       "                           ('nb_params', 0)])),\n",
       "             ('Conv2d-96',\n",
       "              OrderedDict([('input_shape', [-1, 256, 14, 14]),\n",
       "                           ('output_shape', [-1, 256, 14, 14]),\n",
       "                           ('trainable', False),\n",
       "                           ('nb_params', tensor(5.8982e+05))])),\n",
       "             ('BatchNorm2d-97',\n",
       "              OrderedDict([('input_shape', [-1, 256, 14, 14]),\n",
       "                           ('output_shape', [-1, 256, 14, 14]),\n",
       "                           ('trainable', False),\n",
       "                           ('nb_params', tensor(512))])),\n",
       "             ('ReLU-98',\n",
       "              OrderedDict([('input_shape', [-1, 256, 14, 14]),\n",
       "                           ('output_shape', [-1, 256, 14, 14]),\n",
       "                           ('nb_params', 0)])),\n",
       "             ('BasicBlock-99',\n",
       "              OrderedDict([('input_shape', [-1, 256, 14, 14]),\n",
       "                           ('output_shape', [-1, 256, 14, 14]),\n",
       "                           ('nb_params', 0)])),\n",
       "             ('Conv2d-100',\n",
       "              OrderedDict([('input_shape', [-1, 256, 14, 14]),\n",
       "                           ('output_shape', [-1, 512, 7, 7]),\n",
       "                           ('trainable', False),\n",
       "                           ('nb_params', tensor(1.1796e+06))])),\n",
       "             ('BatchNorm2d-101',\n",
       "              OrderedDict([('input_shape', [-1, 512, 7, 7]),\n",
       "                           ('output_shape', [-1, 512, 7, 7]),\n",
       "                           ('trainable', False),\n",
       "                           ('nb_params', tensor(1024))])),\n",
       "             ('ReLU-102',\n",
       "              OrderedDict([('input_shape', [-1, 512, 7, 7]),\n",
       "                           ('output_shape', [-1, 512, 7, 7]),\n",
       "                           ('nb_params', 0)])),\n",
       "             ('Conv2d-103',\n",
       "              OrderedDict([('input_shape', [-1, 512, 7, 7]),\n",
       "                           ('output_shape', [-1, 512, 7, 7]),\n",
       "                           ('trainable', False),\n",
       "                           ('nb_params', tensor(2.3593e+06))])),\n",
       "             ('BatchNorm2d-104',\n",
       "              OrderedDict([('input_shape', [-1, 512, 7, 7]),\n",
       "                           ('output_shape', [-1, 512, 7, 7]),\n",
       "                           ('trainable', False),\n",
       "                           ('nb_params', tensor(1024))])),\n",
       "             ('Conv2d-105',\n",
       "              OrderedDict([('input_shape', [-1, 256, 14, 14]),\n",
       "                           ('output_shape', [-1, 512, 7, 7]),\n",
       "                           ('trainable', False),\n",
       "                           ('nb_params', tensor(1.3107e+05))])),\n",
       "             ('BatchNorm2d-106',\n",
       "              OrderedDict([('input_shape', [-1, 512, 7, 7]),\n",
       "                           ('output_shape', [-1, 512, 7, 7]),\n",
       "                           ('trainable', False),\n",
       "                           ('nb_params', tensor(1024))])),\n",
       "             ('ReLU-107',\n",
       "              OrderedDict([('input_shape', [-1, 512, 7, 7]),\n",
       "                           ('output_shape', [-1, 512, 7, 7]),\n",
       "                           ('nb_params', 0)])),\n",
       "             ('BasicBlock-108',\n",
       "              OrderedDict([('input_shape', [-1, 256, 14, 14]),\n",
       "                           ('output_shape', [-1, 512, 7, 7]),\n",
       "                           ('nb_params', 0)])),\n",
       "             ('Conv2d-109',\n",
       "              OrderedDict([('input_shape', [-1, 512, 7, 7]),\n",
       "                           ('output_shape', [-1, 512, 7, 7]),\n",
       "                           ('trainable', False),\n",
       "                           ('nb_params', tensor(2.3593e+06))])),\n",
       "             ('BatchNorm2d-110',\n",
       "              OrderedDict([('input_shape', [-1, 512, 7, 7]),\n",
       "                           ('output_shape', [-1, 512, 7, 7]),\n",
       "                           ('trainable', False),\n",
       "                           ('nb_params', tensor(1024))])),\n",
       "             ('ReLU-111',\n",
       "              OrderedDict([('input_shape', [-1, 512, 7, 7]),\n",
       "                           ('output_shape', [-1, 512, 7, 7]),\n",
       "                           ('nb_params', 0)])),\n",
       "             ('Conv2d-112',\n",
       "              OrderedDict([('input_shape', [-1, 512, 7, 7]),\n",
       "                           ('output_shape', [-1, 512, 7, 7]),\n",
       "                           ('trainable', False),\n",
       "                           ('nb_params', tensor(2.3593e+06))])),\n",
       "             ('BatchNorm2d-113',\n",
       "              OrderedDict([('input_shape', [-1, 512, 7, 7]),\n",
       "                           ('output_shape', [-1, 512, 7, 7]),\n",
       "                           ('trainable', False),\n",
       "                           ('nb_params', tensor(1024))])),\n",
       "             ('ReLU-114',\n",
       "              OrderedDict([('input_shape', [-1, 512, 7, 7]),\n",
       "                           ('output_shape', [-1, 512, 7, 7]),\n",
       "                           ('nb_params', 0)])),\n",
       "             ('BasicBlock-115',\n",
       "              OrderedDict([('input_shape', [-1, 512, 7, 7]),\n",
       "                           ('output_shape', [-1, 512, 7, 7]),\n",
       "                           ('nb_params', 0)])),\n",
       "             ('Conv2d-116',\n",
       "              OrderedDict([('input_shape', [-1, 512, 7, 7]),\n",
       "                           ('output_shape', [-1, 512, 7, 7]),\n",
       "                           ('trainable', False),\n",
       "                           ('nb_params', tensor(2.3593e+06))])),\n",
       "             ('BatchNorm2d-117',\n",
       "              OrderedDict([('input_shape', [-1, 512, 7, 7]),\n",
       "                           ('output_shape', [-1, 512, 7, 7]),\n",
       "                           ('trainable', False),\n",
       "                           ('nb_params', tensor(1024))])),\n",
       "             ('ReLU-118',\n",
       "              OrderedDict([('input_shape', [-1, 512, 7, 7]),\n",
       "                           ('output_shape', [-1, 512, 7, 7]),\n",
       "                           ('nb_params', 0)])),\n",
       "             ('Conv2d-119',\n",
       "              OrderedDict([('input_shape', [-1, 512, 7, 7]),\n",
       "                           ('output_shape', [-1, 512, 7, 7]),\n",
       "                           ('trainable', False),\n",
       "                           ('nb_params', tensor(2.3593e+06))])),\n",
       "             ('BatchNorm2d-120',\n",
       "              OrderedDict([('input_shape', [-1, 512, 7, 7]),\n",
       "                           ('output_shape', [-1, 512, 7, 7]),\n",
       "                           ('trainable', False),\n",
       "                           ('nb_params', tensor(1024))])),\n",
       "             ('ReLU-121',\n",
       "              OrderedDict([('input_shape', [-1, 512, 7, 7]),\n",
       "                           ('output_shape', [-1, 512, 7, 7]),\n",
       "                           ('nb_params', 0)])),\n",
       "             ('BasicBlock-122',\n",
       "              OrderedDict([('input_shape', [-1, 512, 7, 7]),\n",
       "                           ('output_shape', [-1, 512, 7, 7]),\n",
       "                           ('nb_params', 0)])),\n",
       "             ('Flatten-123',\n",
       "              OrderedDict([('input_shape', [-1, 512, 7, 7]),\n",
       "                           ('output_shape', [-1, 25088]),\n",
       "                           ('nb_params', 0)])),\n",
       "             ('ReLU-124',\n",
       "              OrderedDict([('input_shape', [-1, 25088]),\n",
       "                           ('output_shape', [-1, 25088]),\n",
       "                           ('nb_params', 0)])),\n",
       "             ('Dropout-125',\n",
       "              OrderedDict([('input_shape', [-1, 25088]),\n",
       "                           ('output_shape', [-1, 25088]),\n",
       "                           ('nb_params', 0)])),\n",
       "             ('Linear-126',\n",
       "              OrderedDict([('input_shape', [-1, 25088]),\n",
       "                           ('output_shape', [-1, 256]),\n",
       "                           ('trainable', True),\n",
       "                           ('nb_params', tensor(6.4228e+06))])),\n",
       "             ('ReLU-127',\n",
       "              OrderedDict([('input_shape', [-1, 256]),\n",
       "                           ('output_shape', [-1, 256]),\n",
       "                           ('nb_params', 0)])),\n",
       "             ('BatchNorm1d-128',\n",
       "              OrderedDict([('input_shape', [-1, 256]),\n",
       "                           ('output_shape', [-1, 256]),\n",
       "                           ('trainable', True),\n",
       "                           ('nb_params', tensor(512))])),\n",
       "             ('Dropout-129',\n",
       "              OrderedDict([('input_shape', [-1, 256]),\n",
       "                           ('output_shape', [-1, 256]),\n",
       "                           ('nb_params', 0)])),\n",
       "             ('Linear-130',\n",
       "              OrderedDict([('input_shape', [-1, 256]),\n",
       "                           ('output_shape', [-1, 6]),\n",
       "                           ('trainable', True),\n",
       "                           ('nb_params', tensor(1542))]))])"
      ]
     },
     "execution_count": 21,
     "metadata": {},
     "output_type": "execute_result"
    }
   ],
   "source": [
    "learn.summary()"
   ]
  },
  {
   "cell_type": "code",
   "execution_count": 22,
   "metadata": {},
   "outputs": [],
   "source": [
    "def detn_loss(input, target):\n",
    "    bb_t, c_t = target\n",
    "    bb_i, c_i = input[:, :4], input[:,4:]\n",
    "    bb_i = F.sigmoid(bb_i)*224\n",
    "    return F.l1_loss(bb_i, bb_t) + F.cross_entropy(c_i, c_t)*20\n",
    "\n",
    "def detn_l1(input, target):\n",
    "    bb_t, _ = target\n",
    "    bb_i = input[:,:4]\n",
    "    bb_i = F.sigmoid(bb_i)*224\n",
    "    return F.l1_loss(V(bb_i), V(bb_t)).data\n",
    "\n",
    "def detn_acc(input, target):\n",
    "    _, c_t = target\n",
    "    c_i = input[:, 4:]\n",
    "    return accuracy(c_i, c_t)\n"
   ]
  },
  {
   "cell_type": "code",
   "execution_count": 23,
   "metadata": {},
   "outputs": [],
   "source": [
    "learn.crit = detn_loss\n",
    "learn.metrics = [detn_acc, detn_l1]"
   ]
  },
  {
   "cell_type": "code",
   "execution_count": 29,
   "metadata": {},
   "outputs": [
    {
     "data": {
      "application/vnd.jupyter.widget-view+json": {
       "model_id": "0d971c583ad7428383dac11300869e9c",
       "version_major": 2,
       "version_minor": 0
      },
      "text/html": [
       "<p>Failed to display Jupyter Widget of type <code>HBox</code>.</p>\n",
       "<p>\n",
       "  If you're reading this message in the Jupyter Notebook or JupyterLab Notebook, it may mean\n",
       "  that the widgets JavaScript is still loading. If this message persists, it\n",
       "  likely means that the widgets JavaScript library is either not installed or\n",
       "  not enabled. See the <a href=\"https://ipywidgets.readthedocs.io/en/stable/user_install.html\">Jupyter\n",
       "  Widgets Documentation</a> for setup instructions.\n",
       "</p>\n",
       "<p>\n",
       "  If you're reading this message in another frontend (for example, a static\n",
       "  rendering on GitHub or <a href=\"https://nbviewer.jupyter.org/\">NBViewer</a>),\n",
       "  it may mean that your frontend doesn't currently support widgets.\n",
       "</p>\n"
      ],
      "text/plain": [
       "HBox(children=(IntProgress(value=0, description='Epoch', max=1), HTML(value='')))"
      ]
     },
     "metadata": {},
     "output_type": "display_data"
    },
    {
     "name": "stdout",
     "output_type": "stream",
     "text": [
      "epoch      trn_loss   val_loss   detn_acc   detn_l1       \n",
      "    0      518.123576 2671550.515 0.745      34.199156 \n",
      "\n"
     ]
    }
   ],
   "source": [
    "learn.lr_find(1e-5, 100)"
   ]
  },
  {
   "cell_type": "code",
   "execution_count": 32,
   "metadata": {
    "scrolled": true
   },
   "outputs": [
    {
     "data": {
      "image/png": "[encoded data removed]",
      "text/plain": [
       "<matplotlib.figure.Figure at 0x7f5f82e164e0>"
      ]
     },
     "metadata": {},
     "output_type": "display_data"
    }
   ],
   "source": [
    "learn.sched.plot(n_skip=5, n_skip_end=1)"
   ]
  },
  {
   "cell_type": "code",
   "execution_count": 33,
   "metadata": {},
   "outputs": [],
   "source": [
    "lr = 1e-3"
   ]
  },
  {
   "cell_type": "code",
   "execution_count": 34,
   "metadata": {},
   "outputs": [
    {
     "data": {
      "application/vnd.jupyter.widget-view+json": {
       "model_id": "99d02b037017401da4b0abd260e3b293",
       "version_major": 2,
       "version_minor": 0
      },
      "text/html": [
       "<p>Failed to display Jupyter Widget of type <code>HBox</code>.</p>\n",
       "<p>\n",
       "  If you're reading this message in the Jupyter Notebook or JupyterLab Notebook, it may mean\n",
       "  that the widgets JavaScript is still loading. If this message persists, it\n",
       "  likely means that the widgets JavaScript library is either not installed or\n",
       "  not enabled. See the <a href=\"https://ipywidgets.readthedocs.io/en/stable/user_install.html\">Jupyter\n",
       "  Widgets Documentation</a> for setup instructions.\n",
       "</p>\n",
       "<p>\n",
       "  If you're reading this message in another frontend (for example, a static\n",
       "  rendering on GitHub or <a href=\"https://nbviewer.jupyter.org/\">NBViewer</a>),\n",
       "  it may mean that your frontend doesn't currently support widgets.\n",
       "</p>\n"
      ],
      "text/plain": [
       "HBox(children=(IntProgress(value=0, description='Epoch', max=2), HTML(value='')))"
      ]
     },
     "metadata": {},
     "output_type": "display_data"
    },
    {
     "name": "stdout",
     "output_type": "stream",
     "text": [
      "epoch      trn_loss   val_loss   detn_acc   detn_l1       \n",
      "    0      9.363389   43.756831  0.835      23.342926 \n",
      "    1      8.810141   44.419806  0.835      23.38908      \n",
      "\n"
     ]
    },
    {
     "data": {
      "text/plain": [
       "[44.419805755615236, 0.83499999999999996, 23.389080123901365]"
      ]
     },
     "execution_count": 34,
     "metadata": {},
     "output_type": "execute_result"
    }
   ],
   "source": [
    "learn.fit(lr, 2)"
   ]
  },
  {
   "cell_type": "code",
   "execution_count": 35,
   "metadata": {},
   "outputs": [
    {
     "data": {
      "application/vnd.jupyter.widget-view+json": {
       "model_id": "b55df8f9624d4156ac94ec8084b752d9",
       "version_major": 2,
       "version_minor": 0
      },
      "text/html": [
       "<p>Failed to display Jupyter Widget of type <code>HBox</code>.</p>\n",
       "<p>\n",
       "  If you're reading this message in the Jupyter Notebook or JupyterLab Notebook, it may mean\n",
       "  that the widgets JavaScript is still loading. If this message persists, it\n",
       "  likely means that the widgets JavaScript library is either not installed or\n",
       "  not enabled. See the <a href=\"https://ipywidgets.readthedocs.io/en/stable/user_install.html\">Jupyter\n",
       "  Widgets Documentation</a> for setup instructions.\n",
       "</p>\n",
       "<p>\n",
       "  If you're reading this message in another frontend (for example, a static\n",
       "  rendering on GitHub or <a href=\"https://nbviewer.jupyter.org/\">NBViewer</a>),\n",
       "  it may mean that your frontend doesn't currently support widgets.\n",
       "</p>\n"
      ],
      "text/plain": [
       "HBox(children=(IntProgress(value=0, description='Epoch', max=3), HTML(value='')))"
      ]
     },
     "metadata": {},
     "output_type": "display_data"
    },
    {
     "name": "stdout",
     "output_type": "stream",
     "text": [
      "epoch      trn_loss   val_loss   detn_acc   detn_l1       \n",
      "    0      11.499556  46.720298  0.835      24.295948 \n",
      "    1      9.863822   44.505647  0.835      23.307762     \n",
      "    2      9.207434   44.56497   0.835      23.278354     \n",
      "\n"
     ]
    },
    {
     "data": {
      "text/plain": [
       "[44.564969863891605, 0.83499999999999996, 23.2783544921875]"
      ]
     },
     "execution_count": 35,
     "metadata": {},
     "output_type": "execute_result"
    }
   ],
   "source": [
    "learn.fit(lr, 1, cycle_len=3, use_clr=(32,5))"
   ]
  },
  {
   "cell_type": "code",
   "execution_count": 181,
   "metadata": {},
   "outputs": [],
   "source": [
    "learn.save('../tmp/rsna_5.pth')"
   ]
  },
  {
   "cell_type": "code",
   "execution_count": 182,
   "metadata": {},
   "outputs": [],
   "source": [
    "learn.freeze_to(-2)"
   ]
  },
  {
   "cell_type": "code",
   "execution_count": 183,
   "metadata": {},
   "outputs": [],
   "source": [
    "lrs = np.array([lr/100, lr/10, lr])"
   ]
  },
  {
   "cell_type": "code",
   "execution_count": 184,
   "metadata": {},
   "outputs": [
    {
     "data": {
      "application/vnd.jupyter.widget-view+json": {
       "model_id": "6ef8de638000458385385334732e6986",
       "version_major": 2,
       "version_minor": 0
      },
      "text/html": [
       "<p>Failed to display Jupyter Widget of type <code>HBox</code>.</p>\n",
       "<p>\n",
       "  If you're reading this message in the Jupyter Notebook or JupyterLab Notebook, it may mean\n",
       "  that the widgets JavaScript is still loading. If this message persists, it\n",
       "  likely means that the widgets JavaScript library is either not installed or\n",
       "  not enabled. See the <a href=\"https://ipywidgets.readthedocs.io/en/stable/user_install.html\">Jupyter\n",
       "  Widgets Documentation</a> for setup instructions.\n",
       "</p>\n",
       "<p>\n",
       "  If you're reading this message in another frontend (for example, a static\n",
       "  rendering on GitHub or <a href=\"https://nbviewer.jupyter.org/\">NBViewer</a>),\n",
       "  it may mean that your frontend doesn't currently support widgets.\n",
       "</p>\n"
      ],
      "text/plain": [
       "HBox(children=(IntProgress(value=0, description='Epoch', max=1), HTML(value='')))"
      ]
     },
     "metadata": {},
     "output_type": "display_data"
    },
    {
     "name": "stdout",
     "output_type": "stream",
     "text": [
      "epoch      trn_loss   val_loss   detn_acc   detn_l1       \n",
      "    0      100.989753 6.08691148545e+22 0.745      29.11625  \n",
      "\n"
     ]
    }
   ],
   "source": [
    "learn.lr_find(lrs/1000)"
   ]
  },
  {
   "cell_type": "code",
   "execution_count": 185,
   "metadata": {},
   "outputs": [
    {
     "data": {
      "image/png": "[encoded data removed]",
      "text/plain": [
       "<matplotlib.figure.Figure at 0x7f1451cb2780>"
      ]
     },
     "metadata": {},
     "output_type": "display_data"
    }
   ],
   "source": [
    "learn.sched.plot(0)"
   ]
  },
  {
   "cell_type": "code",
   "execution_count": 186,
   "metadata": {},
   "outputs": [
    {
     "data": {
      "application/vnd.jupyter.widget-view+json": {
       "model_id": "d805aea8ad3a4c18831012be0dd1afad",
       "version_major": 2,
       "version_minor": 0
      },
      "text/html": [
       "<p>Failed to display Jupyter Widget of type <code>HBox</code>.</p>\n",
       "<p>\n",
       "  If you're reading this message in the Jupyter Notebook or JupyterLab Notebook, it may mean\n",
       "  that the widgets JavaScript is still loading. If this message persists, it\n",
       "  likely means that the widgets JavaScript library is either not installed or\n",
       "  not enabled. See the <a href=\"https://ipywidgets.readthedocs.io/en/stable/user_install.html\">Jupyter\n",
       "  Widgets Documentation</a> for setup instructions.\n",
       "</p>\n",
       "<p>\n",
       "  If you're reading this message in another frontend (for example, a static\n",
       "  rendering on GitHub or <a href=\"https://nbviewer.jupyter.org/\">NBViewer</a>),\n",
       "  it may mean that your frontend doesn't currently support widgets.\n",
       "</p>\n"
      ],
      "text/plain": [
       "HBox(children=(IntProgress(value=0, description='Epoch', max=5), HTML(value='')))"
      ]
     },
     "metadata": {},
     "output_type": "display_data"
    },
    {
     "name": "stdout",
     "output_type": "stream",
     "text": [
      "epoch      trn_loss   val_loss   detn_acc   detn_l1       \n",
      "    0      15.021125  61.093571  0.765      30.205763 \n",
      "    1      20.396989  61.236611  0.74       28.797272     \n",
      "    2      18.383412  50.94416   0.825      23.407654     \n",
      "    3      16.601992  42.118989  0.82       23.893709     \n",
      "    4      14.608539  40.961492  0.815      24.053549     \n",
      "\n"
     ]
    },
    {
     "data": {
      "text/plain": [
       "[40.961491928100585, 0.81499999999999995, 24.053549194335936]"
      ]
     },
     "execution_count": 186,
     "metadata": {},
     "output_type": "execute_result"
    }
   ],
   "source": [
    "learn.fit(lrs/5, 1, cycle_len=5, use_clr=(32,10))"
   ]
  },
  {
   "cell_type": "code",
   "execution_count": 187,
   "metadata": {},
   "outputs": [],
   "source": [
    "learn.save('../tmp/rsna_5.pth')"
   ]
  },
  {
   "cell_type": "code",
   "execution_count": 188,
   "metadata": {},
   "outputs": [],
   "source": [
    "learn.unfreeze()"
   ]
  },
  {
   "cell_type": "code",
   "execution_count": 189,
   "metadata": {},
   "outputs": [
    {
     "data": {
      "application/vnd.jupyter.widget-view+json": {
       "model_id": "9eaf44abb21a4ada8d67023fb40cf1d0",
       "version_major": 2,
       "version_minor": 0
      },
      "text/html": [
       "<p>Failed to display Jupyter Widget of type <code>HBox</code>.</p>\n",
       "<p>\n",
       "  If you're reading this message in the Jupyter Notebook or JupyterLab Notebook, it may mean\n",
       "  that the widgets JavaScript is still loading. If this message persists, it\n",
       "  likely means that the widgets JavaScript library is either not installed or\n",
       "  not enabled. See the <a href=\"https://ipywidgets.readthedocs.io/en/stable/user_install.html\">Jupyter\n",
       "  Widgets Documentation</a> for setup instructions.\n",
       "</p>\n",
       "<p>\n",
       "  If you're reading this message in another frontend (for example, a static\n",
       "  rendering on GitHub or <a href=\"https://nbviewer.jupyter.org/\">NBViewer</a>),\n",
       "  it may mean that your frontend doesn't currently support widgets.\n",
       "</p>\n"
      ],
      "text/plain": [
       "HBox(children=(IntProgress(value=0, description='Epoch', max=10), HTML(value='')))"
      ]
     },
     "metadata": {},
     "output_type": "display_data"
    },
    {
     "name": "stdout",
     "output_type": "stream",
     "text": [
      "epoch      trn_loss   val_loss   detn_acc   detn_l1       \n",
      "    0      14.943598  48.281407  0.78       26.460513 \n",
      "    1      14.503122  50.437133  0.79       28.769412     \n",
      "    2      14.386667  43.937407  0.8        23.919224     \n",
      "    3      13.375852  45.683578  0.795      24.935836     \n",
      "    4      12.609202  44.714429  0.84       23.56125      \n",
      "    5      11.686097  44.256889  0.845      23.283142     \n",
      "    6      11.208489  43.70459   0.835      23.661895     \n",
      "    7      10.790642  43.123127  0.83       23.201296     \n",
      "    8      10.197489  42.816747  0.835      23.337748     \n",
      "    9      9.911062   42.622013  0.83       23.069789     \n",
      "\n"
     ]
    },
    {
     "data": {
      "text/plain": [
       "[42.622013397216797, 0.82999999999999996, 23.069788818359374]"
      ]
     },
     "execution_count": 189,
     "metadata": {},
     "output_type": "execute_result"
    }
   ],
   "source": [
    "learn.fit(lrs/10, 1, cycle_len=10, use_clr=(32,10))"
   ]
  },
  {
   "cell_type": "code",
   "execution_count": 191,
   "metadata": {},
   "outputs": [],
   "source": []
  },
  {
   "cell_type": "code",
   "execution_count": 192,
   "metadata": {},
   "outputs": [
    {
     "data": {
      "text/plain": [
       "array([ 0.,  0.,  0.,  0.], dtype=float32)"
      ]
     },
     "execution_count": 192,
     "metadata": {},
     "output_type": "execute_result"
    }
   ],
   "source": [
    "expit(y_preds[5][:4] * 224)"
   ]
  },
  {
   "cell_type": "code",
   "execution_count": 193,
   "metadata": {},
   "outputs": [
    {
     "data": {
      "text/plain": [
       "1"
      ]
     },
     "execution_count": 193,
     "metadata": {},
     "output_type": "execute_result"
    }
   ],
   "source": [
    "c = np.argmax(y_preds[1][4:]); c"
   ]
  },
  {
   "cell_type": "code",
   "execution_count": 25,
   "metadata": {},
   "outputs": [],
   "source": [
    "def bb_hw(bb):\n",
    "    x = bb[0]\n",
    "    y = bb[1]\n",
    "    w = bb[2] - bb[0]\n",
    "    h = bb[3] - bb[1]\n",
    "    return np.array([x, y, w, h])"
   ]
  },
  {
   "cell_type": "code",
   "execution_count": 201,
   "metadata": {},
   "outputs": [],
   "source": [
    "x, y, w, h = bb_hw(expit(y_preds[8][:4] * 224))\n",
    "c = np.argmax(y_preds[1][4:])"
   ]
  },
  {
   "cell_type": "code",
   "execution_count": 26,
   "metadata": {},
   "outputs": [],
   "source": [
    "def show_img(im, figsize=None, ax=None):\n",
    "    if not ax: fig, ax = plt.subplots(figsize=figsize)\n",
    "    ax.imshow(im)\n",
    "    ax.get_xaxis().set_visible(False)\n",
    "    ax.get_yaxis().set_visible(False)\n",
    "    return ax"
   ]
  },
  {
   "cell_type": "code",
   "execution_count": 27,
   "metadata": {},
   "outputs": [],
   "source": [
    "def draw_rect(ax, bb, color='red'):\n",
    "    x, y, width, height = bb\n",
    "    rect = Rectangle((x,y), width, height, linewidth=1, edgecolor=color, facecolor='none')\n",
    "    ax.add_patch(rect)"
   ]
  },
  {
   "cell_type": "code",
   "execution_count": 28,
   "metadata": {},
   "outputs": [],
   "source": [
    "def draw_outline(o, lw):\n",
    "    o.set_path_effects([patheffects.Stroke(\n",
    "        linewidth=lw, foreground='black'), patheffects.Normal()])"
   ]
  },
  {
   "cell_type": "code",
   "execution_count": 45,
   "metadata": {},
   "outputs": [],
   "source": [
    "def draw_text(ax, xy, txt, sz=14):\n",
    "    text = ax.text(*xy, txt,\n",
    "        verticalalignment='top', color='white', fontsize=sz, weight='bold')\n",
    "    draw_outline(text, 1)"
   ]
  },
  {
   "cell_type": "code",
   "execution_count": 225,
   "metadata": {},
   "outputs": [],
   "source": [
    "learn.save('../tmp/rsna_5.pth')"
   ]
  },
  {
   "cell_type": "code",
   "execution_count": 24,
   "metadata": {},
   "outputs": [],
   "source": [
    "learn.load('../tmp/rsna_5.pth')"
   ]
  },
  {
   "cell_type": "code",
   "execution_count": 245,
   "metadata": {},
   "outputs": [
    {
     "data": {
      "text/plain": [
       "297"
      ]
     },
     "execution_count": 245,
     "metadata": {},
     "output_type": "execute_result"
    }
   ],
   "source": [
    "len(sample_csv[sample_csv['Target'] == 1])"
   ]
  },
  {
   "cell_type": "code",
   "execution_count": 246,
   "metadata": {},
   "outputs": [],
   "source": [
    "test_preds = learn.predict(is_test=True)"
   ]
  },
  {
   "cell_type": "code",
   "execution_count": 40,
   "metadata": {},
   "outputs": [
    {
     "data": {
      "text/plain": [
       "(tensor([[   0.,    0.,    0.,    0.],\n",
       "         [   0.,    0.,    0.,    0.],\n",
       "         [   0.,    0.,    0.,    0.],\n",
       "         [   0.,    0.,    0.,    0.],\n",
       "         [   0.,    0.,    0.,    0.],\n",
       "         [ 123.,   42.,  173.,  136.],\n",
       "         [   0.,    0.,    0.,    0.],\n",
       "         [   0.,    0.,    0.,    0.],\n",
       "         [   0.,    0.,    0.,    0.],\n",
       "         [   0.,    0.,    0.,    0.]], device='cuda:0'),\n",
       " tensor([ 0,  0,  0,  0,  0,  1,  0,  0,  0,  0], device='cuda:0'),\n",
       " array([[-6.23117, -5.79909, -6.25411, -5.94615,  7.73125, -7.35685],\n",
       "        [-0.78958, -1.33467,  0.19146,  0.19876, -4.04443,  3.99048],\n",
       "        [-1.64621, -2.16576, -1.03807, -0.99888, -1.34052,  1.455  ],\n",
       "        [-0.2212 , -1.31797,  1.01631,  0.74602, -6.18188,  6.08469],\n",
       "        [-4.84192, -4.25923, -4.79209, -4.35016,  4.49803, -4.2557 ],\n",
       "        [-1.54637, -2.03779, -0.79729, -0.89975, -2.11749,  2.10889],\n",
       "        [-7.06027, -6.51827, -7.32118, -6.77818,  9.09482, -8.58225],\n",
       "        [-6.75532, -6.33218, -6.81693, -6.73257,  9.43649, -9.03539],\n",
       "        [-7.21592, -6.48373, -7.2653 , -6.64983,  9.07507, -8.60242],\n",
       "        [-7.12784, -6.63139, -7.18437, -6.99178,  9.66807, -9.16085]], dtype=float32))"
      ]
     },
     "execution_count": 40,
     "metadata": {},
     "output_type": "execute_result"
    }
   ],
   "source": [
    "x, y = next(iter(md.val_dl))\n",
    "y_preds = to_np(predict_batch(learn.model, x));y[0][:10], y[1][:10], y_preds[:10]"
   ]
  },
  {
   "cell_type": "code",
   "execution_count": 43,
   "metadata": {},
   "outputs": [
    {
     "data": {
      "text/plain": [
       "<matplotlib.axes._subplots.AxesSubplot at 0x7f5f82cbb518>"
      ]
     },
     "execution_count": 43,
     "metadata": {},
     "output_type": "execute_result"
    },
    {
     "data": {
      "image/png": "[encoded data removed]",
      "text/plain": [
       "<matplotlib.figure.Figure at 0x7f5f826155c0>"
      ]
     },
     "metadata": {},
     "output_type": "display_data"
    }
   ],
   "source": [
    "show_img(ima)"
   ]
  },
  {
   "cell_type": "code",
   "execution_count": 47,
   "metadata": {},
   "outputs": [
    {
     "data": {
      "image/png": "[encoded data removed]",
      "text/plain": [
       "<matplotlib.figure.Figure at 0x7f5f805118d0>"
      ]
     },
     "metadata": {},
     "output_type": "display_data"
    }
   ],
   "source": [
    "fig, axes = plt.subplots(3, 4, figsize=(12,8))\n",
    "for i, ax in enumerate(axes.flat):\n",
    "    ima = md.trn_ds.ds.denorm(to_np(x))[i]\n",
    "    bb = bb_hw(expit(y_preds[i][:4])*224)\n",
    "    y_bb = bb_hw(y[0][i])\n",
    "    c = np.argmax(y_preds[i][4:])\n",
    "    ax = show_img(ima, ax=ax)\n",
    "    draw_rect(ax, bb)\n",
    "    draw_rect(ax, y_bb, 'yellow')\n",
    "    draw_text(ax, (0,0), c)"
   ]
  },
  {
   "cell_type": "code",
   "execution_count": 247,
   "metadata": {},
   "outputs": [
    {
     "data": {
      "text/plain": [
       "1000"
      ]
     },
     "execution_count": 247,
     "metadata": {},
     "output_type": "execute_result"
    }
   ],
   "source": [
    "len(test_preds)"
   ]
  },
  {
   "cell_type": "code",
   "execution_count": 250,
   "metadata": {},
   "outputs": [
    {
     "data": {
      "text/plain": [
       "array([[ -0.64398,  -1.11363,   0.3248 ,   0.26526,  -3.79437,   3.82414],\n",
       "       [ -6.99281,  -6.5414 ,  -7.11564,  -6.66515,   8.12737,  -7.72688],\n",
       "       [ -8.66899,  -7.99387,  -8.96523,  -8.51066,  11.18702, -10.65794],\n",
       "       [ -8.01051,  -7.29575,  -8.36727,  -7.82811,  10.34445,  -9.78548],\n",
       "       [ -8.87214,  -7.47252,  -9.41979,  -8.48165,  11.5375 , -11.00835],\n",
       "       [ -6.54331,  -6.14677,  -6.52769,  -6.10066,   7.02171,  -6.60799],\n",
       "       [ -5.19805,  -4.99754,  -5.04696,  -4.93681,   5.46337,  -5.20778],\n",
       "       [ -6.41064,  -6.22525,  -6.52754,  -6.279  ,   7.2741 ,  -6.91782],\n",
       "       [ -7.14376,  -6.18991,  -7.44049,  -7.23628,   9.04105,  -8.67582],\n",
       "       [ -1.50291,  -1.84751,  -0.81591,  -0.87503,  -1.17279,   1.2205 ]], dtype=float32)"
      ]
     },
     "execution_count": 250,
     "metadata": {},
     "output_type": "execute_result"
    }
   ],
   "source": [
    "test_preds[:10]"
   ]
  },
  {
   "cell_type": "code",
   "execution_count": 254,
   "metadata": {},
   "outputs": [],
   "source": [
    "results = list(zip(md.test_ds.fnames, test_preds))"
   ]
  },
  {
   "cell_type": "code",
   "execution_count": 321,
   "metadata": {},
   "outputs": [
    {
     "data": {
      "text/plain": [
       "[array([ 352.61224,  253.12715,  241.81335,  326.38477], dtype=float32),\n",
       " array([ 0.93964,  1.47495, -0.10851, -0.17146], dtype=float32),\n",
       " array([ 0.17593,  0.34551, -0.0451 , -0.13941], dtype=float32),\n",
       " array([ 0.33981,  0.69423, -0.10194, -0.28645], dtype=float32),\n",
       " array([ 0.14359,  0.58181, -0.06055, -0.36964], dtype=float32),\n",
       " array([ 1.47216,  2.18708,  0.02314,  0.10297], dtype=float32),\n",
       " array([ 5.62886,  6.87022,  0.91223,  0.42714], dtype=float32),\n",
       " array([ 1.68066,  2.02232, -0.18515, -0.10563], dtype=float32),\n",
       " array([ 0.80809,  2.09492, -0.20736, -1.35818], dtype=float32),\n",
       " array([ 186.35954,  139.43291,  127.63213,  161.83714], dtype=float32)]"
      ]
     },
     "execution_count": 321,
     "metadata": {},
     "output_type": "execute_result"
    }
   ],
   "source": [
    "bbox[:10]"
   ]
  },
  {
   "cell_type": "code",
   "execution_count": 322,
   "metadata": {},
   "outputs": [],
   "source": [
    "test_names = list(map(lambda x: x.split('/')[1].split('.dcm')[0], md.test_ds.fnames))\n",
    "bbox = list(map( lambda x: bb_hw(expit(x[:4]) * 1024), test_preds))\n",
    "c_s = list(map(lambda x: np.argmax(x[4:]), test_preds))"
   ]
  },
  {
   "cell_type": "code",
   "execution_count": 323,
   "metadata": {},
   "outputs": [],
   "source": [
    "def prediction_string(row):\n",
    "    if row['target'] == 1:\n",
    "        x, y, width, height = row[\"bbox\"]\n",
    "        return f\"1.0 {x} {y} {width} {height}\"\n",
    "    else:\n",
    "        return \"\""
   ]
  },
  {
   "cell_type": "code",
   "execution_count": 324,
   "metadata": {},
   "outputs": [],
   "source": [
    "df_test = pd.DataFrame(list(zip(test_names, bbox, c_s)), columns=['patientId', 'bbox', 'target'])"
   ]
  },
  {
   "cell_type": "code",
   "execution_count": 325,
   "metadata": {},
   "outputs": [],
   "source": [
    "df_test['PredictionString'] = df_test.apply(prediction_string, axis=1)"
   ]
  },
  {
   "cell_type": "code",
   "execution_count": 326,
   "metadata": {},
   "outputs": [
    {
     "data": {
      "text/html": [
       "<a href='../tmp/test_results.csv' target='_blank'>../tmp/test_results.csv</a><br>"
      ],
      "text/plain": [
       "/home/edwin/Developer/kaggle-comps/tmp/test_results.csv"
      ]
     },
     "execution_count": 326,
     "metadata": {},
     "output_type": "execute_result"
    }
   ],
   "source": [
    "df_test[['patientId', 'PredictionString']].to_csv('../tmp/test_results.csv', index=False)\n",
    "FileLink('../tmp/test_results.csv')"
   ]
  },
  {
   "cell_type": "code",
   "execution_count": null,
   "metadata": {},
   "outputs": [],
   "source": []
  }
 ],
 "metadata": {
  "kernelspec": {
   "display_name": "Python 3",
   "language": "python",
   "name": "python3"
  },
  "language_info": {
   "codemirror_mode": {
    "name": "ipython",
    "version": 3
   },
   "file_extension": ".py",
   "mimetype": "text/x-python",
   "name": "python",
   "nbconvert_exporter": "python",
   "pygments_lexer": "ipython3",
   "version": "3.6.5"
  }
 },
 "nbformat": 4,
 "nbformat_minor": 2
}
