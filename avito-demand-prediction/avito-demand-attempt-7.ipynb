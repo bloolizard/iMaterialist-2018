{
 "cells": [
  {
   "cell_type": "code",
   "execution_count": 1,
   "metadata": {},
   "outputs": [],
   "source": [
    "from __future__ import division\n",
    "from sklearn.preprocessing import CategoricalEncoder\n",
    "from sklearn.preprocessing import LabelEncoder\n",
    "\n",
    "import torchvision.models as models\n",
    "from multiprocessing import Pool\n",
    "import time\n",
    "import numpy as np\n",
    "import pandas as pd\n",
    "import datetime as dt\n",
    "import os.path as dpath\n",
    "import matplotlib.pyplot as plt\n",
    "from os import listdir, makedirs, getcwd, remove\n",
    "from os.path import isfile, join, abspath, exists, isdir, expanduser\n",
    "from sklearn.model_selection import train_test_split\n",
    "from mpl_toolkits.axes_grid1 import ImageGrid\n",
    "from PIL import Image\n",
    "import torch\n",
    "from torch.optim import lr_scheduler\n",
    "from torch.autograd import Variable\n",
    "from torch.utils.data import Dataset, DataLoader\n",
    "import torchvision\n",
    "from torchvision import transforms, datasets, models\n",
    "import pdb\n",
    "from pathlib import Path\n",
    "import torch.optim as optim\n",
    "\n",
    "\n",
    "import torch.nn as nn\n",
    "import torch.nn.functional as F\n",
    "\n",
    "from IPython.display import FileLink, FileLinks\n",
    "\n",
    "\n",
    "%matplotlib inline\n",
    "\n",
    "from fastai.structured import *\n",
    "from fastai.column_data import *\n",
    "np.set_printoptions(threshold=50, edgeitems=20)"
   ]
  },
  {
   "cell_type": "code",
   "execution_count": 2,
   "metadata": {},
   "outputs": [],
   "source": [
    "path = \"/home/edwin/Datasets/competitions/avito-demand-prediction/\"\n",
    "PATH = Path(path)"
   ]
  },
  {
   "cell_type": "code",
   "execution_count": 3,
   "metadata": {},
   "outputs": [],
   "source": [
    "TRN_CSV = pd.read_csv(PATH/'train.csv')\n",
    "TRN_CSV_COPY = TRN_CSV.copy()\n",
    "\n",
    "TEST_CSV = pd.read_csv(PATH/'test.csv')\n",
    "TEST_CSV_COPY = TEST_CSV.copy()"
   ]
  },
  {
   "cell_type": "code",
   "execution_count": 4,
   "metadata": {},
   "outputs": [
    {
     "data": {
      "text/plain": [
       "1503424"
      ]
     },
     "execution_count": 4,
     "metadata": {},
     "output_type": "execute_result"
    }
   ],
   "source": [
    "n = len(TRN_CSV_COPY); n"
   ]
  },
  {
   "cell_type": "code",
   "execution_count": 5,
   "metadata": {},
   "outputs": [
    {
     "data": {
      "text/plain": [
       "508438"
      ]
     },
     "execution_count": 5,
     "metadata": {},
     "output_type": "execute_result"
    }
   ],
   "source": [
    "n_test = len(TEST_CSV_COPY); n_test"
   ]
  },
  {
   "cell_type": "code",
   "execution_count": 6,
   "metadata": {},
   "outputs": [],
   "source": [
    "idxs = get_cv_idxs(n, val_pct=15000/n)"
   ]
  },
  {
   "cell_type": "code",
   "execution_count": 8,
   "metadata": {},
   "outputs": [],
   "source": [
    "# ?? get_cv_idxs"
   ]
  },
  {
   "cell_type": "code",
   "execution_count": 9,
   "metadata": {},
   "outputs": [
    {
     "data": {
      "text/plain": [
       "15000"
      ]
     },
     "execution_count": 9,
     "metadata": {},
     "output_type": "execute_result"
    }
   ],
   "source": [
    "len(idxs)"
   ]
  },
  {
   "cell_type": "code",
   "execution_count": 12,
   "metadata": {},
   "outputs": [],
   "source": [
    "class AvitoDataset(Dataset):\n",
    "    def __init__(self, df):\n",
    "        self.df = df\n",
    "        self.n = len(df)\n",
    "        self.cont_vars = ['price']\n",
    "        self.cat_vars = ['region']\n",
    "        self.y_var = 'deal_probability'\n",
    "        \n",
    "        self.df_cont = df[self.cont_vars].fillna(0)\n",
    "        self.df_cat = df[self.cat_vars]\n",
    "        \n",
    "        for c in self.cont_vars:\n",
    "            self.df_cont[c] = self.df_cont[c].astype(\"float32\")\n",
    "        \n",
    "        for c in self.cat_vars:\n",
    "            self.df_cat[c] = self.df_cat[c].astype('category').cat.as_ordered()\n",
    "            \n",
    "        for n, c in self.df_cat.items():\n",
    "            self.df_cat[n] = self.df_cat[n].cat.codes+1\n",
    "            \n",
    "        self.conts = np.stack([c.values for n, c in self.df_cont.items()], 1).astype(np.float32)\n",
    "        self.cats = np.stack([c.values for n, c in self.df_cat.items()], 1).astype(np.int64)\n",
    "        \n",
    "        if self.y_var in df:\n",
    "            self.y = df['deal_probability'][:, None].astype(np.float32)\n",
    "        else:\n",
    "            self.y = np.zeros([self.n,1]).astype(np.float32)\n",
    "    \n",
    "    def __len__(self):\n",
    "        return len(self.y)\n",
    "    \n",
    "    def __getitem__(self, idx):\n",
    "        x_cat = self.cats[idx]\n",
    "        x_cont = self.conts[idx]\n",
    "        y = self.y[idx]\n",
    "        return [x_cat, x_cont, y]\n",
    "    "
   ]
  },
  {
   "cell_type": "code",
   "execution_count": 13,
   "metadata": {},
   "outputs": [],
   "source": [
    "n = len(TRN_CSV_COPY)"
   ]
  },
  {
   "cell_type": "code",
   "execution_count": 14,
   "metadata": {},
   "outputs": [],
   "source": [
    "train_ratio = 0.75"
   ]
  },
  {
   "cell_type": "code",
   "execution_count": 15,
   "metadata": {},
   "outputs": [
    {
     "data": {
      "text/plain": [
       "1127568"
      ]
     },
     "execution_count": 15,
     "metadata": {},
     "output_type": "execute_result"
    }
   ],
   "source": [
    "train_size = int(n * train_ratio); train_size"
   ]
  },
  {
   "cell_type": "code",
   "execution_count": 16,
   "metadata": {},
   "outputs": [],
   "source": [
    "val_idxs = list(range(train_size, n))"
   ]
  },
  {
   "cell_type": "code",
   "execution_count": 17,
   "metadata": {},
   "outputs": [
    {
     "data": {
      "text/plain": [
       "375856"
      ]
     },
     "execution_count": 17,
     "metadata": {},
     "output_type": "execute_result"
    }
   ],
   "source": [
    "len(TRN_CSV_COPY.iloc[val_idxs])"
   ]
  },
  {
   "cell_type": "code",
   "execution_count": 18,
   "metadata": {
    "scrolled": false
   },
   "outputs": [
    {
     "name": "stderr",
     "output_type": "stream",
     "text": [
      "/home/edwin/anaconda3/lib/python3.6/site-packages/ipykernel_launcher.py:16: SettingWithCopyWarning: \n",
      "A value is trying to be set on a copy of a slice from a DataFrame.\n",
      "Try using .loc[row_indexer,col_indexer] = value instead\n",
      "\n",
      "See the caveats in the documentation: http://pandas.pydata.org/pandas-docs/stable/indexing.html#indexing-view-versus-copy\n",
      "  app.launch_new_instance()\n",
      "/home/edwin/anaconda3/lib/python3.6/site-packages/ipykernel_launcher.py:19: SettingWithCopyWarning: \n",
      "A value is trying to be set on a copy of a slice from a DataFrame.\n",
      "Try using .loc[row_indexer,col_indexer] = value instead\n",
      "\n",
      "See the caveats in the documentation: http://pandas.pydata.org/pandas-docs/stable/indexing.html#indexing-view-versus-copy\n"
     ]
    },
    {
     "data": {
      "text/plain": [
       "[array([20]), array([ 400.], dtype=float32), array([ 0.12789], dtype=float32)]"
      ]
     },
     "execution_count": 18,
     "metadata": {},
     "output_type": "execute_result"
    }
   ],
   "source": [
    "train_ds = AvitoDataset(TRN_CSV_COPY); train_ds[0]"
   ]
  },
  {
   "cell_type": "code",
   "execution_count": 19,
   "metadata": {},
   "outputs": [
    {
     "name": "stderr",
     "output_type": "stream",
     "text": [
      "/home/edwin/anaconda3/lib/python3.6/site-packages/ipykernel_launcher.py:16: SettingWithCopyWarning: \n",
      "A value is trying to be set on a copy of a slice from a DataFrame.\n",
      "Try using .loc[row_indexer,col_indexer] = value instead\n",
      "\n",
      "See the caveats in the documentation: http://pandas.pydata.org/pandas-docs/stable/indexing.html#indexing-view-versus-copy\n",
      "  app.launch_new_instance()\n",
      "/home/edwin/anaconda3/lib/python3.6/site-packages/ipykernel_launcher.py:19: SettingWithCopyWarning: \n",
      "A value is trying to be set on a copy of a slice from a DataFrame.\n",
      "Try using .loc[row_indexer,col_indexer] = value instead\n",
      "\n",
      "See the caveats in the documentation: http://pandas.pydata.org/pandas-docs/stable/indexing.html#indexing-view-versus-copy\n"
     ]
    }
   ],
   "source": [
    "valid_ds = AvitoDataset(TRN_CSV_COPY.iloc[val_idxs])"
   ]
  },
  {
   "cell_type": "code",
   "execution_count": 20,
   "metadata": {
    "scrolled": true
   },
   "outputs": [
    {
     "name": "stderr",
     "output_type": "stream",
     "text": [
      "/home/edwin/anaconda3/lib/python3.6/site-packages/ipykernel_launcher.py:16: SettingWithCopyWarning: \n",
      "A value is trying to be set on a copy of a slice from a DataFrame.\n",
      "Try using .loc[row_indexer,col_indexer] = value instead\n",
      "\n",
      "See the caveats in the documentation: http://pandas.pydata.org/pandas-docs/stable/indexing.html#indexing-view-versus-copy\n",
      "  app.launch_new_instance()\n",
      "/home/edwin/anaconda3/lib/python3.6/site-packages/ipykernel_launcher.py:19: SettingWithCopyWarning: \n",
      "A value is trying to be set on a copy of a slice from a DataFrame.\n",
      "Try using .loc[row_indexer,col_indexer] = value instead\n",
      "\n",
      "See the caveats in the documentation: http://pandas.pydata.org/pandas-docs/stable/indexing.html#indexing-view-versus-copy\n"
     ]
    }
   ],
   "source": [
    "test_ds = AvitoDataset(TEST_CSV_COPY)"
   ]
  },
  {
   "cell_type": "code",
   "execution_count": 22,
   "metadata": {},
   "outputs": [],
   "source": [
    "train_dl = DataLoader(train_ds, batch_size=64, num_workers=1, shuffle=False)\n",
    "valid_dl = DataLoader(valid_ds, batch_size=64, num_workers=1, shuffle=False)\n",
    "test_dl = DataLoader(test_ds, batch_size=64, num_workers=1, shuffle=False)"
   ]
  },
  {
   "cell_type": "code",
   "execution_count": 32,
   "metadata": {},
   "outputs": [],
   "source": [
    "class AvitoMixedModel(nn.Module):\n",
    "    def __init__(self):\n",
    "        super().__init__()\n",
    "        self.embs = nn.ModuleList([nn.Embedding(29, 14)])\n",
    "        self.bn = nn.BatchNorm1d(1)\n",
    "        self.fc1 = nn.Linear(15, 100)\n",
    "        self.fc2 = nn.Linear(100, 1)\n",
    "        self.emb_drop = nn.Dropout(0.04)\n",
    "        \n",
    "    def forward(self, x_cat, x_cont):\n",
    "        x = [e(v_cat[:,i]) for i, e in enumerate(self.embs)]\n",
    "        x = torch.cat(x, 1)\n",
    "        x = self.emb_drop(x)\n",
    "        x2 = self.bn(x_cont)\n",
    "        x = torch.cat([x, x2], 1)\n",
    "        x = F.relu(self.fc1(x))\n",
    "        x = F.relu(self.fc2(x))\n",
    "        x = x*(1-0)\n",
    "        x = x+0\n",
    "        return x\n",
    "        "
   ]
  },
  {
   "cell_type": "code",
   "execution_count": 33,
   "metadata": {},
   "outputs": [],
   "source": [
    "model = AvitoMixedModel()"
   ]
  },
  {
   "cell_type": "code",
   "execution_count": 34,
   "metadata": {},
   "outputs": [
    {
     "data": {
      "text/plain": [
       "AvitoMixedModel(\n",
       "  (embs): ModuleList(\n",
       "    (0): Embedding(29, 14)\n",
       "  )\n",
       "  (bn): BatchNorm1d(1, eps=1e-05, momentum=0.1, affine=True)\n",
       "  (fc1): Linear(in_features=15, out_features=100, bias=True)\n",
       "  (fc2): Linear(in_features=100, out_features=1, bias=True)\n",
       "  (emb_drop): Dropout(p=0.04)\n",
       ")"
      ]
     },
     "execution_count": 34,
     "metadata": {},
     "output_type": "execute_result"
    }
   ],
   "source": [
    "model.cuda()"
   ]
  },
  {
   "cell_type": "code",
   "execution_count": 35,
   "metadata": {},
   "outputs": [],
   "source": [
    "lr = 1e-3"
   ]
  },
  {
   "cell_type": "code",
   "execution_count": 36,
   "metadata": {},
   "outputs": [
    {
     "data": {
      "text/plain": [
       "<torch.optim.adam.Adam at 0x7fc1b3aedb00>"
      ]
     },
     "execution_count": 36,
     "metadata": {},
     "output_type": "execute_result"
    }
   ],
   "source": [
    "optimizer = torch.optim.Adam(model.parameters(), lr=lr); optimizer"
   ]
  },
  {
   "cell_type": "code",
   "execution_count": 37,
   "metadata": {},
   "outputs": [],
   "source": [
    "criterion = nn.MSELoss()"
   ]
  },
  {
   "cell_type": "code",
   "execution_count": 42,
   "metadata": {},
   "outputs": [],
   "source": [
    "num_epochs = 15"
   ]
  },
  {
   "cell_type": "code",
   "execution_count": null,
   "metadata": {},
   "outputs": [],
   "source": [
    "# RMSE Error: Need to calculate 1/n sum(y - y_hat)^2 "
   ]
  },
  {
   "cell_type": "code",
   "execution_count": null,
   "metadata": {},
   "outputs": [],
   "source": [
    "# description\n",
    "# image quality"
   ]
  },
  {
   "cell_type": "code",
   "execution_count": 43,
   "metadata": {},
   "outputs": [
    {
     "name": "stdout",
     "output_type": "stream",
     "text": [
      "epoch: 0, i:0, loss:0.08286580443382263, accuracy:1.2837363245498277\n",
      "epoch: 0, i:5000, loss:0.07823343575000763, accuracy:1.2728278915329274\n",
      "epoch: 0, i:10000, loss:0.07147502899169922, accuracy:1.2063130560640245\n",
      "epoch: 0, i:15000, loss:0.056447580456733704, accuracy:1.1999276318590097\n",
      "epoch: 0, i:20000, loss:0.05895040184259415, accuracy:1.2635158145672811\n",
      "epoch: 1, i:0, loss:0.08273249119520187, accuracy:1.2619194585160274\n",
      "epoch: 1, i:5000, loss:0.07833738625049591, accuracy:1.3723340853944064\n",
      "epoch: 1, i:10000, loss:0.0709594190120697, accuracy:1.191679792260866\n",
      "epoch: 1, i:15000, loss:0.05659712105989456, accuracy:1.213496658294666\n",
      "epoch: 1, i:20000, loss:0.058524806052446365, accuracy:1.2260014473628198\n",
      "epoch: 2, i:0, loss:0.08266451954841614, accuracy:1.3135349708398962\n",
      "epoch: 2, i:5000, loss:0.07790608704090118, accuracy:1.3172598016261547\n",
      "epoch: 2, i:10000, loss:0.07058590650558472, accuracy:1.1491102975607679\n",
      "epoch: 2, i:15000, loss:0.056659404188394547, accuracy:1.4313992592907923\n",
      "epoch: 2, i:20000, loss:0.05846896022558212, accuracy:1.2020561065940147\n",
      "epoch: 3, i:0, loss:0.08264204114675522, accuracy:1.285598739942957\n",
      "epoch: 3, i:5000, loss:0.07808159291744232, accuracy:1.2701672981141714\n",
      "epoch: 3, i:10000, loss:0.0703859031200409, accuracy:1.1674683921501852\n",
      "epoch: 3, i:15000, loss:0.05649736896157265, accuracy:1.382178281043804\n",
      "epoch: 3, i:20000, loss:0.058368682861328125, accuracy:1.2515431441828786\n",
      "epoch: 4, i:0, loss:0.0822969377040863, accuracy:1.3353518368736963\n",
      "epoch: 4, i:5000, loss:0.07720229029655457, accuracy:1.2584606870716444\n",
      "epoch: 4, i:10000, loss:0.06950529664754868, accuracy:1.4109126899663702\n",
      "epoch: 4, i:15000, loss:0.05643698573112488, accuracy:1.4050593844451067\n",
      "epoch: 4, i:20000, loss:0.057922057807445526, accuracy:1.2765527223191862\n",
      "epoch: 5, i:0, loss:0.08269070088863373, accuracy:1.2941126388829765\n",
      "epoch: 5, i:5000, loss:0.07759672403335571, accuracy:1.2871950959942104\n",
      "epoch: 5, i:10000, loss:0.06958691775798798, accuracy:1.4122429866757482\n",
      "epoch: 5, i:15000, loss:0.05641182139515877, accuracy:1.3718019667106551\n",
      "epoch: 5, i:20000, loss:0.05782958120107651, accuracy:1.3100761993955132\n",
      "epoch: 6, i:0, loss:0.08263923227787018, accuracy:1.3228470478055425\n",
      "epoch: 6, i:5000, loss:0.07724475860595703, accuracy:1.2536716189178834\n",
      "epoch: 6, i:10000, loss:0.06971882283687592, accuracy:1.4231514196926482\n",
      "epoch: 6, i:15000, loss:0.05659572780132294, accuracy:1.3670128985568941\n",
      "epoch: 6, i:20000, loss:0.057797085493803024, accuracy:1.2866629773104594\n",
      "epoch: 7, i:0, loss:0.08281470090150833, accuracy:1.2935805201992252\n",
      "epoch: 7, i:5000, loss:0.0773344337940216, accuracy:1.275222425609808\n",
      "epoch: 7, i:10000, loss:0.06993670761585236, accuracy:1.4133072240432507\n",
      "epoch: 7, i:15000, loss:0.05637865886092186, accuracy:1.3510493380443573\n",
      "epoch: 7, i:20000, loss:0.057885970920324326, accuracy:1.2648461112766591\n",
      "epoch: 8, i:0, loss:0.08287893235683441, accuracy:1.3207185730705377\n",
      "epoch: 8, i:5000, loss:0.07726791501045227, accuracy:1.2837363245498277\n",
      "epoch: 8, i:10000, loss:0.06981167197227478, accuracy:1.3976097228725894\n",
      "epoch: 8, i:15000, loss:0.05651988089084625, accuracy:1.3702056106594014\n",
      "epoch: 8, i:20000, loss:0.05777578055858612, accuracy:1.2714975948235494\n",
      "epoch: 9, i:0, loss:0.08274029195308685, accuracy:1.3302967093780598\n",
      "epoch: 9, i:5000, loss:0.07704958319664001, accuracy:1.3010301817717425\n",
      "epoch: 9, i:10000, loss:0.06987398117780685, accuracy:1.3981418415563407\n",
      "epoch: 9, i:15000, loss:0.05643099173903465, accuracy:1.3388106083180793\n",
      "epoch: 9, i:20000, loss:0.057804230600595474, accuracy:1.2688370014047934\n",
      "epoch: 10, i:0, loss:0.08269628882408142, accuracy:1.3215167510961645\n",
      "epoch: 10, i:5000, loss:0.07740481942892075, accuracy:1.3164616236005278\n",
      "epoch: 10, i:10000, loss:0.06979764252901077, accuracy:1.4018666723425992\n",
      "epoch: 10, i:15000, loss:0.056577615439891815, accuracy:1.3475905665999746\n",
      "epoch: 10, i:20000, loss:0.05780148506164551, accuracy:1.2440934826103613\n",
      "epoch: 11, i:0, loss:0.08275459706783295, accuracy:1.3324251841130645\n",
      "epoch: 11, i:5000, loss:0.0774461105465889, accuracy:1.2661764079860371\n",
      "epoch: 11, i:10000, loss:0.06992785632610321, accuracy:1.4010684943169724\n",
      "epoch: 11, i:15000, loss:0.05647371709346771, accuracy:1.351315397386233\n",
      "epoch: 11, i:20000, loss:0.057756971567869186, accuracy:1.2571303903622664\n",
      "epoch: 12, i:0, loss:0.08270898461341858, accuracy:1.3292324720105573\n",
      "epoch: 12, i:5000, loss:0.07721913605928421, accuracy:1.2975714103273595\n",
      "epoch: 12, i:10000, loss:0.06971447914838791, accuracy:1.387765527223192\n",
      "epoch: 12, i:15000, loss:0.056589867919683456, accuracy:1.3345536588480695\n",
      "epoch: 12, i:20000, loss:0.05774528533220291, accuracy:1.2571303903622664\n",
      "epoch: 13, i:0, loss:0.08283229172229767, accuracy:1.326571878591801\n",
      "epoch: 13, i:5000, loss:0.0774288922548294, accuracy:1.288259333361713\n",
      "epoch: 13, i:10000, loss:0.0700669065117836, accuracy:1.3694074326337746\n",
      "epoch: 13, i:15000, loss:0.056464582681655884, accuracy:1.3531778127793623\n",
      "epoch: 13, i:20000, loss:0.057774778455495834, accuracy:1.2675067046954154\n",
      "epoch: 14, i:0, loss:0.08285978436470032, accuracy:1.2975714103273595\n",
      "epoch: 14, i:5000, loss:0.07739134132862091, accuracy:1.2879932740198374\n",
      "epoch: 14, i:10000, loss:0.06974735856056213, accuracy:1.3827103997275552\n",
      "epoch: 14, i:15000, loss:0.05648466944694519, accuracy:1.3454620918649696\n",
      "epoch: 14, i:20000, loss:0.05788896232843399, accuracy:1.2448916606359883\n",
      "Finished Training\n"
     ]
    }
   ],
   "source": [
    "for epoch in range(num_epochs):    \n",
    "    for i, data in enumerate(train_dl,0):\n",
    "        x_cat, x_cont, y = data\n",
    "        v_cat = Variable(x_cat.cuda()); v_cont = Variable(x_cont.cuda()); vy = Variable(y.cuda());\n",
    "\n",
    "        optimizer.zero_grad()\n",
    "\n",
    "        outputs = model(v_cat, v_cont)\n",
    "        loss = criterion(outputs, vy)\n",
    "        loss.backward()\n",
    "        optimizer.step()\n",
    "        if i % 5000 == 0:\n",
    "            total = 0\n",
    "            correct = 0\n",
    "            for data in valid_dl:\n",
    "                x_cat, x_cont, y = data\n",
    "                v_cat = Variable(x_cat.cuda()); v_cont = Variable(x_cont.cuda()); vy = Variable(y.cuda());\n",
    "                outputs = model(v_cat, v_cont)\n",
    "                total += vy.size(0)\n",
    "                correct += ((outputs >= (vy-0.05*vy)) & (outputs <= (vy+0.05*vy))).data.cpu().numpy().sum()\n",
    "            accuracy = 100 * correct / total\n",
    "            print(\"epoch: {}, i:{}, loss:{}, valid accuracy:{} {}/{}\".format(epoch, i,loss.data[0], \n",
    "                                                                             accuracy, correct / total))    \n",
    "print(\"Finished Training\")"
   ]
  },
  {
   "cell_type": "code",
   "execution_count": 58,
   "metadata": {},
   "outputs": [
    {
     "data": {
      "text/plain": [
       "AvitoMixedModel(\n",
       "  (embs): ModuleList(\n",
       "    (0): Embedding(29, 14)\n",
       "  )\n",
       "  (bn): BatchNorm1d(1, eps=1e-05, momentum=0.1, affine=True)\n",
       "  (fc1): Linear(in_features=15, out_features=100, bias=True)\n",
       "  (fc2): Linear(in_features=100, out_features=1, bias=True)\n",
       "  (emb_drop): Dropout(p=0.04)\n",
       ")"
      ]
     },
     "execution_count": 58,
     "metadata": {},
     "output_type": "execute_result"
    }
   ],
   "source": [
    "model"
   ]
  },
  {
   "cell_type": "code",
   "execution_count": 60,
   "metadata": {},
   "outputs": [],
   "source": [
    "torch.save(model.state_dict(), 'weights_0520.pkl')"
   ]
  },
  {
   "cell_type": "code",
   "execution_count": 67,
   "metadata": {},
   "outputs": [],
   "source": [
    "res = []\n",
    "for i, data in enumerate(test_dl, 0):\n",
    "    x_cat, x_cont, y = data\n",
    "    v_cat = Variable(x_cat.cuda()); v_cont = Variable(x_cont.cuda()); vy = Variable(y.cuda());\n",
    "    outputs = model(v_cat, v_cont)\n",
    "    res.append(outputs.data.cpu().numpy())\n",
    "predictions = np.concatenate(res).ravel()"
   ]
  },
  {
   "cell_type": "code",
   "execution_count": 69,
   "metadata": {},
   "outputs": [
    {
     "data": {
      "text/html": [
       "<a href='new_submission.csv' target='_blank'>new_submission.csv</a><br>"
      ],
      "text/plain": [
       "/home/edwin/Developer/iMaterial/avito-demand-prediction/new_submission.csv"
      ]
     },
     "execution_count": 69,
     "metadata": {},
     "output_type": "execute_result"
    }
   ],
   "source": [
    "NEW_SUBMIT_CSV = pd.DataFrame()\n",
    "NEW_SUBMIT_CSV['item_id'] = TEST_CSV_COPY.item_id.values\n",
    "NEW_SUBMIT_CSV['deal_probability'] = predictions\n",
    "NEW_SUBMIT_CSV.to_csv('new_submission.csv', index=False)\n",
    "FileLink('new_submission.csv')"
   ]
  },
  {
   "cell_type": "code",
   "execution_count": null,
   "metadata": {},
   "outputs": [],
   "source": []
  }
 ],
 "metadata": {
  "kernelspec": {
   "display_name": "Python 3",
   "language": "python",
   "name": "python3"
  },
  "language_info": {
   "codemirror_mode": {
    "name": "ipython",
    "version": 3
   },
   "file_extension": ".py",
   "mimetype": "text/x-python",
   "name": "python",
   "nbconvert_exporter": "python",
   "pygments_lexer": "ipython3",
   "version": "3.6.1"
  }
 },
 "nbformat": 4,
 "nbformat_minor": 2
}
